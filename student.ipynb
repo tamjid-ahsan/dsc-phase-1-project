{
 "cells": [
  {
   "cell_type": "markdown",
   "metadata": {},
   "source": [
    "Final Project Submission\n",
    "\n",
    ">* Student name: Tamjid Ahsan\n",
    ">* Student pace: full time\n",
    ">* Scheduled project review date/time: \n",
    ">* Instructor name: James Irving\n",
    ">* Blog post URL:"
   ]
  },
  {
   "cell_type": "markdown",
   "metadata": {
    "heading_collapsed": true
   },
   "source": [
    "# Business Problem"
   ]
  },
  {
   "cell_type": "markdown",
   "metadata": {
    "hidden": true
   },
   "source": [
    "Microsoft sees all the big companies creating original video content and they want to get in on the fun. They have decided to create a new movie studio, but they don’t know anything about creating movies. I am going to try to figure out what types of films are currently doing the best at the box office. I shall remommend some actionable insights based on findings so that the head of Microsoft's new movie studio can use to help decide what type of films to create."
   ]
  },
  {
   "cell_type": "markdown",
   "metadata": {},
   "source": [
    "# The Data"
   ]
  },
  {
   "cell_type": "markdown",
   "metadata": {},
   "source": [
    "Data is collected from IMDB website https://datasets.imdbws.com from downloadables and scraping. Additional data collected from TMDb using API."
   ]
  },
  {
   "cell_type": "markdown",
   "metadata": {},
   "source": [
    "## From TMDb API"
   ]
  },
  {
   "cell_type": "code",
   "execution_count": null,
   "metadata": {},
   "outputs": [],
   "source": [
    "import json\n",
    "import requests\n",
    "import pandas as pd\n",
    "import time\n",
    "from pandas.core.common import flatten"
   ]
  },
  {
   "cell_type": "code",
   "execution_count": null,
   "metadata": {},
   "outputs": [],
   "source": [
    "def get_keys(path):\n",
    "    with open(path) as f:\n",
    "        return json.load(f)"
   ]
  },
  {
   "cell_type": "code",
   "execution_count": null,
   "metadata": {},
   "outputs": [],
   "source": [
    "keys = get_keys(\"/Users/tamji/.secret/tmdb_api.json\")\n",
    "api_key = keys['api_key']"
   ]
  },
  {
   "cell_type": "code",
   "execution_count": null,
   "metadata": {},
   "outputs": [],
   "source": [
    "import tmdbsimple as tmdb\n",
    "tmdb.API_KEY = api_key"
   ]
  },
  {
   "cell_type": "code",
   "execution_count": null,
   "metadata": {},
   "outputs": [],
   "source": [
    "movie_titles_df=pd.read_csv(r'~/OneDrive/DS/project/ta/movie_main_df_sliced.csv', usecols=[\"tconst\"])"
   ]
  },
  {
   "cell_type": "code",
   "execution_count": null,
   "metadata": {},
   "outputs": [],
   "source": [
    "imdb_titles = list(flatten(movie_titles_df.values.tolist()))"
   ]
  },
  {
   "cell_type": "code",
   "execution_count": null,
   "metadata": {},
   "outputs": [],
   "source": [
    "len(imdb_titles)"
   ]
  },
  {
   "cell_type": "code",
   "execution_count": null,
   "metadata": {},
   "outputs": [],
   "source": [
    "df = pd.DataFrame()"
   ]
  },
  {
   "cell_type": "code",
   "execution_count": null,
   "metadata": {},
   "outputs": [],
   "source": [
    "for imdb_id in imdb_titles:    \n",
    "    try:\n",
    "        movie = tmdb.Movies(imdb_id)\n",
    "        response = movie.info()\n",
    "        df = df.append(pd.json_normalize(movie.info()))\n",
    "    except:\n",
    "        pass"
   ]
  },
  {
   "cell_type": "code",
   "execution_count": null,
   "metadata": {},
   "outputs": [],
   "source": [
    "df = df.reset_index()"
   ]
  },
  {
   "cell_type": "code",
   "execution_count": null,
   "metadata": {},
   "outputs": [],
   "source": [
    "df = df.drop(columns=['index'])"
   ]
  },
  {
   "cell_type": "code",
   "execution_count": null,
   "metadata": {},
   "outputs": [],
   "source": [
    "df.to_csv(r'~/OneDrive/DS/project/ta/df1.csv')"
   ]
  },
  {
   "cell_type": "code",
   "execution_count": null,
   "metadata": {},
   "outputs": [],
   "source": []
  },
  {
   "cell_type": "code",
   "execution_count": null,
   "metadata": {},
   "outputs": [],
   "source": []
  },
  {
   "cell_type": "markdown",
   "metadata": {},
   "source": [
    "## from IMDb"
   ]
  },
  {
   "cell_type": "markdown",
   "metadata": {},
   "source": [
    "### Scraping"
   ]
  },
  {
   "cell_type": "code",
   "execution_count": null,
   "metadata": {},
   "outputs": [],
   "source": [
    "from selenium import webdriver\n",
    "from selenium.webdriver.common.keys import Keys\n",
    "from selenium.webdriver.support import expected_conditions as EC\n",
    "from selenium.webdriver.common.by import By\n",
    "from selenium.webdriver.support.wait import WebDriverWait\n",
    "import os\n",
    "import wget\n",
    "import pandas as pd"
   ]
  },
  {
   "cell_type": "code",
   "execution_count": null,
   "metadata": {},
   "outputs": [],
   "source": [
    "driver = webdriver.Chrome('C:/Users/tamji/Documents/PATH/chromedriver.exe')"
   ]
  },
  {
   "cell_type": "code",
   "execution_count": null,
   "metadata": {},
   "outputs": [],
   "source": [
    "base_url_string = 'https://www.boxofficemojo.com/year/world/'\n",
    "list_of_year = np.arange(2007, 2021, 1)"
   ]
  },
  {
   "cell_type": "code",
   "execution_count": null,
   "metadata": {},
   "outputs": [],
   "source": [
    "%%time\n",
    "print(f'+' * 100)\n",
    "file_names_ = []\n",
    "file_names_error = []\n",
    "for im in list_of_year:\n",
    "    print(f'Working on {im}')\n",
    "    url = f'{base_url_string}{im}/'\n",
    "    print(f'Getting {im} homepage')\n",
    "    driver.get(url)\n",
    "    table = driver.find_element_by_xpath('//*[@id=\"table\"]/div/table[2]')\n",
    "    item_href = driver.find_elements_by_class_name('a-link-normal')\n",
    "    print(f'Getting {im} list items')\n",
    "    item_href = [item.get_property('href') for item in item_href]\n",
    "    print(f'Sorting what to keep from {im} list items')\n",
    "    text_to_check = 'releasegroup'\n",
    "    to_keep = []\n",
    "    to_discard = []\n",
    "    for i in item_href:\n",
    "        if text_to_check in i:\n",
    "            to_keep.append(i)\n",
    "        else:\n",
    "            to_discard.append(i)\n",
    "    print(f'Preping {im} list items for looping')\n",
    "    href = to_keep[:3]\n",
    "    master_list = []\n",
    "    error = []\n",
    "    print(f'{im} list items are looping. Hang in there!')\n",
    "    for item in href:\n",
    "        try:\n",
    "            driver.get(item)\n",
    "            url = driver.find_element_by_xpath(\n",
    "                '//*[@id=\"title-summary-refiner\"]/a').get_property('href')\n",
    "            name = driver.find_element_by_xpath(\n",
    "                '//*[@id=\"a-page\"]/main/div/div[1]/div[1]/div/div/div[2]/h1'\n",
    "            ).text\n",
    "\n",
    "            driver.get(url)\n",
    "            year = driver.find_element_by_xpath(\n",
    "                '//*[@id=\"a-page\"]/main/div/div[1]/div[1]/div/div/div[2]/div/h1/span'\n",
    "            ).text\n",
    "            worldwide = driver.find_element_by_xpath(\n",
    "                '//*[@id=\"a-page\"]/main/div/div[3]/div[1]/div/div[3]/span[2]/span'\n",
    "            ).text\n",
    "            international = driver.find_element_by_xpath(\n",
    "                '//*[@id=\"a-page\"]/main/div/div[3]/div[1]/div/div[2]/span[2]'\n",
    "            ).text\n",
    "            domestic = driver.find_element_by_xpath(\n",
    "                '//*[@id=\"a-page\"]/main/div/div[3]/div[1]/div/div[1]/span[2]'\n",
    "            ).text\n",
    "\n",
    "            year_cleaned = year.strip('()')\n",
    "            world_collection = worldwide[1:].replace(\",\", \"\")\n",
    "            international_collection = international[1:].replace(\",\", \"\")\n",
    "            domestic_collection = domestic[1:].replace(\",\", \"\")\n",
    "            imdb_code = url.split('/')[4]\n",
    "\n",
    "            temp_dict = {\n",
    "                'imdb_code': imdb_code,\n",
    "                'name': name,\n",
    "                'year': year_cleaned,\n",
    "                'world_collection': world_collection,\n",
    "                'int_collection': international_collection,\n",
    "                'dom_collection': domestic_collection,\n",
    "                'url': url\n",
    "            }\n",
    "            master_list.append(temp_dict)\n",
    "        except:\n",
    "            error.append(item)\n",
    "            continue\n",
    "\n",
    "    df = pd.DataFrame(master_list)\n",
    "    file_name_df = f'{im}.csv'\n",
    "    df.to_csv(file_name_df, index=False)\n",
    "    dict_ = {'urls': error}\n",
    "    file_name_error = f'{im}_error.csv'\n",
    "    pd.DataFrame(dict_).to_csv(file_name_error, index=False)\n",
    "    file_names_.append(file_name_df)\n",
    "    file_names_error.append(file_name_error)\n",
    "    print(f'Finished working on {im}\\n')\n",
    "    print(f'+' * 100)\n",
    "print(f'\\n\\n\\nDONE Looping. Cleanig data!!!')\n",
    "\n",
    "combined_csv_data = pd.concat([pd.read_csv(f) for f in file_names_])\n",
    "combined_csv_data_error = pd.concat([pd.read_csv(f) for f in file_names_error])\n",
    "\n",
    "combined_csv_data.reset_index(inplace=True)\n",
    "combined_csv_data_error.reset_index(inplace=True)\n",
    "\n",
    "combined_csv_data=combined_csv_data.drop(columns='index')\n",
    "combined_csv_data_error=combined_csv_data_error.drop(columns='index')\n",
    "\n",
    "combined_csv_data = combined_csv_data.drop_duplicates('imdb_code', ignore_index=True)\n",
    "\n",
    "file_name_1 = f'{list_of_year[0]}to{list_of_year[-1]}.csv'\n",
    "file_name_2 = f'{list_of_year[0]}to{list_of_year[-1]}_error.csv'\n",
    "combined_csv_data.to_csv(file_name_1, index=False)\n",
    "combined_csv_data_error.to_csv(file_name_2, index=False)\n",
    "\n",
    "print(f'\\n\\n\\nDONE!!!')\n",
    "print(f'+' * 100)\n",
    "print(f'+' * 100)"
   ]
  },
  {
   "cell_type": "markdown",
   "metadata": {},
   "source": [
    "### dataset from website"
   ]
  },
  {
   "cell_type": "markdown",
   "metadata": {},
   "source": [
    "file containing detailed movie info inside title.basics.tsv.gz was downloaded from https://datasets.imdbws.com/title.basics.tsv.gz"
   ]
  },
  {
   "cell_type": "markdown",
   "metadata": {},
   "source": [
    "# Cleaning"
   ]
  },
  {
   "cell_type": "markdown",
   "metadata": {},
   "source": [
    "## IMDb"
   ]
  },
  {
   "cell_type": "code",
   "execution_count": null,
   "metadata": {},
   "outputs": [],
   "source": [
    "%%time\n",
    "df_1 = pd.read_csv(r'~\\OneDrive\\DS\\project\\ta\\data.tsv',\n",
    "                   delimiter='\\t',\n",
    "                   low_memory=False)"
   ]
  },
  {
   "cell_type": "code",
   "execution_count": null,
   "metadata": {},
   "outputs": [],
   "source": [
    "df_1['titleType'].value_counts()"
   ]
  },
  {
   "cell_type": "code",
   "execution_count": null,
   "metadata": {},
   "outputs": [],
   "source": [
    "%%time\n",
    "movie_df = df_1[df_1['titleType'] == 'movie']\n",
    "\n",
    "movie_df = movie_df[movie_df['isAdult'] == '0']\n",
    "movie_df.loc[movie_df['runtimeMinutes'] == r'\\N', 'runtimeMinutes'] = np.nan\n",
    "movie_df.loc[movie_df['startYear'] == r'\\N', 'startYear'] = np.nan\n",
    "movie_df.loc[movie_df['genres'] == r'\\N', 'genres'] = np.nan\n",
    "movie_df.loc[movie_df['genres'].isna(), 'genres'] = \"NoInfo\"\n",
    "movie_df = movie_df[~movie_df['startYear'].isna()]\n",
    "\n",
    "movie_df = movie_df.reset_index()\n",
    "movie_df = movie_df.drop(['index', 'titleType', 'endYear', 'isAdult'], axis=1)\n",
    "\n",
    "movie_df.to_csv(r'~\\OneDrive\\DS\\project\\ta\\movie_df.csv', index=False)\n",
    "movie_df"
   ]
  },
  {
   "cell_type": "code",
   "execution_count": null,
   "metadata": {},
   "outputs": [],
   "source": [
    "%%time\n",
    "# getting preliminary unique list for cleaning\n",
    "genres = list(movie_df['genres'].unique())\n",
    "# temp list to store list of splited genre\n",
    "genre_cleaning_temp = []\n",
    "# getting list of splited genre\n",
    "for item in genres:\n",
    "    # for dealing with nan\n",
    "    if type(item) is not float:\n",
    "        # actual spliting\n",
    "        genre_split = item.split(\",\")\n",
    "        # appending\n",
    "        genre_cleaning_temp.extend(genre_split)\n",
    "# geting unique list\n",
    "from pandas.core.common import flatten\n",
    "# flattening temp list\n",
    "## https://stackoverflow.com/questions/12897374/get-unique-values-from-a-list-in-python by https://stackoverflow.com/users/2062318/todor ##\n",
    "## https://saralgyaan.com/posts/nested-list-to-list-python-in-just-three-lines-of-code/ ##\n",
    "genre_cleaning_temp = list(flatten(genre_cleaning_temp))\n",
    "# unique genre list\n",
    "unique_genre = list(dict.fromkeys(genre_cleaning_temp))\n",
    "unique_genre"
   ]
  },
  {
   "cell_type": "code",
   "execution_count": null,
   "metadata": {},
   "outputs": [],
   "source": [
    "%%time\n",
    "movie_genre_df = pd.DataFrame([[(x in y) for x in unique_genre]\n",
    "                               for y in movie_df['genres']],\n",
    "                              columns=unique_genre)"
   ]
  },
  {
   "cell_type": "code",
   "execution_count": null,
   "metadata": {},
   "outputs": [],
   "source": [
    "movie_main_df = pd.concat([movie_df, movie_genre_df], axis=1)"
   ]
  },
  {
   "cell_type": "code",
   "execution_count": null,
   "metadata": {},
   "outputs": [],
   "source": [
    "movie_main_df = movie_main_df.convert_dtypes()"
   ]
  },
  {
   "cell_type": "code",
   "execution_count": null,
   "metadata": {},
   "outputs": [],
   "source": [
    "movie_main_df['startYear'] = movie_main_df['startYear'].astype('int')\n",
    "movie_main_df['runtimeMinutes'].fillna('0', inplace=True)\n",
    "movie_main_df['runtimeMinutes'] = movie_main_df['runtimeMinutes'].astype('int')"
   ]
  },
  {
   "cell_type": "code",
   "execution_count": null,
   "metadata": {},
   "outputs": [],
   "source": [
    "movie_main_df['startYear'].sort_values().unique()"
   ]
  },
  {
   "cell_type": "code",
   "execution_count": null,
   "metadata": {},
   "outputs": [],
   "source": [
    "movie_main_df_sliced = movie_main_df[(movie_main_df['startYear'] >= 2007)\n",
    "                                     & (movie_main_df['startYear'] <= 2021)]"
   ]
  },
  {
   "cell_type": "code",
   "execution_count": null,
   "metadata": {},
   "outputs": [],
   "source": [
    "movie_main_df_sliced.describe()"
   ]
  },
  {
   "cell_type": "code",
   "execution_count": null,
   "metadata": {},
   "outputs": [],
   "source": [
    "to_drop = [\n",
    "    'Documentary', 'Short', 'Adult', 'Reality-TV', 'Game-Show', 'Talk-Show',\n",
    "    'News', 'Film-Noir'\n",
    "]"
   ]
  },
  {
   "cell_type": "code",
   "execution_count": null,
   "metadata": {},
   "outputs": [],
   "source": [
    "for item in to_drop:\n",
    "    movie_main_df_sliced=movie_main_df_sliced[~movie_main_df_sliced[item].eq(1)]"
   ]
  },
  {
   "cell_type": "code",
   "execution_count": null,
   "metadata": {},
   "outputs": [],
   "source": [
    "movie_main_df_sliced"
   ]
  },
  {
   "cell_type": "code",
   "execution_count": null,
   "metadata": {},
   "outputs": [],
   "source": [
    "for item in to_drop:\n",
    "    movie_main_df_sliced=movie_main_df_sliced.drop(columns=item,axis=1)"
   ]
  },
  {
   "cell_type": "code",
   "execution_count": null,
   "metadata": {},
   "outputs": [],
   "source": [
    "movie_main_df_sliced.to_csv('movie_main_df_sliced.csv',index = False)"
   ]
  },
  {
   "cell_type": "markdown",
   "metadata": {},
   "source": [
    "## merging with others sources"
   ]
  },
  {
   "cell_type": "code",
   "execution_count": null,
   "metadata": {},
   "outputs": [],
   "source": [
    "imdb_df = pd.read_csv('movie_main_df_sliced.csv')\n",
    "bom_df = pd.read_csv('imdb_07to21_cleaned.csv')\n",
    "tmdb_df = pd.read_csv('tmdb_parsd.csv')\n",
    "tmdb_df = tmdb_df.drop(tmdb_df.columns[0:4], axis=1)"
   ]
  },
  {
   "cell_type": "code",
   "execution_count": null,
   "metadata": {},
   "outputs": [],
   "source": [
    "merge_1 = pd.merge(imdb_df,\n",
    "                   bom_df,\n",
    "                   how='left',\n",
    "                   left_on='tconst',\n",
    "                   right_on='imdb_code')"
   ]
  },
  {
   "cell_type": "code",
   "execution_count": null,
   "metadata": {},
   "outputs": [],
   "source": [
    "tmdb_df.columns"
   ]
  },
  {
   "cell_type": "code",
   "execution_count": null,
   "metadata": {},
   "outputs": [],
   "source": [
    "filter_list = [\n",
    "    'imdb_id', 'title', 'budget', 'revenue', 'release_date',\n",
    "    'production_companies', 'popularity', 'vote_average', 'vote_count',\n",
    "    'overview', 'belongs_to_collection.name'\n",
    "]"
   ]
  },
  {
   "cell_type": "code",
   "execution_count": null,
   "metadata": {},
   "outputs": [],
   "source": [
    "tmdb_df_reduced = tmdb_df[filter_list]"
   ]
  },
  {
   "cell_type": "code",
   "execution_count": null,
   "metadata": {},
   "outputs": [],
   "source": [
    "merge_2 = pd.merge(merge_1,\n",
    "                   tmdb_df_reduced,\n",
    "                   how='inner',\n",
    "                   left_on='tconst',\n",
    "                   right_on='imdb_id')"
   ]
  },
  {
   "cell_type": "code",
   "execution_count": null,
   "metadata": {},
   "outputs": [],
   "source": [
    "df = merge_2.copy()\n",
    "pd.set_option('display.max_columns', len(df.columns))"
   ]
  },
  {
   "cell_type": "code",
   "execution_count": null,
   "metadata": {},
   "outputs": [],
   "source": [
    "# cleaning"
   ]
  },
  {
   "cell_type": "code",
   "execution_count": null,
   "metadata": {},
   "outputs": [],
   "source": [
    "rearrange = [\n",
    "    'tconst', 'imdb_code', 'imdb_id', 'primaryTitle', 'originalTitle', 'name',\n",
    "    'title', 'startYear', 'year', 'release_date', 'runtimeMinutes', 'budget',\n",
    "    'revenue', 'world_collection', 'int_collection', 'dom_collection',\n",
    "    'production_companies', 'popularity', 'vote_average', 'vote_count',\n",
    "    'overview', 'belongs_to_collection.name', 'genres', 'NoInfo', 'Action',\n",
    "    'Adventure', 'Biography', 'Drama', 'Fantasy', 'Comedy', 'War', 'Crime',\n",
    "    'Romance', 'Family', 'History', 'Sci-Fi', 'Thriller', 'Western', 'Sport',\n",
    "    'Mystery', 'Horror', 'Music', 'Animation', 'Musical', 'url'\n",
    "]\n",
    "df = df[rearrange]"
   ]
  },
  {
   "cell_type": "markdown",
   "metadata": {},
   "source": [
    "filtering order: \n",
    "1. financial data\n",
    "2. year\n",
    "3.  review data\n"
   ]
  },
  {
   "cell_type": "code",
   "execution_count": null,
   "metadata": {},
   "outputs": [],
   "source": [
    "df['revenue'].sort_values().value_counts()"
   ]
  },
  {
   "cell_type": "code",
   "execution_count": null,
   "metadata": {},
   "outputs": [],
   "source": [
    "df['world_collection'].isna().value_counts()"
   ]
  },
  {
   "cell_type": "code",
   "execution_count": null,
   "metadata": {},
   "outputs": [],
   "source": [
    "((df['revenue']!=0)&(df['world_collection'].isna())).value_counts()"
   ]
  },
  {
   "cell_type": "code",
   "execution_count": null,
   "metadata": {},
   "outputs": [],
   "source": [
    "condition_1 = (df['revenue']!=0)"
   ]
  },
  {
   "cell_type": "code",
   "execution_count": null,
   "metadata": {},
   "outputs": [],
   "source": [
    "condition_2 = ~df['world_collection'].isna()"
   ]
  },
  {
   "cell_type": "code",
   "execution_count": null,
   "metadata": {},
   "outputs": [],
   "source": [
    "df = df[condition_1 | condition_2]"
   ]
  },
  {
   "cell_type": "code",
   "execution_count": null,
   "metadata": {},
   "outputs": [],
   "source": [
    "df"
   ]
  },
  {
   "cell_type": "code",
   "execution_count": null,
   "metadata": {},
   "outputs": [],
   "source": [
    "df.loc[:,['world_collection']] = df[['revenue','world_collection']].max(axis=1)"
   ]
  },
  {
   "cell_type": "code",
   "execution_count": null,
   "metadata": {},
   "outputs": [],
   "source": [
    "drop_list = [\n",
    "    'tconst', 'imdb_id', 'index','name', 'title', 'year', 'revenue', 'url'\n",
    "]"
   ]
  },
  {
   "cell_type": "code",
   "execution_count": null,
   "metadata": {},
   "outputs": [],
   "source": [
    "df = df.reset_index()"
   ]
  },
  {
   "cell_type": "code",
   "execution_count": null,
   "metadata": {},
   "outputs": [],
   "source": [
    "df = df.drop(columns=drop_list)"
   ]
  },
  {
   "cell_type": "code",
   "execution_count": null,
   "metadata": {},
   "outputs": [],
   "source": [
    "df[\"release_date\"] = pd.to_datetime(df[\"release_date\"]) "
   ]
  },
  {
   "cell_type": "code",
   "execution_count": null,
   "metadata": {},
   "outputs": [],
   "source": [
    "# dealing with nested data"
   ]
  },
  {
   "cell_type": "code",
   "execution_count": null,
   "metadata": {},
   "outputs": [],
   "source": [
    "df1 = df.copy()"
   ]
  },
  {
   "cell_type": "code",
   "execution_count": null,
   "metadata": {},
   "outputs": [],
   "source": [
    "df1 = df1[['imdb_code','production_companies']]"
   ]
  },
  {
   "cell_type": "code",
   "execution_count": null,
   "metadata": {},
   "outputs": [],
   "source": [
    "df1_dict=df1.to_dict()"
   ]
  },
  {
   "cell_type": "code",
   "execution_count": null,
   "metadata": {},
   "outputs": [],
   "source": [
    "df1_dict.keys()"
   ]
  },
  {
   "cell_type": "code",
   "execution_count": null,
   "metadata": {},
   "outputs": [],
   "source": [
    "# https://stackoverflow.com/questions/39807724/extract-python-dictionary-from-string by https://stackoverflow.com/users/3734244/danidee\n",
    "import re\n",
    "import ast"
   ]
  },
  {
   "cell_type": "code",
   "execution_count": null,
   "metadata": {},
   "outputs": [],
   "source": [
    "def get_list(string):\n",
    "    x = ast.literal_eval(re.search('({.+})', string).group(0))\n",
    "    return x"
   ]
  },
  {
   "cell_type": "code",
   "execution_count": null,
   "metadata": {},
   "outputs": [],
   "source": [
    "temp = []\n",
    "ty = []\n",
    "for item in df1_dict['production_companies']:\n",
    "    x = df1_dict['production_companies'][item]\n",
    "    try:\n",
    "        temp.append(get_list(x))\n",
    "    except:\n",
    "        temp.append(ty)"
   ]
  },
  {
   "cell_type": "code",
   "execution_count": null,
   "metadata": {},
   "outputs": [],
   "source": [
    "temp"
   ]
  },
  {
   "cell_type": "code",
   "execution_count": null,
   "metadata": {},
   "outputs": [],
   "source": [
    "temp_li = []\n",
    "\n",
    "for i in temp:\n",
    "    if type(i) == tuple:\n",
    "        lli = []\n",
    "        for y in i:\n",
    "            lli.append(y['name'])\n",
    "        code = ', '.join(lli)\n",
    "        temp_dict = {\n",
    "            'production_comp': code,\n",
    "        }   \n",
    "        temp_li.append(temp_dict)\n",
    "    elif type(i) == dict:\n",
    "#         print(i['name'])\n",
    "        code = i['name']\n",
    "        temp_dict = {\n",
    "            'production_comp': code,\n",
    "        }   \n",
    "        temp_li.append(temp_dict)\n",
    "\n",
    "    elif type(i) == list:\n",
    "#         print('empty')\n",
    "        code = 'empty'\n",
    "        temp_dict = {\n",
    "                    'production_comp': code,\n",
    "                }    \n",
    "        temp_li.append(temp_dict)\n",
    "\n",
    "temp_li"
   ]
  },
  {
   "cell_type": "code",
   "execution_count": null,
   "metadata": {},
   "outputs": [],
   "source": [
    "pro = pd.DataFrame.from_dict(temp_li)"
   ]
  },
  {
   "cell_type": "code",
   "execution_count": null,
   "metadata": {},
   "outputs": [],
   "source": [
    "pro_1=pd.concat([df1.reset_index(),pro],axis=1)"
   ]
  },
  {
   "cell_type": "code",
   "execution_count": null,
   "metadata": {},
   "outputs": [],
   "source": [
    "pro_1=pro_1.drop(axis=1, columns=['index','production_companies'])"
   ]
  },
  {
   "cell_type": "code",
   "execution_count": null,
   "metadata": {},
   "outputs": [],
   "source": [
    "df_final = pd.merge(df, pro_1, left_on='imdb_id', right_on='imdb_id')"
   ]
  },
  {
   "cell_type": "code",
   "execution_count": null,
   "metadata": {},
   "outputs": [],
   "source": [
    "# touchup"
   ]
  },
  {
   "cell_type": "code",
   "execution_count": null,
   "metadata": {},
   "outputs": [],
   "source": [
    "df_final.head(4)"
   ]
  },
  {
   "cell_type": "code",
   "execution_count": null,
   "metadata": {},
   "outputs": [],
   "source": [
    "df_final.columns"
   ]
  },
  {
   "cell_type": "code",
   "execution_count": null,
   "metadata": {},
   "outputs": [],
   "source": [
    "df_final=df_final.drop(columns='production_companies')"
   ]
  },
  {
   "cell_type": "code",
   "execution_count": null,
   "metadata": {},
   "outputs": [],
   "source": [
    "rearrange = [\n",
    "    'imdb_id',\n",
    "    'primaryTitle',\n",
    "    'originalTitle',\n",
    "    'startYear',\n",
    "    'release_date',\n",
    "    'runtimeMinutes',\n",
    "    'budget',\n",
    "    'world_collection',\n",
    "    'int_collection',\n",
    "    'dom_collection',\n",
    "    'production_comp',\n",
    "    'popularity',\n",
    "    'vote_average',\n",
    "    'vote_count',\n",
    "    'overview',\n",
    "    'belongs_to_collection.name',\n",
    "    'genres',\n",
    "    'NoInfo',\n",
    "    'Action',\n",
    "    'Adventure',\n",
    "    'Biography',\n",
    "    'Drama',\n",
    "    'Fantasy',\n",
    "    'Comedy',\n",
    "    'War',\n",
    "    'Crime',\n",
    "    'Romance',\n",
    "    'Family',\n",
    "    'History',\n",
    "    'Sci-Fi',\n",
    "    'Thriller',\n",
    "    'Western',\n",
    "    'Sport',\n",
    "    'Mystery',\n",
    "    'Horror',\n",
    "    'Music',\n",
    "    'Animation',\n",
    "    'Musical',\n",
    "]\n",
    "df_final[rearrange]"
   ]
  },
  {
   "cell_type": "code",
   "execution_count": null,
   "metadata": {},
   "outputs": [],
   "source": [
    "df_final.to_csv('df_final.csv', index=False)"
   ]
  },
  {
   "cell_type": "code",
   "execution_count": null,
   "metadata": {},
   "outputs": [],
   "source": []
  },
  {
   "cell_type": "code",
   "execution_count": null,
   "metadata": {},
   "outputs": [],
   "source": []
  },
  {
   "cell_type": "markdown",
   "metadata": {},
   "source": [
    "# names df"
   ]
  },
  {
   "cell_type": "code",
   "execution_count": 54,
   "metadata": {},
   "outputs": [
    {
     "name": "stdout",
     "output_type": "stream",
     "text": [
      "Wall time: 20.2 s\n"
     ]
    }
   ],
   "source": [
    "%%time\n",
    "df = pd.read_csv(r'~\\OneDrive\\DS\\project\\ta\\names_basic.tsv',\n",
    "                   delimiter='\\t',\n",
    "                   low_memory=False)"
   ]
  },
  {
   "cell_type": "code",
   "execution_count": 55,
   "metadata": {},
   "outputs": [
    {
     "data": {
      "text/html": [
       "<div>\n",
       "<style scoped>\n",
       "    .dataframe tbody tr th:only-of-type {\n",
       "        vertical-align: middle;\n",
       "    }\n",
       "\n",
       "    .dataframe tbody tr th {\n",
       "        vertical-align: top;\n",
       "    }\n",
       "\n",
       "    .dataframe thead th {\n",
       "        text-align: right;\n",
       "    }\n",
       "</style>\n",
       "<table border=\"1\" class=\"dataframe\">\n",
       "  <thead>\n",
       "    <tr style=\"text-align: right;\">\n",
       "      <th></th>\n",
       "      <th>nconst</th>\n",
       "      <th>primaryName</th>\n",
       "      <th>birthYear</th>\n",
       "      <th>deathYear</th>\n",
       "      <th>primaryProfession</th>\n",
       "      <th>knownForTitles</th>\n",
       "    </tr>\n",
       "  </thead>\n",
       "  <tbody>\n",
       "    <tr>\n",
       "      <th>count</th>\n",
       "      <td>10775161</td>\n",
       "      <td>10775161</td>\n",
       "      <td>10775161</td>\n",
       "      <td>10775161</td>\n",
       "      <td>8505080</td>\n",
       "      <td>10775161</td>\n",
       "    </tr>\n",
       "    <tr>\n",
       "      <th>unique</th>\n",
       "      <td>10775161</td>\n",
       "      <td>8401393</td>\n",
       "      <td>503</td>\n",
       "      <td>442</td>\n",
       "      <td>20224</td>\n",
       "      <td>4466655</td>\n",
       "    </tr>\n",
       "    <tr>\n",
       "      <th>top</th>\n",
       "      <td>nm3628788</td>\n",
       "      <td>David Smith</td>\n",
       "      <td>\\N</td>\n",
       "      <td>\\N</td>\n",
       "      <td>actor</td>\n",
       "      <td>\\N</td>\n",
       "    </tr>\n",
       "    <tr>\n",
       "      <th>freq</th>\n",
       "      <td>1</td>\n",
       "      <td>336</td>\n",
       "      <td>10254805</td>\n",
       "      <td>10588397</td>\n",
       "      <td>1935754</td>\n",
       "      <td>1975674</td>\n",
       "    </tr>\n",
       "  </tbody>\n",
       "</table>\n",
       "</div>"
      ],
      "text/plain": [
       "           nconst  primaryName birthYear deathYear primaryProfession  \\\n",
       "count    10775161     10775161  10775161  10775161           8505080   \n",
       "unique   10775161      8401393       503       442             20224   \n",
       "top     nm3628788  David Smith        \\N        \\N             actor   \n",
       "freq            1          336  10254805  10588397           1935754   \n",
       "\n",
       "       knownForTitles  \n",
       "count        10775161  \n",
       "unique        4466655  \n",
       "top                \\N  \n",
       "freq          1975674  "
      ]
     },
     "execution_count": 55,
     "metadata": {},
     "output_type": "execute_result"
    }
   ],
   "source": [
    "df.describe()"
   ]
  },
  {
   "cell_type": "code",
   "execution_count": 56,
   "metadata": {},
   "outputs": [],
   "source": [
    "df = df.dropna()"
   ]
  },
  {
   "cell_type": "markdown",
   "metadata": {},
   "source": [
    "## find director"
   ]
  },
  {
   "cell_type": "code",
   "execution_count": 57,
   "metadata": {},
   "outputs": [],
   "source": [
    "df.loc[:,'profession'] = df['primaryProfession'].map(lambda x: x.split(','))"
   ]
  },
  {
   "cell_type": "code",
   "execution_count": 58,
   "metadata": {
    "scrolled": true
   },
   "outputs": [],
   "source": [
    "df = df.explode('profession')"
   ]
  },
  {
   "cell_type": "code",
   "execution_count": 59,
   "metadata": {},
   "outputs": [],
   "source": [
    "director_df = df[df['profession'] == 'director']"
   ]
  },
  {
   "cell_type": "code",
   "execution_count": 29,
   "metadata": {},
   "outputs": [
    {
     "data": {
      "text/html": [
       "<div>\n",
       "<style scoped>\n",
       "    .dataframe tbody tr th:only-of-type {\n",
       "        vertical-align: middle;\n",
       "    }\n",
       "\n",
       "    .dataframe tbody tr th {\n",
       "        vertical-align: top;\n",
       "    }\n",
       "\n",
       "    .dataframe thead th {\n",
       "        text-align: right;\n",
       "    }\n",
       "</style>\n",
       "<table border=\"1\" class=\"dataframe\">\n",
       "  <thead>\n",
       "    <tr style=\"text-align: right;\">\n",
       "      <th></th>\n",
       "      <th>nconst</th>\n",
       "      <th>primaryName</th>\n",
       "      <th>birthYear</th>\n",
       "      <th>deathYear</th>\n",
       "      <th>primaryProfession</th>\n",
       "      <th>knownForTitles</th>\n",
       "      <th>profession</th>\n",
       "    </tr>\n",
       "  </thead>\n",
       "  <tbody>\n",
       "    <tr>\n",
       "      <th>4</th>\n",
       "      <td>nm0000005</td>\n",
       "      <td>Ingmar Bergman</td>\n",
       "      <td>1918</td>\n",
       "      <td>2007</td>\n",
       "      <td>writer,director,actor</td>\n",
       "      <td>tt0050976,tt0050986,tt0060827,tt0069467</td>\n",
       "      <td>director</td>\n",
       "    </tr>\n",
       "    <tr>\n",
       "      <th>7</th>\n",
       "      <td>nm0000008</td>\n",
       "      <td>Marlon Brando</td>\n",
       "      <td>1924</td>\n",
       "      <td>2004</td>\n",
       "      <td>actor,soundtrack,director</td>\n",
       "      <td>tt0047296,tt0068646,tt0070849,tt0078788</td>\n",
       "      <td>director</td>\n",
       "    </tr>\n",
       "    <tr>\n",
       "      <th>9</th>\n",
       "      <td>nm0000010</td>\n",
       "      <td>James Cagney</td>\n",
       "      <td>1899</td>\n",
       "      <td>1986</td>\n",
       "      <td>actor,soundtrack,director</td>\n",
       "      <td>tt0035575,tt0042041,tt0029870,tt0031867</td>\n",
       "      <td>director</td>\n",
       "    </tr>\n",
       "    <tr>\n",
       "      <th>18</th>\n",
       "      <td>nm0000019</td>\n",
       "      <td>Federico Fellini</td>\n",
       "      <td>1920</td>\n",
       "      <td>1993</td>\n",
       "      <td>writer,director,assistant_director</td>\n",
       "      <td>tt0056801,tt0071129,tt0047528,tt0050783</td>\n",
       "      <td>director</td>\n",
       "    </tr>\n",
       "    <tr>\n",
       "      <th>23</th>\n",
       "      <td>nm0000024</td>\n",
       "      <td>John Gielgud</td>\n",
       "      <td>1904</td>\n",
       "      <td>2000</td>\n",
       "      <td>actor,writer,director</td>\n",
       "      <td>tt0071877,tt0082031,tt0117631,tt0045943</td>\n",
       "      <td>director</td>\n",
       "    </tr>\n",
       "    <tr>\n",
       "      <th>...</th>\n",
       "      <td>...</td>\n",
       "      <td>...</td>\n",
       "      <td>...</td>\n",
       "      <td>...</td>\n",
       "      <td>...</td>\n",
       "      <td>...</td>\n",
       "      <td>...</td>\n",
       "    </tr>\n",
       "    <tr>\n",
       "      <th>10775088</th>\n",
       "      <td>nm9993645</td>\n",
       "      <td>Fotis Georgopoulos</td>\n",
       "      <td>\\N</td>\n",
       "      <td>\\N</td>\n",
       "      <td>director</td>\n",
       "      <td>\\N</td>\n",
       "      <td>director</td>\n",
       "    </tr>\n",
       "    <tr>\n",
       "      <th>10775122</th>\n",
       "      <td>nm9993679</td>\n",
       "      <td>Art Jones</td>\n",
       "      <td>\\N</td>\n",
       "      <td>\\N</td>\n",
       "      <td>director</td>\n",
       "      <td>tt8744074</td>\n",
       "      <td>director</td>\n",
       "    </tr>\n",
       "    <tr>\n",
       "      <th>10775138</th>\n",
       "      <td>nm9993696</td>\n",
       "      <td>Ibrahim-Aloduley</td>\n",
       "      <td>\\N</td>\n",
       "      <td>\\N</td>\n",
       "      <td>director,editor</td>\n",
       "      <td>\\N</td>\n",
       "      <td>director</td>\n",
       "    </tr>\n",
       "    <tr>\n",
       "      <th>10775150</th>\n",
       "      <td>nm9993708</td>\n",
       "      <td>Eli Bevins</td>\n",
       "      <td>\\N</td>\n",
       "      <td>\\N</td>\n",
       "      <td>director,writer,editor</td>\n",
       "      <td>tt11753904,tt11772858,tt11702702,tt11772904</td>\n",
       "      <td>director</td>\n",
       "    </tr>\n",
       "    <tr>\n",
       "      <th>10775151</th>\n",
       "      <td>nm9993709</td>\n",
       "      <td>Lu Bevins</td>\n",
       "      <td>\\N</td>\n",
       "      <td>\\N</td>\n",
       "      <td>director,writer,cinematographer</td>\n",
       "      <td>tt11702702,tt11772940,tt11772904,tt11772858</td>\n",
       "      <td>director</td>\n",
       "    </tr>\n",
       "  </tbody>\n",
       "</table>\n",
       "<p>575964 rows × 7 columns</p>\n",
       "</div>"
      ],
      "text/plain": [
       "             nconst         primaryName birthYear deathYear  \\\n",
       "4         nm0000005      Ingmar Bergman      1918      2007   \n",
       "7         nm0000008       Marlon Brando      1924      2004   \n",
       "9         nm0000010        James Cagney      1899      1986   \n",
       "18        nm0000019    Federico Fellini      1920      1993   \n",
       "23        nm0000024        John Gielgud      1904      2000   \n",
       "...             ...                 ...       ...       ...   \n",
       "10775088  nm9993645  Fotis Georgopoulos        \\N        \\N   \n",
       "10775122  nm9993679           Art Jones        \\N        \\N   \n",
       "10775138  nm9993696    Ibrahim-Aloduley        \\N        \\N   \n",
       "10775150  nm9993708          Eli Bevins        \\N        \\N   \n",
       "10775151  nm9993709           Lu Bevins        \\N        \\N   \n",
       "\n",
       "                           primaryProfession  \\\n",
       "4                      writer,director,actor   \n",
       "7                  actor,soundtrack,director   \n",
       "9                  actor,soundtrack,director   \n",
       "18        writer,director,assistant_director   \n",
       "23                     actor,writer,director   \n",
       "...                                      ...   \n",
       "10775088                            director   \n",
       "10775122                            director   \n",
       "10775138                     director,editor   \n",
       "10775150              director,writer,editor   \n",
       "10775151     director,writer,cinematographer   \n",
       "\n",
       "                                       knownForTitles profession  \n",
       "4             tt0050976,tt0050986,tt0060827,tt0069467   director  \n",
       "7             tt0047296,tt0068646,tt0070849,tt0078788   director  \n",
       "9             tt0035575,tt0042041,tt0029870,tt0031867   director  \n",
       "18            tt0056801,tt0071129,tt0047528,tt0050783   director  \n",
       "23            tt0071877,tt0082031,tt0117631,tt0045943   director  \n",
       "...                                               ...        ...  \n",
       "10775088                                           \\N   director  \n",
       "10775122                                    tt8744074   director  \n",
       "10775138                                           \\N   director  \n",
       "10775150  tt11753904,tt11772858,tt11702702,tt11772904   director  \n",
       "10775151  tt11702702,tt11772940,tt11772904,tt11772858   director  \n",
       "\n",
       "[575964 rows x 7 columns]"
      ]
     },
     "execution_count": 29,
     "metadata": {},
     "output_type": "execute_result"
    }
   ],
   "source": [
    "director_df"
   ]
  },
  {
   "cell_type": "markdown",
   "metadata": {},
   "source": [
    "## finding actor/actress"
   ]
  },
  {
   "cell_type": "code",
   "execution_count": 30,
   "metadata": {},
   "outputs": [],
   "source": [
    "actors = df[(df['profession'] == 'actor') | (df['profession'] == 'actress')]"
   ]
  },
  {
   "cell_type": "code",
   "execution_count": 31,
   "metadata": {},
   "outputs": [
    {
     "data": {
      "text/html": [
       "<div>\n",
       "<style scoped>\n",
       "    .dataframe tbody tr th:only-of-type {\n",
       "        vertical-align: middle;\n",
       "    }\n",
       "\n",
       "    .dataframe tbody tr th {\n",
       "        vertical-align: top;\n",
       "    }\n",
       "\n",
       "    .dataframe thead th {\n",
       "        text-align: right;\n",
       "    }\n",
       "</style>\n",
       "<table border=\"1\" class=\"dataframe\">\n",
       "  <thead>\n",
       "    <tr style=\"text-align: right;\">\n",
       "      <th></th>\n",
       "      <th>nconst</th>\n",
       "      <th>primaryName</th>\n",
       "      <th>birthYear</th>\n",
       "      <th>deathYear</th>\n",
       "      <th>primaryProfession</th>\n",
       "      <th>knownForTitles</th>\n",
       "      <th>profession</th>\n",
       "    </tr>\n",
       "  </thead>\n",
       "  <tbody>\n",
       "    <tr>\n",
       "      <th>0</th>\n",
       "      <td>nm0000001</td>\n",
       "      <td>Fred Astaire</td>\n",
       "      <td>1899</td>\n",
       "      <td>1987</td>\n",
       "      <td>soundtrack,actor,miscellaneous</td>\n",
       "      <td>tt0050419,tt0053137,tt0072308,tt0031983</td>\n",
       "      <td>actor</td>\n",
       "    </tr>\n",
       "    <tr>\n",
       "      <th>1</th>\n",
       "      <td>nm0000002</td>\n",
       "      <td>Lauren Bacall</td>\n",
       "      <td>1924</td>\n",
       "      <td>2014</td>\n",
       "      <td>actress,soundtrack</td>\n",
       "      <td>tt0037382,tt0117057,tt0075213,tt0038355</td>\n",
       "      <td>actress</td>\n",
       "    </tr>\n",
       "    <tr>\n",
       "      <th>2</th>\n",
       "      <td>nm0000003</td>\n",
       "      <td>Brigitte Bardot</td>\n",
       "      <td>1934</td>\n",
       "      <td>\\N</td>\n",
       "      <td>actress,soundtrack,music_department</td>\n",
       "      <td>tt0054452,tt0057345,tt0049189,tt0056404</td>\n",
       "      <td>actress</td>\n",
       "    </tr>\n",
       "    <tr>\n",
       "      <th>3</th>\n",
       "      <td>nm0000004</td>\n",
       "      <td>John Belushi</td>\n",
       "      <td>1949</td>\n",
       "      <td>1982</td>\n",
       "      <td>actor,soundtrack,writer</td>\n",
       "      <td>tt0080455,tt0072562,tt0077975,tt0078723</td>\n",
       "      <td>actor</td>\n",
       "    </tr>\n",
       "    <tr>\n",
       "      <th>4</th>\n",
       "      <td>nm0000005</td>\n",
       "      <td>Ingmar Bergman</td>\n",
       "      <td>1918</td>\n",
       "      <td>2007</td>\n",
       "      <td>writer,director,actor</td>\n",
       "      <td>tt0050976,tt0050986,tt0060827,tt0069467</td>\n",
       "      <td>actor</td>\n",
       "    </tr>\n",
       "    <tr>\n",
       "      <th>...</th>\n",
       "      <td>...</td>\n",
       "      <td>...</td>\n",
       "      <td>...</td>\n",
       "      <td>...</td>\n",
       "      <td>...</td>\n",
       "      <td>...</td>\n",
       "      <td>...</td>\n",
       "    </tr>\n",
       "    <tr>\n",
       "      <th>10775140</th>\n",
       "      <td>nm9993698</td>\n",
       "      <td>Sebi John</td>\n",
       "      <td>\\N</td>\n",
       "      <td>\\N</td>\n",
       "      <td>actor</td>\n",
       "      <td>tt8736744</td>\n",
       "      <td>actor</td>\n",
       "    </tr>\n",
       "    <tr>\n",
       "      <th>10775141</th>\n",
       "      <td>nm9993699</td>\n",
       "      <td>Dani Jacob</td>\n",
       "      <td>\\N</td>\n",
       "      <td>\\N</td>\n",
       "      <td>actor</td>\n",
       "      <td>tt8736744</td>\n",
       "      <td>actor</td>\n",
       "    </tr>\n",
       "    <tr>\n",
       "      <th>10775142</th>\n",
       "      <td>nm9993700</td>\n",
       "      <td>Sexy Angel</td>\n",
       "      <td>\\N</td>\n",
       "      <td>\\N</td>\n",
       "      <td>actress</td>\n",
       "      <td>\\N</td>\n",
       "      <td>actress</td>\n",
       "    </tr>\n",
       "    <tr>\n",
       "      <th>10775143</th>\n",
       "      <td>nm9993701</td>\n",
       "      <td>Sanjai Kuriakose</td>\n",
       "      <td>\\N</td>\n",
       "      <td>\\N</td>\n",
       "      <td>actor</td>\n",
       "      <td>tt8736744</td>\n",
       "      <td>actor</td>\n",
       "    </tr>\n",
       "    <tr>\n",
       "      <th>10775145</th>\n",
       "      <td>nm9993703</td>\n",
       "      <td>James Craigmyle</td>\n",
       "      <td>\\N</td>\n",
       "      <td>\\N</td>\n",
       "      <td>actor</td>\n",
       "      <td>tt6225166,tt10627062,tt6914160,tt11212278</td>\n",
       "      <td>actor</td>\n",
       "    </tr>\n",
       "  </tbody>\n",
       "</table>\n",
       "<p>3979400 rows × 7 columns</p>\n",
       "</div>"
      ],
      "text/plain": [
       "             nconst       primaryName birthYear deathYear  \\\n",
       "0         nm0000001      Fred Astaire      1899      1987   \n",
       "1         nm0000002     Lauren Bacall      1924      2014   \n",
       "2         nm0000003   Brigitte Bardot      1934        \\N   \n",
       "3         nm0000004      John Belushi      1949      1982   \n",
       "4         nm0000005    Ingmar Bergman      1918      2007   \n",
       "...             ...               ...       ...       ...   \n",
       "10775140  nm9993698         Sebi John        \\N        \\N   \n",
       "10775141  nm9993699        Dani Jacob        \\N        \\N   \n",
       "10775142  nm9993700        Sexy Angel        \\N        \\N   \n",
       "10775143  nm9993701  Sanjai Kuriakose        \\N        \\N   \n",
       "10775145  nm9993703   James Craigmyle        \\N        \\N   \n",
       "\n",
       "                            primaryProfession  \\\n",
       "0              soundtrack,actor,miscellaneous   \n",
       "1                          actress,soundtrack   \n",
       "2         actress,soundtrack,music_department   \n",
       "3                     actor,soundtrack,writer   \n",
       "4                       writer,director,actor   \n",
       "...                                       ...   \n",
       "10775140                                actor   \n",
       "10775141                                actor   \n",
       "10775142                              actress   \n",
       "10775143                                actor   \n",
       "10775145                                actor   \n",
       "\n",
       "                                     knownForTitles profession  \n",
       "0           tt0050419,tt0053137,tt0072308,tt0031983      actor  \n",
       "1           tt0037382,tt0117057,tt0075213,tt0038355    actress  \n",
       "2           tt0054452,tt0057345,tt0049189,tt0056404    actress  \n",
       "3           tt0080455,tt0072562,tt0077975,tt0078723      actor  \n",
       "4           tt0050976,tt0050986,tt0060827,tt0069467      actor  \n",
       "...                                             ...        ...  \n",
       "10775140                                  tt8736744      actor  \n",
       "10775141                                  tt8736744      actor  \n",
       "10775142                                         \\N    actress  \n",
       "10775143                                  tt8736744      actor  \n",
       "10775145  tt6225166,tt10627062,tt6914160,tt11212278      actor  \n",
       "\n",
       "[3979400 rows x 7 columns]"
      ]
     },
     "execution_count": 31,
     "metadata": {},
     "output_type": "execute_result"
    }
   ],
   "source": [
    "actors"
   ]
  },
  {
   "cell_type": "code",
   "execution_count": 24,
   "metadata": {},
   "outputs": [],
   "source": [
    "# df.groupby('profession').count().sort_values('nconst',ascending=False)"
   ]
  },
  {
   "cell_type": "markdown",
   "metadata": {},
   "source": [
    "# main_df"
   ]
  },
  {
   "cell_type": "code",
   "execution_count": 1,
   "metadata": {},
   "outputs": [],
   "source": [
    "main_df_raw = pd.read_csv(r'df_final.csv',parse_dates=['release_date'])"
   ]
  },
  {
   "cell_type": "code",
   "execution_count": 2,
   "metadata": {},
   "outputs": [],
   "source": [
    "main_df=main_df_raw.iloc[:,0:17]"
   ]
  },
  {
   "cell_type": "code",
   "execution_count": 3,
   "metadata": {},
   "outputs": [],
   "source": [
    "main_df['release_year'] = main_df['release_date'].dt.year"
   ]
  },
  {
   "cell_type": "code",
   "execution_count": 4,
   "metadata": {},
   "outputs": [],
   "source": [
    "main_df=main_df[~main_df.release_date.isna()]"
   ]
  },
  {
   "cell_type": "code",
   "execution_count": 5,
   "metadata": {},
   "outputs": [],
   "source": [
    "main_df = main_df[(main_df.release_date >= '2020-01-01')\n",
    "                  & (main_df.release_date <= '2020-12-31')]"
   ]
  },
  {
   "cell_type": "code",
   "execution_count": 6,
   "metadata": {},
   "outputs": [],
   "source": [
    "# main_df.sort_values('world_collection')"
   ]
  },
  {
   "cell_type": "code",
   "execution_count": 7,
   "metadata": {
    "scrolled": true
   },
   "outputs": [],
   "source": [
    "main_df = main_df[main_df.budget>=5000] #change this main_df.budget.mean()"
   ]
  },
  {
   "cell_type": "code",
   "execution_count": 8,
   "metadata": {},
   "outputs": [],
   "source": [
    "main_df['ROI'] = main_df.world_collection - main_df.budget"
   ]
  },
  {
   "cell_type": "code",
   "execution_count": 9,
   "metadata": {},
   "outputs": [],
   "source": [
    "main_df['ROI_percentage'] = main_df.ROI / main_df.budget"
   ]
  },
  {
   "cell_type": "code",
   "execution_count": 10,
   "metadata": {},
   "outputs": [
    {
     "data": {
      "text/html": [
       "<div>\n",
       "<style scoped>\n",
       "    .dataframe tbody tr th:only-of-type {\n",
       "        vertical-align: middle;\n",
       "    }\n",
       "\n",
       "    .dataframe tbody tr th {\n",
       "        vertical-align: top;\n",
       "    }\n",
       "\n",
       "    .dataframe thead th {\n",
       "        text-align: right;\n",
       "    }\n",
       "</style>\n",
       "<table border=\"1\" class=\"dataframe\">\n",
       "  <thead>\n",
       "    <tr style=\"text-align: right;\">\n",
       "      <th></th>\n",
       "      <th>startYear</th>\n",
       "      <th>runtimeMinutes</th>\n",
       "      <th>budget</th>\n",
       "      <th>world_collection</th>\n",
       "      <th>int_collection</th>\n",
       "      <th>dom_collection</th>\n",
       "      <th>popularity</th>\n",
       "      <th>vote_average</th>\n",
       "      <th>vote_count</th>\n",
       "      <th>release_year</th>\n",
       "      <th>ROI</th>\n",
       "      <th>ROI_percentage</th>\n",
       "    </tr>\n",
       "  </thead>\n",
       "  <tbody>\n",
       "    <tr>\n",
       "      <th>count</th>\n",
       "      <td>118.000000</td>\n",
       "      <td>118.000000</td>\n",
       "      <td>1.180000e+02</td>\n",
       "      <td>1.180000e+02</td>\n",
       "      <td>9.800000e+01</td>\n",
       "      <td>5.000000e+01</td>\n",
       "      <td>118.000000</td>\n",
       "      <td>118.000000</td>\n",
       "      <td>118.000000</td>\n",
       "      <td>118.0</td>\n",
       "      <td>1.180000e+02</td>\n",
       "      <td>118.000000</td>\n",
       "    </tr>\n",
       "    <tr>\n",
       "      <th>mean</th>\n",
       "      <td>2019.898305</td>\n",
       "      <td>104.110169</td>\n",
       "      <td>2.335608e+07</td>\n",
       "      <td>3.358090e+07</td>\n",
       "      <td>2.700243e+07</td>\n",
       "      <td>2.313233e+07</td>\n",
       "      <td>102.943051</td>\n",
       "      <td>5.905932</td>\n",
       "      <td>729.118644</td>\n",
       "      <td>2020.0</td>\n",
       "      <td>1.022483e+07</td>\n",
       "      <td>2.871941</td>\n",
       "    </tr>\n",
       "    <tr>\n",
       "      <th>std</th>\n",
       "      <td>0.378703</td>\n",
       "      <td>24.880152</td>\n",
       "      <td>4.436783e+07</td>\n",
       "      <td>8.034445e+07</td>\n",
       "      <td>6.626190e+07</td>\n",
       "      <td>3.959792e+07</td>\n",
       "      <td>288.339724</td>\n",
       "      <td>2.280024</td>\n",
       "      <td>1444.016106</td>\n",
       "      <td>0.0</td>\n",
       "      <td>6.021770e+07</td>\n",
       "      <td>17.345388</td>\n",
       "    </tr>\n",
       "    <tr>\n",
       "      <th>min</th>\n",
       "      <td>2018.000000</td>\n",
       "      <td>0.000000</td>\n",
       "      <td>5.000000e+03</td>\n",
       "      <td>1.900000e+01</td>\n",
       "      <td>1.900000e+01</td>\n",
       "      <td>5.208000e+03</td>\n",
       "      <td>0.600000</td>\n",
       "      <td>0.000000</td>\n",
       "      <td>0.000000</td>\n",
       "      <td>2020.0</td>\n",
       "      <td>-1.332000e+08</td>\n",
       "      <td>-0.999991</td>\n",
       "    </tr>\n",
       "    <tr>\n",
       "      <th>25%</th>\n",
       "      <td>2020.000000</td>\n",
       "      <td>92.000000</td>\n",
       "      <td>1.238750e+06</td>\n",
       "      <td>1.835608e+05</td>\n",
       "      <td>2.864732e+05</td>\n",
       "      <td>7.724418e+05</td>\n",
       "      <td>4.134750</td>\n",
       "      <td>5.600000</td>\n",
       "      <td>5.250000</td>\n",
       "      <td>2020.0</td>\n",
       "      <td>-4.777155e+06</td>\n",
       "      <td>-0.898841</td>\n",
       "    </tr>\n",
       "    <tr>\n",
       "      <th>50%</th>\n",
       "      <td>2020.000000</td>\n",
       "      <td>102.000000</td>\n",
       "      <td>5.900000e+06</td>\n",
       "      <td>2.872624e+06</td>\n",
       "      <td>2.629546e+06</td>\n",
       "      <td>7.421678e+06</td>\n",
       "      <td>13.755000</td>\n",
       "      <td>6.500000</td>\n",
       "      <td>69.000000</td>\n",
       "      <td>2020.0</td>\n",
       "      <td>-1.697055e+05</td>\n",
       "      <td>-0.295353</td>\n",
       "    </tr>\n",
       "    <tr>\n",
       "      <th>75%</th>\n",
       "      <td>2020.000000</td>\n",
       "      <td>116.000000</td>\n",
       "      <td>2.000000e+07</td>\n",
       "      <td>2.713923e+07</td>\n",
       "      <td>1.660585e+07</td>\n",
       "      <td>2.193259e+07</td>\n",
       "      <td>43.032000</td>\n",
       "      <td>7.300000</td>\n",
       "      <td>639.250000</td>\n",
       "      <td>2020.0</td>\n",
       "      <td>7.280119e+06</td>\n",
       "      <td>1.322932</td>\n",
       "    </tr>\n",
       "    <tr>\n",
       "      <th>max</th>\n",
       "      <td>2021.000000</td>\n",
       "      <td>169.000000</td>\n",
       "      <td>2.050000e+08</td>\n",
       "      <td>4.613415e+08</td>\n",
       "      <td>4.609688e+08</td>\n",
       "      <td>2.063052e+08</td>\n",
       "      <td>2103.518000</td>\n",
       "      <td>8.800000</td>\n",
       "      <td>7091.000000</td>\n",
       "      <td>2020.0</td>\n",
       "      <td>3.813415e+08</td>\n",
       "      <td>142.731880</td>\n",
       "    </tr>\n",
       "  </tbody>\n",
       "</table>\n",
       "</div>"
      ],
      "text/plain": [
       "         startYear  runtimeMinutes        budget  world_collection  \\\n",
       "count   118.000000      118.000000  1.180000e+02      1.180000e+02   \n",
       "mean   2019.898305      104.110169  2.335608e+07      3.358090e+07   \n",
       "std       0.378703       24.880152  4.436783e+07      8.034445e+07   \n",
       "min    2018.000000        0.000000  5.000000e+03      1.900000e+01   \n",
       "25%    2020.000000       92.000000  1.238750e+06      1.835608e+05   \n",
       "50%    2020.000000      102.000000  5.900000e+06      2.872624e+06   \n",
       "75%    2020.000000      116.000000  2.000000e+07      2.713923e+07   \n",
       "max    2021.000000      169.000000  2.050000e+08      4.613415e+08   \n",
       "\n",
       "       int_collection  dom_collection   popularity  vote_average   vote_count  \\\n",
       "count    9.800000e+01    5.000000e+01   118.000000    118.000000   118.000000   \n",
       "mean     2.700243e+07    2.313233e+07   102.943051      5.905932   729.118644   \n",
       "std      6.626190e+07    3.959792e+07   288.339724      2.280024  1444.016106   \n",
       "min      1.900000e+01    5.208000e+03     0.600000      0.000000     0.000000   \n",
       "25%      2.864732e+05    7.724418e+05     4.134750      5.600000     5.250000   \n",
       "50%      2.629546e+06    7.421678e+06    13.755000      6.500000    69.000000   \n",
       "75%      1.660585e+07    2.193259e+07    43.032000      7.300000   639.250000   \n",
       "max      4.609688e+08    2.063052e+08  2103.518000      8.800000  7091.000000   \n",
       "\n",
       "       release_year           ROI  ROI_percentage  \n",
       "count         118.0  1.180000e+02      118.000000  \n",
       "mean         2020.0  1.022483e+07        2.871941  \n",
       "std             0.0  6.021770e+07       17.345388  \n",
       "min          2020.0 -1.332000e+08       -0.999991  \n",
       "25%          2020.0 -4.777155e+06       -0.898841  \n",
       "50%          2020.0 -1.697055e+05       -0.295353  \n",
       "75%          2020.0  7.280119e+06        1.322932  \n",
       "max          2020.0  3.813415e+08      142.731880  "
      ]
     },
     "execution_count": 10,
     "metadata": {},
     "output_type": "execute_result"
    }
   ],
   "source": [
    "main_df.describe()"
   ]
  },
  {
   "cell_type": "code",
   "execution_count": 11,
   "metadata": {},
   "outputs": [],
   "source": [
    "# main_df[main_df.ROI>0]"
   ]
  },
  {
   "cell_type": "markdown",
   "metadata": {
    "heading_collapsed": true
   },
   "source": [
    "## top movie by return %"
   ]
  },
  {
   "cell_type": "code",
   "execution_count": 12,
   "metadata": {
    "hidden": true
   },
   "outputs": [
    {
     "data": {
      "image/png": "[encoded data removed]",
      "text/plain": [
       "<Figure size 640x480 with 1 Axes>"
      ]
     },
     "metadata": {},
     "output_type": "display_data"
    }
   ],
   "source": [
    "main_df.sort_values(by='ROI_percentage',\n",
    "                    ascending=False).head(25).plot(kind='barh',\n",
    "                                                   x='primaryTitle',\n",
    "                                                   y='ROI_percentage')\n",
    "plt.show()"
   ]
  },
  {
   "cell_type": "markdown",
   "metadata": {
    "heading_collapsed": true
   },
   "source": [
    "## top movie by gross profit"
   ]
  },
  {
   "cell_type": "code",
   "execution_count": 13,
   "metadata": {
    "hidden": true
   },
   "outputs": [
    {
     "data": {
      "image/png": "[encoded data removed]",
      "text/plain": [
       "<Figure size 640x480 with 1 Axes>"
      ]
     },
     "metadata": {},
     "output_type": "display_data"
    }
   ],
   "source": [
    "main_df.sort_values(by='world_collection',\n",
    "                    ascending=False).head(25).plot(kind='barh',\n",
    "                                                   x='primaryTitle',\n",
    "                                                   y='world_collection')\n",
    "plt.show()"
   ]
  },
  {
   "cell_type": "markdown",
   "metadata": {
    "heading_collapsed": true
   },
   "source": [
    "## profit by top 20 studio"
   ]
  },
  {
   "cell_type": "code",
   "execution_count": 14,
   "metadata": {
    "hidden": true
   },
   "outputs": [],
   "source": [
    "studio_df = main_df.copy()"
   ]
  },
  {
   "cell_type": "code",
   "execution_count": 15,
   "metadata": {
    "hidden": true
   },
   "outputs": [],
   "source": [
    "studio_df.loc[:, 'production_comp_exp'] = studio_df.production_comp.map(\n",
    "    lambda x: x.split(', '))"
   ]
  },
  {
   "cell_type": "code",
   "execution_count": 16,
   "metadata": {
    "hidden": true
   },
   "outputs": [],
   "source": [
    "studio_df_fig = studio_df.explode('production_comp_exp')"
   ]
  },
  {
   "cell_type": "code",
   "execution_count": 17,
   "metadata": {
    "hidden": true
   },
   "outputs": [
    {
     "data": {
      "text/html": [
       "<div>\n",
       "<style scoped>\n",
       "    .dataframe tbody tr th:only-of-type {\n",
       "        vertical-align: middle;\n",
       "    }\n",
       "\n",
       "    .dataframe tbody tr th {\n",
       "        vertical-align: top;\n",
       "    }\n",
       "\n",
       "    .dataframe thead th {\n",
       "        text-align: right;\n",
       "    }\n",
       "</style>\n",
       "<table border=\"1\" class=\"dataframe\">\n",
       "  <thead>\n",
       "    <tr style=\"text-align: right;\">\n",
       "      <th></th>\n",
       "      <th>imdb_id</th>\n",
       "      <th>primaryTitle</th>\n",
       "      <th>originalTitle</th>\n",
       "      <th>startYear</th>\n",
       "      <th>release_date</th>\n",
       "      <th>runtimeMinutes</th>\n",
       "      <th>budget</th>\n",
       "      <th>world_collection</th>\n",
       "      <th>int_collection</th>\n",
       "      <th>dom_collection</th>\n",
       "      <th>...</th>\n",
       "      <th>vote_average</th>\n",
       "      <th>vote_count</th>\n",
       "      <th>overview</th>\n",
       "      <th>belongs_to_collection.name</th>\n",
       "      <th>genres</th>\n",
       "      <th>production_comp</th>\n",
       "      <th>release_year</th>\n",
       "      <th>ROI</th>\n",
       "      <th>ROI_percentage</th>\n",
       "      <th>production_comp_exp</th>\n",
       "    </tr>\n",
       "  </thead>\n",
       "  <tbody>\n",
       "    <tr>\n",
       "      <th>825</th>\n",
       "      <td>tt0783640</td>\n",
       "      <td>The Last Full Measure</td>\n",
       "      <td>The Last Full Measure</td>\n",
       "      <td>2019</td>\n",
       "      <td>2020-01-23</td>\n",
       "      <td>116</td>\n",
       "      <td>20000000</td>\n",
       "      <td>3364426</td>\n",
       "      <td>415214.0</td>\n",
       "      <td>2949212.0</td>\n",
       "      <td>...</td>\n",
       "      <td>7.7</td>\n",
       "      <td>247</td>\n",
       "      <td>The incredible true story of Vietnam War hero ...</td>\n",
       "      <td>NaN</td>\n",
       "      <td>Drama,War</td>\n",
       "      <td>Foresight Unlimited, Provocator, SSS Entertain...</td>\n",
       "      <td>2020.0</td>\n",
       "      <td>-16635574</td>\n",
       "      <td>-0.831779</td>\n",
       "      <td>Foresight Unlimited</td>\n",
       "    </tr>\n",
       "    <tr>\n",
       "      <th>825</th>\n",
       "      <td>tt0783640</td>\n",
       "      <td>The Last Full Measure</td>\n",
       "      <td>The Last Full Measure</td>\n",
       "      <td>2019</td>\n",
       "      <td>2020-01-23</td>\n",
       "      <td>116</td>\n",
       "      <td>20000000</td>\n",
       "      <td>3364426</td>\n",
       "      <td>415214.0</td>\n",
       "      <td>2949212.0</td>\n",
       "      <td>...</td>\n",
       "      <td>7.7</td>\n",
       "      <td>247</td>\n",
       "      <td>The incredible true story of Vietnam War hero ...</td>\n",
       "      <td>NaN</td>\n",
       "      <td>Drama,War</td>\n",
       "      <td>Foresight Unlimited, Provocator, SSS Entertain...</td>\n",
       "      <td>2020.0</td>\n",
       "      <td>-16635574</td>\n",
       "      <td>-0.831779</td>\n",
       "      <td>Provocator</td>\n",
       "    </tr>\n",
       "    <tr>\n",
       "      <th>825</th>\n",
       "      <td>tt0783640</td>\n",
       "      <td>The Last Full Measure</td>\n",
       "      <td>The Last Full Measure</td>\n",
       "      <td>2019</td>\n",
       "      <td>2020-01-23</td>\n",
       "      <td>116</td>\n",
       "      <td>20000000</td>\n",
       "      <td>3364426</td>\n",
       "      <td>415214.0</td>\n",
       "      <td>2949212.0</td>\n",
       "      <td>...</td>\n",
       "      <td>7.7</td>\n",
       "      <td>247</td>\n",
       "      <td>The incredible true story of Vietnam War hero ...</td>\n",
       "      <td>NaN</td>\n",
       "      <td>Drama,War</td>\n",
       "      <td>Foresight Unlimited, Provocator, SSS Entertain...</td>\n",
       "      <td>2020.0</td>\n",
       "      <td>-16635574</td>\n",
       "      <td>-0.831779</td>\n",
       "      <td>SSS Entertainment</td>\n",
       "    </tr>\n",
       "  </tbody>\n",
       "</table>\n",
       "<p>3 rows × 21 columns</p>\n",
       "</div>"
      ],
      "text/plain": [
       "       imdb_id           primaryTitle          originalTitle  startYear  \\\n",
       "825  tt0783640  The Last Full Measure  The Last Full Measure       2019   \n",
       "825  tt0783640  The Last Full Measure  The Last Full Measure       2019   \n",
       "825  tt0783640  The Last Full Measure  The Last Full Measure       2019   \n",
       "\n",
       "    release_date  runtimeMinutes    budget  world_collection  int_collection  \\\n",
       "825   2020-01-23             116  20000000           3364426        415214.0   \n",
       "825   2020-01-23             116  20000000           3364426        415214.0   \n",
       "825   2020-01-23             116  20000000           3364426        415214.0   \n",
       "\n",
       "     dom_collection  ...  vote_average  vote_count  \\\n",
       "825       2949212.0  ...           7.7         247   \n",
       "825       2949212.0  ...           7.7         247   \n",
       "825       2949212.0  ...           7.7         247   \n",
       "\n",
       "                                              overview  \\\n",
       "825  The incredible true story of Vietnam War hero ...   \n",
       "825  The incredible true story of Vietnam War hero ...   \n",
       "825  The incredible true story of Vietnam War hero ...   \n",
       "\n",
       "    belongs_to_collection.name     genres  \\\n",
       "825                        NaN  Drama,War   \n",
       "825                        NaN  Drama,War   \n",
       "825                        NaN  Drama,War   \n",
       "\n",
       "                                       production_comp release_year       ROI  \\\n",
       "825  Foresight Unlimited, Provocator, SSS Entertain...       2020.0 -16635574   \n",
       "825  Foresight Unlimited, Provocator, SSS Entertain...       2020.0 -16635574   \n",
       "825  Foresight Unlimited, Provocator, SSS Entertain...       2020.0 -16635574   \n",
       "\n",
       "     ROI_percentage  production_comp_exp  \n",
       "825       -0.831779  Foresight Unlimited  \n",
       "825       -0.831779           Provocator  \n",
       "825       -0.831779    SSS Entertainment  \n",
       "\n",
       "[3 rows x 21 columns]"
      ]
     },
     "execution_count": 17,
     "metadata": {},
     "output_type": "execute_result"
    }
   ],
   "source": [
    "studio_df_fig.head(3)"
   ]
  },
  {
   "cell_type": "code",
   "execution_count": 18,
   "metadata": {
    "hidden": true
   },
   "outputs": [],
   "source": [
    "top_production_house_list = list(studio_df_fig.production_comp_exp.value_counts().sort_values(ascending=False)[1:20].index)#.reset_index() # to drop empty"
   ]
  },
  {
   "cell_type": "code",
   "execution_count": 19,
   "metadata": {
    "hidden": true
   },
   "outputs": [],
   "source": [
    "studio_df_fig_0 = studio_df_fig[studio_df_fig.production_comp_exp.isin(top_production_house_list)]"
   ]
  },
  {
   "cell_type": "code",
   "execution_count": 20,
   "metadata": {
    "hidden": true
   },
   "outputs": [
    {
     "data": {
      "image/png": "[encoded data removed]",
      "text/plain": [
       "<Figure size 640x480 with 1 Axes>"
      ]
     },
     "metadata": {},
     "output_type": "display_data"
    },
    {
     "data": {
      "image/png": "[encoded data removed]",
      "text/plain": [
       "<Figure size 640x480 with 1 Axes>"
      ]
     },
     "metadata": {},
     "output_type": "display_data"
    }
   ],
   "source": [
    "studio_df_fig_1 = studio_df_fig.groupby(\n",
    "    by='production_comp_exp').agg('sum').sort_values(by='world_collection',\n",
    "                                                     ascending=False)[:20]\n",
    "studio_df_fig_2 = studio_df_fig.groupby(\n",
    "    by='production_comp_exp').agg('count').sort_values(by='world_collection',\n",
    "                                                       ascending=False)[1:20]\n",
    "\n",
    "studio_df_fig_1.plot(kind='barh',\n",
    "                     y='world_collection')\n",
    "studio_df_fig_2.plot(kind='barh',\n",
    "                     y='world_collection')\n",
    "plt.show()"
   ]
  },
  {
   "cell_type": "code",
   "execution_count": 21,
   "metadata": {
    "hidden": true
   },
   "outputs": [
    {
     "data": {
      "image/png": "[encoded data removed]",
      "text/plain": [
       "<Figure size 700x1000 with 1 Axes>"
      ]
     },
     "metadata": {},
     "output_type": "display_data"
    }
   ],
   "source": [
    "fig, ax = plt.subplots()\n",
    "fig.set_size_inches(7, 10)\n",
    "sns.barplot(data=studio_df_fig_0,\n",
    "            y='production_comp_exp',\n",
    "            x='world_collection',\n",
    "            hue='release_year')\n",
    "plt.show()"
   ]
  },
  {
   "cell_type": "markdown",
   "metadata": {
    "heading_collapsed": true
   },
   "source": [
    "## top movie by genere "
   ]
  },
  {
   "cell_type": "code",
   "execution_count": 22,
   "metadata": {
    "hidden": true
   },
   "outputs": [],
   "source": [
    "genere_df = main_df.copy()"
   ]
  },
  {
   "cell_type": "code",
   "execution_count": 23,
   "metadata": {
    "hidden": true
   },
   "outputs": [],
   "source": [
    "genere_df.loc[:,'genres_exp'] = genere_df.genres.map(lambda x: x.split(','))"
   ]
  },
  {
   "cell_type": "code",
   "execution_count": 24,
   "metadata": {
    "hidden": true
   },
   "outputs": [],
   "source": [
    "genere_df_fig = genere_df.explode('genres_exp')"
   ]
  },
  {
   "cell_type": "code",
   "execution_count": 25,
   "metadata": {
    "hidden": true
   },
   "outputs": [
    {
     "data": {
      "image/png": "[encoded data removed]",
      "text/plain": [
       "<Figure size 640x480 with 1 Axes>"
      ]
     },
     "metadata": {},
     "output_type": "display_data"
    }
   ],
   "source": [
    "genere_df_fig.groupby('genres_exp').count()['imdb_id'].plot(kind='barh')\n",
    "plt.show()"
   ]
  },
  {
   "cell_type": "code",
   "execution_count": 26,
   "metadata": {
    "hidden": true
   },
   "outputs": [
    {
     "data": {
      "image/png": "[encoded data removed]",
      "text/plain": [
       "<Figure size 640x480 with 1 Axes>"
      ]
     },
     "metadata": {},
     "output_type": "display_data"
    }
   ],
   "source": [
    "genere_df_fig.groupby('genres_exp').mean()['world_collection'].plot(\n",
    "    kind='barh')\n",
    "plt.show()"
   ]
  },
  {
   "cell_type": "code",
   "execution_count": 27,
   "metadata": {
    "hidden": true
   },
   "outputs": [
    {
     "data": {
      "image/png": "[encoded data removed]",
      "text/plain": [
       "<Figure size 2000x600 with 1 Axes>"
      ]
     },
     "metadata": {},
     "output_type": "display_data"
    }
   ],
   "source": [
    "# styling\n",
    "sns.set_style('ticks')\n",
    "fig, ax = plt.subplots()\n",
    "fig.set_size_inches(20, 6)\n",
    "# plotting\n",
    "sns.barplot(data=genere_df_fig,\n",
    "            x='genres_exp',\n",
    "            y='world_collection',\n",
    "            hue='release_year')\n",
    "plt.show()"
   ]
  },
  {
   "cell_type": "code",
   "execution_count": 28,
   "metadata": {
    "hidden": true
   },
   "outputs": [
    {
     "data": {
      "image/png": "[encoded data removed]",
      "text/plain": [
       "<Figure size 2000x600 with 1 Axes>"
      ]
     },
     "metadata": {},
     "output_type": "display_data"
    }
   ],
   "source": [
    "# styling\n",
    "sns.set_style('ticks')\n",
    "fig, ax = plt.subplots()\n",
    "fig.set_size_inches(20, 6)\n",
    "# plotting\n",
    "sns.barplot(data=genere_df_fig,\n",
    "            x='genres_exp',\n",
    "            y='ROI',\n",
    "            hue='release_year')\n",
    "plt.show()"
   ]
  },
  {
   "cell_type": "markdown",
   "metadata": {
    "heading_collapsed": true
   },
   "source": [
    "## best time to release mov"
   ]
  },
  {
   "cell_type": "code",
   "execution_count": 29,
   "metadata": {
    "hidden": true
   },
   "outputs": [],
   "source": [
    "timing_df = main_df.copy()"
   ]
  },
  {
   "cell_type": "code",
   "execution_count": 30,
   "metadata": {
    "hidden": true
   },
   "outputs": [],
   "source": [
    "timing_df['release_month']=timing_df['release_date'].dt.month"
   ]
  },
  {
   "cell_type": "code",
   "execution_count": 31,
   "metadata": {
    "hidden": true
   },
   "outputs": [],
   "source": [
    "timing_df['release_timing'] = pd.cut(timing_df['release_month'],bins=[0,6,8,10,12],labels=['dump months', 'summer','dump months','holidays'],ordered=False)"
   ]
  },
  {
   "cell_type": "code",
   "execution_count": 32,
   "metadata": {
    "hidden": true
   },
   "outputs": [
    {
     "data": {
      "text/html": [
       "<div>\n",
       "<style scoped>\n",
       "    .dataframe tbody tr th:only-of-type {\n",
       "        vertical-align: middle;\n",
       "    }\n",
       "\n",
       "    .dataframe tbody tr th {\n",
       "        vertical-align: top;\n",
       "    }\n",
       "\n",
       "    .dataframe thead th {\n",
       "        text-align: right;\n",
       "    }\n",
       "</style>\n",
       "<table border=\"1\" class=\"dataframe\">\n",
       "  <thead>\n",
       "    <tr style=\"text-align: right;\">\n",
       "      <th></th>\n",
       "      <th>imdb_id</th>\n",
       "      <th>primaryTitle</th>\n",
       "      <th>originalTitle</th>\n",
       "      <th>startYear</th>\n",
       "      <th>release_date</th>\n",
       "      <th>runtimeMinutes</th>\n",
       "      <th>budget</th>\n",
       "      <th>world_collection</th>\n",
       "      <th>int_collection</th>\n",
       "      <th>dom_collection</th>\n",
       "      <th>...</th>\n",
       "      <th>vote_count</th>\n",
       "      <th>overview</th>\n",
       "      <th>belongs_to_collection.name</th>\n",
       "      <th>genres</th>\n",
       "      <th>production_comp</th>\n",
       "      <th>release_year</th>\n",
       "      <th>ROI</th>\n",
       "      <th>ROI_percentage</th>\n",
       "      <th>release_month</th>\n",
       "      <th>release_timing</th>\n",
       "    </tr>\n",
       "  </thead>\n",
       "  <tbody>\n",
       "    <tr>\n",
       "      <th>825</th>\n",
       "      <td>tt0783640</td>\n",
       "      <td>The Last Full Measure</td>\n",
       "      <td>The Last Full Measure</td>\n",
       "      <td>2019</td>\n",
       "      <td>2020-01-23</td>\n",
       "      <td>116</td>\n",
       "      <td>20000000</td>\n",
       "      <td>3364426</td>\n",
       "      <td>415214.0</td>\n",
       "      <td>2949212.0</td>\n",
       "      <td>...</td>\n",
       "      <td>247</td>\n",
       "      <td>The incredible true story of Vietnam War hero ...</td>\n",
       "      <td>NaN</td>\n",
       "      <td>Drama,War</td>\n",
       "      <td>Foresight Unlimited, Provocator, SSS Entertain...</td>\n",
       "      <td>2020.0</td>\n",
       "      <td>-16635574</td>\n",
       "      <td>-0.831779</td>\n",
       "      <td>1</td>\n",
       "      <td>dump months</td>\n",
       "    </tr>\n",
       "    <tr>\n",
       "      <th>2009</th>\n",
       "      <td>tt0983946</td>\n",
       "      <td>Fantasy Island</td>\n",
       "      <td>Fantasy Island</td>\n",
       "      <td>2020</td>\n",
       "      <td>2020-02-12</td>\n",
       "      <td>109</td>\n",
       "      <td>7000000</td>\n",
       "      <td>48811343</td>\n",
       "      <td>21502054.0</td>\n",
       "      <td>27309289.0</td>\n",
       "      <td>...</td>\n",
       "      <td>1450</td>\n",
       "      <td>A group of contest winners arrive at an island...</td>\n",
       "      <td>NaN</td>\n",
       "      <td>Action,Adventure,Fantasy</td>\n",
       "      <td>Blumhouse Productions, Columbia Pictures</td>\n",
       "      <td>2020.0</td>\n",
       "      <td>41811343</td>\n",
       "      <td>5.973049</td>\n",
       "      <td>2</td>\n",
       "      <td>dump months</td>\n",
       "    </tr>\n",
       "    <tr>\n",
       "      <th>2230</th>\n",
       "      <td>tt10044182</td>\n",
       "      <td>Block Z</td>\n",
       "      <td>Block Z</td>\n",
       "      <td>2020</td>\n",
       "      <td>2020-01-29</td>\n",
       "      <td>101</td>\n",
       "      <td>646955</td>\n",
       "      <td>709452</td>\n",
       "      <td>NaN</td>\n",
       "      <td>NaN</td>\n",
       "      <td>...</td>\n",
       "      <td>6</td>\n",
       "      <td>A pre-med student and her friends encounter th...</td>\n",
       "      <td>NaN</td>\n",
       "      <td>Action,Horror,Thriller</td>\n",
       "      <td>Star Cinema – ABS-CBN Film Productions, Keep F...</td>\n",
       "      <td>2020.0</td>\n",
       "      <td>62497</td>\n",
       "      <td>0.096602</td>\n",
       "      <td>1</td>\n",
       "      <td>dump months</td>\n",
       "    </tr>\n",
       "  </tbody>\n",
       "</table>\n",
       "<p>3 rows × 22 columns</p>\n",
       "</div>"
      ],
      "text/plain": [
       "         imdb_id           primaryTitle          originalTitle  startYear  \\\n",
       "825    tt0783640  The Last Full Measure  The Last Full Measure       2019   \n",
       "2009   tt0983946         Fantasy Island         Fantasy Island       2020   \n",
       "2230  tt10044182                Block Z                Block Z       2020   \n",
       "\n",
       "     release_date  runtimeMinutes    budget  world_collection  int_collection  \\\n",
       "825    2020-01-23             116  20000000           3364426        415214.0   \n",
       "2009   2020-02-12             109   7000000          48811343      21502054.0   \n",
       "2230   2020-01-29             101    646955            709452             NaN   \n",
       "\n",
       "      dom_collection  ...  vote_count  \\\n",
       "825        2949212.0  ...         247   \n",
       "2009      27309289.0  ...        1450   \n",
       "2230             NaN  ...           6   \n",
       "\n",
       "                                               overview  \\\n",
       "825   The incredible true story of Vietnam War hero ...   \n",
       "2009  A group of contest winners arrive at an island...   \n",
       "2230  A pre-med student and her friends encounter th...   \n",
       "\n",
       "      belongs_to_collection.name                    genres  \\\n",
       "825                          NaN                 Drama,War   \n",
       "2009                         NaN  Action,Adventure,Fantasy   \n",
       "2230                         NaN    Action,Horror,Thriller   \n",
       "\n",
       "                                        production_comp release_year  \\\n",
       "825   Foresight Unlimited, Provocator, SSS Entertain...       2020.0   \n",
       "2009           Blumhouse Productions, Columbia Pictures       2020.0   \n",
       "2230  Star Cinema – ABS-CBN Film Productions, Keep F...       2020.0   \n",
       "\n",
       "           ROI  ROI_percentage  release_month  release_timing  \n",
       "825  -16635574       -0.831779              1     dump months  \n",
       "2009  41811343        5.973049              2     dump months  \n",
       "2230     62497        0.096602              1     dump months  \n",
       "\n",
       "[3 rows x 22 columns]"
      ]
     },
     "execution_count": 32,
     "metadata": {},
     "output_type": "execute_result"
    }
   ],
   "source": [
    "timing_df.head(3)"
   ]
  },
  {
   "cell_type": "code",
   "execution_count": 33,
   "metadata": {
    "hidden": true
   },
   "outputs": [
    {
     "data": {
      "image/png": "[encoded data removed]",
      "text/plain": [
       "<Figure size 640x480 with 1 Axes>"
      ]
     },
     "metadata": {},
     "output_type": "display_data"
    }
   ],
   "source": [
    "sns.barplot(data=timing_df, x='release_timing', y='ROI_percentage',hue='release_year')\n",
    "plt.show()"
   ]
  },
  {
   "cell_type": "markdown",
   "metadata": {
    "heading_collapsed": true
   },
   "source": [
    "## franchaise performance"
   ]
  },
  {
   "cell_type": "code",
   "execution_count": 34,
   "metadata": {
    "hidden": true
   },
   "outputs": [],
   "source": [
    "franchaise_df_main = main_df.copy()"
   ]
  },
  {
   "cell_type": "code",
   "execution_count": 35,
   "metadata": {
    "hidden": true
   },
   "outputs": [],
   "source": [
    "franchaise_df = main_df[~main_df['belongs_to_collection.name'].isna()]"
   ]
  },
  {
   "cell_type": "code",
   "execution_count": 36,
   "metadata": {
    "hidden": true
   },
   "outputs": [],
   "source": [
    "franchaise_df = franchaise_df.rename(columns={\"belongs_to_collection.name\": \"belongs_to_collection\"})"
   ]
  },
  {
   "cell_type": "code",
   "execution_count": 37,
   "metadata": {
    "hidden": true
   },
   "outputs": [],
   "source": [
    "non_franchaise_df = main_df[main_df['belongs_to_collection.name'].isna()].copy()"
   ]
  },
  {
   "cell_type": "markdown",
   "metadata": {
    "hidden": true
   },
   "source": [
    "### franchaise info"
   ]
  },
  {
   "cell_type": "code",
   "execution_count": 38,
   "metadata": {
    "hidden": true
   },
   "outputs": [],
   "source": [
    "list_of_franchaise = franchaise_df['belongs_to_collection'].unique()"
   ]
  },
  {
   "cell_type": "code",
   "execution_count": 39,
   "metadata": {
    "hidden": true
   },
   "outputs": [],
   "source": [
    "franchaise_df_ = franchaise_df.groupby('belongs_to_collection').mean().ROI_percentage.sort_values(ascending=False).reset_index()"
   ]
  },
  {
   "cell_type": "code",
   "execution_count": 40,
   "metadata": {
    "hidden": true
   },
   "outputs": [],
   "source": [
    "from pandasql import sqldf"
   ]
  },
  {
   "cell_type": "code",
   "execution_count": 41,
   "metadata": {
    "hidden": true
   },
   "outputs": [
    {
     "data": {
      "text/html": [
       "<style  type=\"text/css\" >\n",
       "#T_4ae3384b_878d_11eb_8537_3024a9882581row0_col1{\n",
       "            background-color:  #023858;\n",
       "            color:  #f1f1f1;\n",
       "        }#T_4ae3384b_878d_11eb_8537_3024a9882581row1_col1{\n",
       "            background-color:  #ede7f2;\n",
       "            color:  #000000;\n",
       "        }#T_4ae3384b_878d_11eb_8537_3024a9882581row2_col1{\n",
       "            background-color:  #fbf3f9;\n",
       "            color:  #000000;\n",
       "        }#T_4ae3384b_878d_11eb_8537_3024a9882581row3_col1,#T_4ae3384b_878d_11eb_8537_3024a9882581row4_col1,#T_4ae3384b_878d_11eb_8537_3024a9882581row5_col1{\n",
       "            background-color:  #fcf4fa;\n",
       "            color:  #000000;\n",
       "        }#T_4ae3384b_878d_11eb_8537_3024a9882581row6_col1,#T_4ae3384b_878d_11eb_8537_3024a9882581row7_col1{\n",
       "            background-color:  #fdf5fa;\n",
       "            color:  #000000;\n",
       "        }#T_4ae3384b_878d_11eb_8537_3024a9882581row8_col1,#T_4ae3384b_878d_11eb_8537_3024a9882581row9_col1,#T_4ae3384b_878d_11eb_8537_3024a9882581row10_col1{\n",
       "            background-color:  #fef6fa;\n",
       "            color:  #000000;\n",
       "        }#T_4ae3384b_878d_11eb_8537_3024a9882581row11_col1{\n",
       "            background-color:  #fef6fb;\n",
       "            color:  #000000;\n",
       "        }#T_4ae3384b_878d_11eb_8537_3024a9882581row12_col1,#T_4ae3384b_878d_11eb_8537_3024a9882581row13_col1,#T_4ae3384b_878d_11eb_8537_3024a9882581row14_col1{\n",
       "            background-color:  #fff7fb;\n",
       "            color:  #000000;\n",
       "        }</style><table id=\"T_4ae3384b_878d_11eb_8537_3024a9882581\" ><thead>    <tr>        <th class=\"blank level0\" ></th>        <th class=\"col_heading level0 col0\" >belongs_to_collection</th>        <th class=\"col_heading level0 col1\" >ROI%</th>        <th class=\"col_heading level0 col2\" >genres</th>    </tr></thead><tbody>\n",
       "                <tr>\n",
       "                        <th id=\"T_4ae3384b_878d_11eb_8537_3024a9882581level0_row0\" class=\"row_heading level0 row0\" >0</th>\n",
       "                        <td id=\"T_4ae3384b_878d_11eb_8537_3024a9882581row0_col0\" class=\"data row0 col0\" >Me contro Te - Saga</td>\n",
       "                        <td id=\"T_4ae3384b_878d_11eb_8537_3024a9882581row0_col1\" class=\"data row0 col1\" >142.731880</td>\n",
       "                        <td id=\"T_4ae3384b_878d_11eb_8537_3024a9882581row0_col2\" class=\"data row0 col2\" >Comedy,Family</td>\n",
       "            </tr>\n",
       "            <tr>\n",
       "                        <th id=\"T_4ae3384b_878d_11eb_8537_3024a9882581level0_row1\" class=\"row_heading level0 row1\" >1</th>\n",
       "                        <td id=\"T_4ae3384b_878d_11eb_8537_3024a9882581row1_col0\" class=\"data row1 col0\" >Children of the Corn Collection</td>\n",
       "                        <td id=\"T_4ae3384b_878d_11eb_8537_3024a9882581row1_col1\" class=\"data row1 col1\" >17.211236</td>\n",
       "                        <td id=\"T_4ae3384b_878d_11eb_8537_3024a9882581row1_col2\" class=\"data row1 col2\" >Horror</td>\n",
       "            </tr>\n",
       "            <tr>\n",
       "                        <th id=\"T_4ae3384b_878d_11eb_8537_3024a9882581level0_row2\" class=\"row_heading level0 row2\" >2</th>\n",
       "                        <td id=\"T_4ae3384b_878d_11eb_8537_3024a9882581row2_col0\" class=\"data row2 col0\" >Bad Boys Collection</td>\n",
       "                        <td id=\"T_4ae3384b_878d_11eb_8537_3024a9882581row2_col1\" class=\"data row2 col1\" >3.738947</td>\n",
       "                        <td id=\"T_4ae3384b_878d_11eb_8537_3024a9882581row2_col2\" class=\"data row2 col2\" >Action,Comedy,Crime</td>\n",
       "            </tr>\n",
       "            <tr>\n",
       "                        <th id=\"T_4ae3384b_878d_11eb_8537_3024a9882581level0_row3\" class=\"row_heading level0 row3\" >3</th>\n",
       "                        <td id=\"T_4ae3384b_878d_11eb_8537_3024a9882581row3_col0\" class=\"data row3 col0\" >Sonic The Hedgehog Collection</td>\n",
       "                        <td id=\"T_4ae3384b_878d_11eb_8537_3024a9882581row3_col1\" class=\"data row3 col1\" >2.761361</td>\n",
       "                        <td id=\"T_4ae3384b_878d_11eb_8537_3024a9882581row3_col2\" class=\"data row3 col2\" >Action,Adventure,Comedy</td>\n",
       "            </tr>\n",
       "            <tr>\n",
       "                        <th id=\"T_4ae3384b_878d_11eb_8537_3024a9882581level0_row4\" class=\"row_heading level0 row4\" >4</th>\n",
       "                        <td id=\"T_4ae3384b_878d_11eb_8537_3024a9882581row4_col0\" class=\"data row4 col0\" >Padre no hay más que uno - Colección</td>\n",
       "                        <td id=\"T_4ae3384b_878d_11eb_8537_3024a9882581row4_col1\" class=\"data row4 col1\" >2.717827</td>\n",
       "                        <td id=\"T_4ae3384b_878d_11eb_8537_3024a9882581row4_col2\" class=\"data row4 col2\" >Comedy</td>\n",
       "            </tr>\n",
       "            <tr>\n",
       "                        <th id=\"T_4ae3384b_878d_11eb_8537_3024a9882581level0_row5\" class=\"row_heading level0 row5\" >5</th>\n",
       "                        <td id=\"T_4ae3384b_878d_11eb_8537_3024a9882581row5_col0\" class=\"data row5 col0\" >Attraction Collection</td>\n",
       "                        <td id=\"T_4ae3384b_878d_11eb_8537_3024a9882581row5_col1\" class=\"data row5 col1\" >2.640246</td>\n",
       "                        <td id=\"T_4ae3384b_878d_11eb_8537_3024a9882581row5_col2\" class=\"data row5 col2\" >Action,Sci-Fi</td>\n",
       "            </tr>\n",
       "            <tr>\n",
       "                        <th id=\"T_4ae3384b_878d_11eb_8537_3024a9882581level0_row6\" class=\"row_heading level0 row6\" >6</th>\n",
       "                        <td id=\"T_4ae3384b_878d_11eb_8537_3024a9882581row6_col0\" class=\"data row6 col0\" >Suicide Squad Collection</td>\n",
       "                        <td id=\"T_4ae3384b_878d_11eb_8537_3024a9882581row6_col1\" class=\"data row6 col1\" >1.691446</td>\n",
       "                        <td id=\"T_4ae3384b_878d_11eb_8537_3024a9882581row6_col2\" class=\"data row6 col2\" >Action,Adventure,Comedy</td>\n",
       "            </tr>\n",
       "            <tr>\n",
       "                        <th id=\"T_4ae3384b_878d_11eb_8537_3024a9882581level0_row7\" class=\"row_heading level0 row7\" >7</th>\n",
       "                        <td id=\"T_4ae3384b_878d_11eb_8537_3024a9882581row7_col0\" class=\"data row7 col0\" >Train to Busan Collection</td>\n",
       "                        <td id=\"T_4ae3384b_878d_11eb_8537_3024a9882581row7_col1\" class=\"data row7 col1\" >1.511666</td>\n",
       "                        <td id=\"T_4ae3384b_878d_11eb_8537_3024a9882581row7_col2\" class=\"data row7 col2\" >Action,Horror,Thriller</td>\n",
       "            </tr>\n",
       "            <tr>\n",
       "                        <th id=\"T_4ae3384b_878d_11eb_8537_3024a9882581level0_row8\" class=\"row_heading level0 row8\" >8</th>\n",
       "                        <td id=\"T_4ae3384b_878d_11eb_8537_3024a9882581row8_col0\" class=\"data row8 col0\" >The Croods Collection</td>\n",
       "                        <td id=\"T_4ae3384b_878d_11eb_8537_3024a9882581row8_col1\" class=\"data row8 col1\" >1.441442</td>\n",
       "                        <td id=\"T_4ae3384b_878d_11eb_8537_3024a9882581row8_col2\" class=\"data row8 col2\" >Adventure,Animation,Comedy</td>\n",
       "            </tr>\n",
       "            <tr>\n",
       "                        <th id=\"T_4ae3384b_878d_11eb_8537_3024a9882581level0_row9\" class=\"row_heading level0 row9\" >9</th>\n",
       "                        <td id=\"T_4ae3384b_878d_11eb_8537_3024a9882581row9_col0\" class=\"data row9 col0\" >Baaghi Collection</td>\n",
       "                        <td id=\"T_4ae3384b_878d_11eb_8537_3024a9882581row9_col1\" class=\"data row9 col1\" >1.103315</td>\n",
       "                        <td id=\"T_4ae3384b_878d_11eb_8537_3024a9882581row9_col2\" class=\"data row9 col2\" >Action,Thriller</td>\n",
       "            </tr>\n",
       "            <tr>\n",
       "                        <th id=\"T_4ae3384b_878d_11eb_8537_3024a9882581level0_row10\" class=\"row_heading level0 row10\" >10</th>\n",
       "                        <td id=\"T_4ae3384b_878d_11eb_8537_3024a9882581row10_col0\" class=\"data row10 col0\" >The Boy Collection</td>\n",
       "                        <td id=\"T_4ae3384b_878d_11eb_8537_3024a9882581row10_col1\" class=\"data row10 col1\" >1.031154</td>\n",
       "                        <td id=\"T_4ae3384b_878d_11eb_8537_3024a9882581row10_col2\" class=\"data row10 col2\" >Drama,Horror,Mystery</td>\n",
       "            </tr>\n",
       "            <tr>\n",
       "                        <th id=\"T_4ae3384b_878d_11eb_8537_3024a9882581level0_row11\" class=\"row_heading level0 row11\" >11</th>\n",
       "                        <td id=\"T_4ae3384b_878d_11eb_8537_3024a9882581row11_col0\" class=\"data row11 col0\" >ABCD Collection</td>\n",
       "                        <td id=\"T_4ae3384b_878d_11eb_8537_3024a9882581row11_col1\" class=\"data row11 col1\" >0.367762</td>\n",
       "                        <td id=\"T_4ae3384b_878d_11eb_8537_3024a9882581row11_col2\" class=\"data row11 col2\" >Drama,Music</td>\n",
       "            </tr>\n",
       "            <tr>\n",
       "                        <th id=\"T_4ae3384b_878d_11eb_8537_3024a9882581level0_row12\" class=\"row_heading level0 row12\" >12</th>\n",
       "                        <td id=\"T_4ae3384b_878d_11eb_8537_3024a9882581row12_col0\" class=\"data row12 col0\" >Knutsen & Ludvigsen Collection</td>\n",
       "                        <td id=\"T_4ae3384b_878d_11eb_8537_3024a9882581row12_col1\" class=\"data row12 col1\" >-0.051432</td>\n",
       "                        <td id=\"T_4ae3384b_878d_11eb_8537_3024a9882581row12_col2\" class=\"data row12 col2\" >Animation,Family</td>\n",
       "            </tr>\n",
       "            <tr>\n",
       "                        <th id=\"T_4ae3384b_878d_11eb_8537_3024a9882581level0_row13\" class=\"row_heading level0 row13\" >13</th>\n",
       "                        <td id=\"T_4ae3384b_878d_11eb_8537_3024a9882581row13_col0\" class=\"data row13 col0\" >Wonder Woman Collection</td>\n",
       "                        <td id=\"T_4ae3384b_878d_11eb_8537_3024a9882581row13_col1\" class=\"data row13 col1\" >-0.179735</td>\n",
       "                        <td id=\"T_4ae3384b_878d_11eb_8537_3024a9882581row13_col2\" class=\"data row13 col2\" >Action,Adventure,Fantasy</td>\n",
       "            </tr>\n",
       "            <tr>\n",
       "                        <th id=\"T_4ae3384b_878d_11eb_8537_3024a9882581level0_row14\" class=\"row_heading level0 row14\" >14</th>\n",
       "                        <td id=\"T_4ae3384b_878d_11eb_8537_3024a9882581row14_col0\" class=\"data row14 col0\" >Bloodshot Collection</td>\n",
       "                        <td id=\"T_4ae3384b_878d_11eb_8537_3024a9882581row14_col1\" class=\"data row14 col1\" >-0.201370</td>\n",
       "                        <td id=\"T_4ae3384b_878d_11eb_8537_3024a9882581row14_col2\" class=\"data row14 col2\" >Action,Drama,Sci-Fi</td>\n",
       "            </tr>\n",
       "    </tbody></table>"
      ],
      "text/plain": [
       "<pandas.io.formats.style.Styler at 0x27f41d43c70>"
      ]
     },
     "execution_count": 41,
     "metadata": {},
     "output_type": "execute_result"
    }
   ],
   "source": [
    "list_of_franchaise_df = sqldf(\n",
    "    \"\"\"SELECT belongs_to_collection, a.ROI_percentage AS 'ROI%', b.genres FROM franchaise_df_ AS a JOIN franchaise_df AS b USING(belongs_to_collection);\"\"\"\n",
    ")\n",
    "list_of_franchaise_df[:15].style.background_gradient()"
   ]
  },
  {
   "cell_type": "markdown",
   "metadata": {
    "heading_collapsed": true,
    "hidden": true
   },
   "source": [
    "#### which genre for franchaise"
   ]
  },
  {
   "cell_type": "code",
   "execution_count": 42,
   "metadata": {
    "hidden": true
   },
   "outputs": [
    {
     "data": {
      "text/html": [
       "<style  type=\"text/css\" >\n",
       "#T_4d01d1d9_878d_11eb_9916_3024a9882581row0_col0,#T_4d01d1d9_878d_11eb_9916_3024a9882581row5_col0,#T_4d01d1d9_878d_11eb_9916_3024a9882581row6_col0,#T_4d01d1d9_878d_11eb_9916_3024a9882581row12_col0{\n",
       "            background-color:  #ece7f2;\n",
       "            color:  #000000;\n",
       "        }#T_4d01d1d9_878d_11eb_9916_3024a9882581row0_col1,#T_4d01d1d9_878d_11eb_9916_3024a9882581row1_col0,#T_4d01d1d9_878d_11eb_9916_3024a9882581row4_col0{\n",
       "            background-color:  #023858;\n",
       "            color:  #f1f1f1;\n",
       "        }#T_4d01d1d9_878d_11eb_9916_3024a9882581row1_col1{\n",
       "            background-color:  #d2d2e7;\n",
       "            color:  #000000;\n",
       "        }#T_4d01d1d9_878d_11eb_9916_3024a9882581row2_col0,#T_4d01d1d9_878d_11eb_9916_3024a9882581row9_col0,#T_4d01d1d9_878d_11eb_9916_3024a9882581row10_col0{\n",
       "            background-color:  #d0d1e6;\n",
       "            color:  #000000;\n",
       "        }#T_4d01d1d9_878d_11eb_9916_3024a9882581row2_col1{\n",
       "            background-color:  #f0eaf4;\n",
       "            color:  #000000;\n",
       "        }#T_4d01d1d9_878d_11eb_9916_3024a9882581row3_col0,#T_4d01d1d9_878d_11eb_9916_3024a9882581row7_col0,#T_4d01d1d9_878d_11eb_9916_3024a9882581row11_col0,#T_4d01d1d9_878d_11eb_9916_3024a9882581row13_col0,#T_4d01d1d9_878d_11eb_9916_3024a9882581row13_col1{\n",
       "            background-color:  #fff7fb;\n",
       "            color:  #000000;\n",
       "        }#T_4d01d1d9_878d_11eb_9916_3024a9882581row3_col1{\n",
       "            background-color:  #f6eff7;\n",
       "            color:  #000000;\n",
       "        }#T_4d01d1d9_878d_11eb_9916_3024a9882581row4_col1,#T_4d01d1d9_878d_11eb_9916_3024a9882581row5_col1,#T_4d01d1d9_878d_11eb_9916_3024a9882581row6_col1{\n",
       "            background-color:  #fbf4f9;\n",
       "            color:  #000000;\n",
       "        }#T_4d01d1d9_878d_11eb_9916_3024a9882581row7_col1{\n",
       "            background-color:  #fcf4fa;\n",
       "            color:  #000000;\n",
       "        }#T_4d01d1d9_878d_11eb_9916_3024a9882581row8_col0{\n",
       "            background-color:  #358fc0;\n",
       "            color:  #000000;\n",
       "        }#T_4d01d1d9_878d_11eb_9916_3024a9882581row8_col1,#T_4d01d1d9_878d_11eb_9916_3024a9882581row9_col1{\n",
       "            background-color:  #fdf5fa;\n",
       "            color:  #000000;\n",
       "        }#T_4d01d1d9_878d_11eb_9916_3024a9882581row10_col1{\n",
       "            background-color:  #fef6fa;\n",
       "            color:  #000000;\n",
       "        }#T_4d01d1d9_878d_11eb_9916_3024a9882581row11_col1,#T_4d01d1d9_878d_11eb_9916_3024a9882581row12_col1{\n",
       "            background-color:  #fef6fb;\n",
       "            color:  #000000;\n",
       "        }</style><table id=\"T_4d01d1d9_878d_11eb_9916_3024a9882581\" ><thead>    <tr>        <th class=\"blank level0\" ></th>        <th class=\"col_heading level0 col0\" colspan=2>ROI%</th>    </tr>    <tr>        <th class=\"blank level1\" ></th>        <th class=\"col_heading level1 col0\" >count</th>        <th class=\"col_heading level1 col1\" >mean</th>    </tr>    <tr>        <th class=\"index_name level0\" >genres_exp</th>        <th class=\"blank\" ></th>        <th class=\"blank\" ></th>    </tr></thead><tbody>\n",
       "                <tr>\n",
       "                        <th id=\"T_4d01d1d9_878d_11eb_9916_3024a9882581level0_row0\" class=\"row_heading level0 row0\" >Family</th>\n",
       "                        <td id=\"T_4d01d1d9_878d_11eb_9916_3024a9882581row0_col0\" class=\"data row0 col0\" >2</td>\n",
       "                        <td id=\"T_4d01d1d9_878d_11eb_9916_3024a9882581row0_col1\" class=\"data row0 col1\" >71.340224</td>\n",
       "            </tr>\n",
       "            <tr>\n",
       "                        <th id=\"T_4d01d1d9_878d_11eb_9916_3024a9882581level0_row1\" class=\"row_heading level0 row1\" >Comedy</th>\n",
       "                        <td id=\"T_4d01d1d9_878d_11eb_9916_3024a9882581row1_col0\" class=\"data row1 col0\" >9</td>\n",
       "                        <td id=\"T_4d01d1d9_878d_11eb_9916_3024a9882581row1_col1\" class=\"data row1 col1\" >16.989398</td>\n",
       "            </tr>\n",
       "            <tr>\n",
       "                        <th id=\"T_4d01d1d9_878d_11eb_9916_3024a9882581level0_row2\" class=\"row_heading level0 row2\" >Horror</th>\n",
       "                        <td id=\"T_4d01d1d9_878d_11eb_9916_3024a9882581row2_col0\" class=\"data row2 col0\" >3</td>\n",
       "                        <td id=\"T_4d01d1d9_878d_11eb_9916_3024a9882581row2_col1\" class=\"data row2 col1\" >6.584685</td>\n",
       "            </tr>\n",
       "            <tr>\n",
       "                        <th id=\"T_4d01d1d9_878d_11eb_9916_3024a9882581level0_row3\" class=\"row_heading level0 row3\" >Crime</th>\n",
       "                        <td id=\"T_4d01d1d9_878d_11eb_9916_3024a9882581row3_col0\" class=\"data row3 col0\" >1</td>\n",
       "                        <td id=\"T_4d01d1d9_878d_11eb_9916_3024a9882581row3_col1\" class=\"data row3 col1\" >3.738947</td>\n",
       "            </tr>\n",
       "            <tr>\n",
       "                        <th id=\"T_4d01d1d9_878d_11eb_9916_3024a9882581level0_row4\" class=\"row_heading level0 row4\" >Action</th>\n",
       "                        <td id=\"T_4d01d1d9_878d_11eb_9916_3024a9882581row4_col0\" class=\"data row4 col0\" >9</td>\n",
       "                        <td id=\"T_4d01d1d9_878d_11eb_9916_3024a9882581row4_col1\" class=\"data row4 col1\" >1.395188</td>\n",
       "            </tr>\n",
       "            <tr>\n",
       "                        <th id=\"T_4d01d1d9_878d_11eb_9916_3024a9882581level0_row5\" class=\"row_heading level0 row5\" >Thriller</th>\n",
       "                        <td id=\"T_4d01d1d9_878d_11eb_9916_3024a9882581row5_col0\" class=\"data row5 col0\" >2</td>\n",
       "                        <td id=\"T_4d01d1d9_878d_11eb_9916_3024a9882581row5_col1\" class=\"data row5 col1\" >1.307491</td>\n",
       "            </tr>\n",
       "            <tr>\n",
       "                        <th id=\"T_4d01d1d9_878d_11eb_9916_3024a9882581level0_row6\" class=\"row_heading level0 row6\" >Sci-Fi</th>\n",
       "                        <td id=\"T_4d01d1d9_878d_11eb_9916_3024a9882581row6_col0\" class=\"data row6 col0\" >2</td>\n",
       "                        <td id=\"T_4d01d1d9_878d_11eb_9916_3024a9882581row6_col1\" class=\"data row6 col1\" >1.219438</td>\n",
       "            </tr>\n",
       "            <tr>\n",
       "                        <th id=\"T_4d01d1d9_878d_11eb_9916_3024a9882581level0_row7\" class=\"row_heading level0 row7\" >Mystery</th>\n",
       "                        <td id=\"T_4d01d1d9_878d_11eb_9916_3024a9882581row7_col0\" class=\"data row7 col0\" >1</td>\n",
       "                        <td id=\"T_4d01d1d9_878d_11eb_9916_3024a9882581row7_col1\" class=\"data row7 col1\" >1.031154</td>\n",
       "            </tr>\n",
       "            <tr>\n",
       "                        <th id=\"T_4d01d1d9_878d_11eb_9916_3024a9882581level0_row8\" class=\"row_heading level0 row8\" >Adventure</th>\n",
       "                        <td id=\"T_4d01d1d9_878d_11eb_9916_3024a9882581row8_col0\" class=\"data row8 col0\" >6</td>\n",
       "                        <td id=\"T_4d01d1d9_878d_11eb_9916_3024a9882581row8_col1\" class=\"data row8 col1\" >0.674230</td>\n",
       "            </tr>\n",
       "            <tr>\n",
       "                        <th id=\"T_4d01d1d9_878d_11eb_9916_3024a9882581level0_row9\" class=\"row_heading level0 row9\" >Drama</th>\n",
       "                        <td id=\"T_4d01d1d9_878d_11eb_9916_3024a9882581row9_col0\" class=\"data row9 col0\" >3</td>\n",
       "                        <td id=\"T_4d01d1d9_878d_11eb_9916_3024a9882581row9_col1\" class=\"data row9 col1\" >0.399182</td>\n",
       "            </tr>\n",
       "            <tr>\n",
       "                        <th id=\"T_4d01d1d9_878d_11eb_9916_3024a9882581level0_row10\" class=\"row_heading level0 row10\" >Animation</th>\n",
       "                        <td id=\"T_4d01d1d9_878d_11eb_9916_3024a9882581row10_col0\" class=\"data row10 col0\" >3</td>\n",
       "                        <td id=\"T_4d01d1d9_878d_11eb_9916_3024a9882581row10_col1\" class=\"data row10 col1\" >0.156730</td>\n",
       "            </tr>\n",
       "            <tr>\n",
       "                        <th id=\"T_4d01d1d9_878d_11eb_9916_3024a9882581level0_row11\" class=\"row_heading level0 row11\" >Fantasy</th>\n",
       "                        <td id=\"T_4d01d1d9_878d_11eb_9916_3024a9882581row11_col0\" class=\"data row11 col0\" >1</td>\n",
       "                        <td id=\"T_4d01d1d9_878d_11eb_9916_3024a9882581row11_col1\" class=\"data row11 col1\" >-0.179735</td>\n",
       "            </tr>\n",
       "            <tr>\n",
       "                        <th id=\"T_4d01d1d9_878d_11eb_9916_3024a9882581level0_row12\" class=\"row_heading level0 row12\" >Music</th>\n",
       "                        <td id=\"T_4d01d1d9_878d_11eb_9916_3024a9882581row12_col0\" class=\"data row12 col0\" >2</td>\n",
       "                        <td id=\"T_4d01d1d9_878d_11eb_9916_3024a9882581row12_col1\" class=\"data row12 col1\" >-0.190777</td>\n",
       "            </tr>\n",
       "            <tr>\n",
       "                        <th id=\"T_4d01d1d9_878d_11eb_9916_3024a9882581level0_row13\" class=\"row_heading level0 row13\" >Romance</th>\n",
       "                        <td id=\"T_4d01d1d9_878d_11eb_9916_3024a9882581row13_col0\" class=\"data row13 col0\" >1</td>\n",
       "                        <td id=\"T_4d01d1d9_878d_11eb_9916_3024a9882581row13_col1\" class=\"data row13 col1\" >-0.507748</td>\n",
       "            </tr>\n",
       "    </tbody></table>"
      ],
      "text/plain": [
       "<pandas.io.formats.style.Styler at 0x27f41fd47c0>"
      ]
     },
     "execution_count": 42,
     "metadata": {},
     "output_type": "execute_result"
    }
   ],
   "source": [
    "list_of_franchaise_df.loc[:, 'genres_exp'] = list_of_franchaise_df.genres.map(\n",
    "    lambda x: x.split(','))\n",
    "list_of_franchaise_df.explode('genres_exp').groupby('genres_exp').agg(\n",
    "    ['count', 'mean']).sort_values(by=('ROI%', 'mean'),\n",
    "                                   ascending=False).style.background_gradient()"
   ]
  },
  {
   "cell_type": "markdown",
   "metadata": {
    "heading_collapsed": true,
    "hidden": true
   },
   "source": [
    "### non franchaise info"
   ]
  },
  {
   "cell_type": "code",
   "execution_count": 43,
   "metadata": {
    "hidden": true
   },
   "outputs": [
    {
     "data": {
      "text/plain": [
       "1.6470646953397778"
      ]
     },
     "execution_count": 43,
     "metadata": {},
     "output_type": "execute_result"
    }
   ],
   "source": [
    "non_franchaise_df.ROI_percentage.mean()"
   ]
  },
  {
   "cell_type": "code",
   "execution_count": 44,
   "metadata": {
    "hidden": true
   },
   "outputs": [],
   "source": [
    "non_franchaise_df.loc[:, 'genres_exp'] = non_franchaise_df.genres.map(\n",
    "    lambda x: x.split(','))"
   ]
  },
  {
   "cell_type": "code",
   "execution_count": 45,
   "metadata": {
    "hidden": true
   },
   "outputs": [],
   "source": [
    "non_franchaise_df = non_franchaise_df.explode('genres_exp')"
   ]
  },
  {
   "cell_type": "code",
   "execution_count": 46,
   "metadata": {
    "hidden": true
   },
   "outputs": [
    {
     "data": {
      "image/png": "[encoded data removed]",
      "text/plain": [
       "<Figure size 2000x600 with 1 Axes>"
      ]
     },
     "metadata": {},
     "output_type": "display_data"
    }
   ],
   "source": [
    "# styling\n",
    "sns.set_style('ticks')\n",
    "fig, ax = plt.subplots()\n",
    "fig.set_size_inches(20, 6)\n",
    "# plotting\n",
    "sns.barplot(data=non_franchaise_df,\n",
    "            x='genres_exp',\n",
    "            y='world_collection',\n",
    "            hue='release_year')\n",
    "plt.show()"
   ]
  },
  {
   "cell_type": "markdown",
   "metadata": {
    "heading_collapsed": true,
    "hidden": true
   },
   "source": [
    "### side by side"
   ]
  },
  {
   "cell_type": "code",
   "execution_count": 47,
   "metadata": {
    "hidden": true
   },
   "outputs": [],
   "source": [
    "franchaise_df_main.loc[~main_df['belongs_to_collection.name'].isna(),'franchaise'] = True"
   ]
  },
  {
   "cell_type": "code",
   "execution_count": 48,
   "metadata": {
    "hidden": true
   },
   "outputs": [],
   "source": [
    "franchaise_df_main.loc[main_df['belongs_to_collection.name'].isna(),'franchaise'] = False"
   ]
  },
  {
   "cell_type": "code",
   "execution_count": 49,
   "metadata": {
    "hidden": true
   },
   "outputs": [
    {
     "data": {
      "image/png": "[encoded data removed]",
      "text/plain": [
       "<Figure size 1133.88x700 with 1 Axes>"
      ]
     },
     "metadata": {},
     "output_type": "display_data"
    },
    {
     "data": {
      "image/png": "[encoded data removed]",
      "text/plain": [
       "<Figure size 1133.88x700 with 1 Axes>"
      ]
     },
     "metadata": {},
     "output_type": "display_data"
    }
   ],
   "source": [
    "sns.lmplot(data=franchaise_df_main, x='vote_average' , y='world_collection', hue='franchaise', height=7,aspect=1.5, markers='x',)\n",
    "sns.lmplot(data=franchaise_df_main, x='budget' , y='world_collection', hue='franchaise', height=7,aspect=1.5, markers='x',)\n",
    "plt.show()"
   ]
  },
  {
   "cell_type": "code",
   "execution_count": null,
   "metadata": {
    "hidden": true
   },
   "outputs": [],
   "source": []
  },
  {
   "cell_type": "markdown",
   "metadata": {},
   "source": [
    "## most successfull genere combo"
   ]
  },
  {
   "cell_type": "code",
   "execution_count": null,
   "metadata": {},
   "outputs": [],
   "source": []
  },
  {
   "cell_type": "markdown",
   "metadata": {
    "heading_collapsed": true
   },
   "source": [
    "## profitability"
   ]
  },
  {
   "cell_type": "markdown",
   "metadata": {
    "heading_collapsed": true,
    "hidden": true
   },
   "source": [
    "### budget vs profitability"
   ]
  },
  {
   "cell_type": "code",
   "execution_count": 50,
   "metadata": {
    "hidden": true
   },
   "outputs": [
    {
     "data": {
      "image/png": "[encoded data removed]",
      "text/plain": [
       "<Figure size 592.625x500 with 1 Axes>"
      ]
     },
     "metadata": {},
     "output_type": "display_data"
    }
   ],
   "source": [
    "sns.lmplot(data=main_df, x='budget', y='ROI',hue='release_year')\n",
    "plt.show()"
   ]
  },
  {
   "cell_type": "markdown",
   "metadata": {
    "heading_collapsed": true,
    "hidden": true
   },
   "source": [
    "### runtime on profitability"
   ]
  },
  {
   "cell_type": "code",
   "execution_count": 51,
   "metadata": {
    "hidden": true
   },
   "outputs": [
    {
     "data": {
      "image/png": "[encoded data removed]",
      "text/plain": [
       "<Figure size 592.625x500 with 1 Axes>"
      ]
     },
     "metadata": {},
     "output_type": "display_data"
    }
   ],
   "source": [
    "sns.lmplot(data=main_df, x='runtimeMinutes', y='ROI',hue='release_year')\n",
    "plt.show()"
   ]
  },
  {
   "cell_type": "markdown",
   "metadata": {
    "heading_collapsed": true,
    "hidden": true
   },
   "source": [
    "### user rating on profitability"
   ]
  },
  {
   "cell_type": "code",
   "execution_count": 52,
   "metadata": {
    "hidden": true
   },
   "outputs": [
    {
     "data": {
      "image/png": "[encoded data removed]",
      "text/plain": [
       "<Figure size 592.625x500 with 1 Axes>"
      ]
     },
     "metadata": {},
     "output_type": "display_data"
    }
   ],
   "source": [
    "sns.lmplot(data=main_df, x='vote_average', y='ROI',hue='release_year')\n",
    "plt.show()"
   ]
  },
  {
   "cell_type": "markdown",
   "metadata": {},
   "source": [
    "## most profitable director"
   ]
  },
  {
   "cell_type": "code",
   "execution_count": 62,
   "metadata": {},
   "outputs": [
    {
     "data": {
      "text/html": [
       "<div>\n",
       "<style scoped>\n",
       "    .dataframe tbody tr th:only-of-type {\n",
       "        vertical-align: middle;\n",
       "    }\n",
       "\n",
       "    .dataframe tbody tr th {\n",
       "        vertical-align: top;\n",
       "    }\n",
       "\n",
       "    .dataframe thead th {\n",
       "        text-align: right;\n",
       "    }\n",
       "</style>\n",
       "<table border=\"1\" class=\"dataframe\">\n",
       "  <thead>\n",
       "    <tr style=\"text-align: right;\">\n",
       "      <th></th>\n",
       "      <th>nconst</th>\n",
       "      <th>primaryName</th>\n",
       "      <th>birthYear</th>\n",
       "      <th>deathYear</th>\n",
       "      <th>primaryProfession</th>\n",
       "      <th>knownForTitles</th>\n",
       "      <th>profession</th>\n",
       "      <th>titles_</th>\n",
       "    </tr>\n",
       "  </thead>\n",
       "  <tbody>\n",
       "    <tr>\n",
       "      <th>4</th>\n",
       "      <td>nm0000005</td>\n",
       "      <td>Ingmar Bergman</td>\n",
       "      <td>1918</td>\n",
       "      <td>2007</td>\n",
       "      <td>writer,director,actor</td>\n",
       "      <td>tt0050976,tt0050986,tt0060827,tt0069467</td>\n",
       "      <td>director</td>\n",
       "      <td>tt0050976</td>\n",
       "    </tr>\n",
       "    <tr>\n",
       "      <th>4</th>\n",
       "      <td>nm0000005</td>\n",
       "      <td>Ingmar Bergman</td>\n",
       "      <td>1918</td>\n",
       "      <td>2007</td>\n",
       "      <td>writer,director,actor</td>\n",
       "      <td>tt0050976,tt0050986,tt0060827,tt0069467</td>\n",
       "      <td>director</td>\n",
       "      <td>tt0050986</td>\n",
       "    </tr>\n",
       "    <tr>\n",
       "      <th>4</th>\n",
       "      <td>nm0000005</td>\n",
       "      <td>Ingmar Bergman</td>\n",
       "      <td>1918</td>\n",
       "      <td>2007</td>\n",
       "      <td>writer,director,actor</td>\n",
       "      <td>tt0050976,tt0050986,tt0060827,tt0069467</td>\n",
       "      <td>director</td>\n",
       "      <td>tt0060827</td>\n",
       "    </tr>\n",
       "    <tr>\n",
       "      <th>4</th>\n",
       "      <td>nm0000005</td>\n",
       "      <td>Ingmar Bergman</td>\n",
       "      <td>1918</td>\n",
       "      <td>2007</td>\n",
       "      <td>writer,director,actor</td>\n",
       "      <td>tt0050976,tt0050986,tt0060827,tt0069467</td>\n",
       "      <td>director</td>\n",
       "      <td>tt0069467</td>\n",
       "    </tr>\n",
       "    <tr>\n",
       "      <th>7</th>\n",
       "      <td>nm0000008</td>\n",
       "      <td>Marlon Brando</td>\n",
       "      <td>1924</td>\n",
       "      <td>2004</td>\n",
       "      <td>actor,soundtrack,director</td>\n",
       "      <td>tt0047296,tt0068646,tt0070849,tt0078788</td>\n",
       "      <td>director</td>\n",
       "      <td>tt0047296</td>\n",
       "    </tr>\n",
       "    <tr>\n",
       "      <th>...</th>\n",
       "      <td>...</td>\n",
       "      <td>...</td>\n",
       "      <td>...</td>\n",
       "      <td>...</td>\n",
       "      <td>...</td>\n",
       "      <td>...</td>\n",
       "      <td>...</td>\n",
       "      <td>...</td>\n",
       "    </tr>\n",
       "    <tr>\n",
       "      <th>10775150</th>\n",
       "      <td>nm9993708</td>\n",
       "      <td>Eli Bevins</td>\n",
       "      <td>\\N</td>\n",
       "      <td>\\N</td>\n",
       "      <td>director,writer,editor</td>\n",
       "      <td>tt11753904,tt11772858,tt11702702,tt11772904</td>\n",
       "      <td>director</td>\n",
       "      <td>tt11772904</td>\n",
       "    </tr>\n",
       "    <tr>\n",
       "      <th>10775151</th>\n",
       "      <td>nm9993709</td>\n",
       "      <td>Lu Bevins</td>\n",
       "      <td>\\N</td>\n",
       "      <td>\\N</td>\n",
       "      <td>director,writer,cinematographer</td>\n",
       "      <td>tt11702702,tt11772940,tt11772904,tt11772858</td>\n",
       "      <td>director</td>\n",
       "      <td>tt11702702</td>\n",
       "    </tr>\n",
       "    <tr>\n",
       "      <th>10775151</th>\n",
       "      <td>nm9993709</td>\n",
       "      <td>Lu Bevins</td>\n",
       "      <td>\\N</td>\n",
       "      <td>\\N</td>\n",
       "      <td>director,writer,cinematographer</td>\n",
       "      <td>tt11702702,tt11772940,tt11772904,tt11772858</td>\n",
       "      <td>director</td>\n",
       "      <td>tt11772940</td>\n",
       "    </tr>\n",
       "    <tr>\n",
       "      <th>10775151</th>\n",
       "      <td>nm9993709</td>\n",
       "      <td>Lu Bevins</td>\n",
       "      <td>\\N</td>\n",
       "      <td>\\N</td>\n",
       "      <td>director,writer,cinematographer</td>\n",
       "      <td>tt11702702,tt11772940,tt11772904,tt11772858</td>\n",
       "      <td>director</td>\n",
       "      <td>tt11772904</td>\n",
       "    </tr>\n",
       "    <tr>\n",
       "      <th>10775151</th>\n",
       "      <td>nm9993709</td>\n",
       "      <td>Lu Bevins</td>\n",
       "      <td>\\N</td>\n",
       "      <td>\\N</td>\n",
       "      <td>director,writer,cinematographer</td>\n",
       "      <td>tt11702702,tt11772940,tt11772904,tt11772858</td>\n",
       "      <td>director</td>\n",
       "      <td>tt11772858</td>\n",
       "    </tr>\n",
       "  </tbody>\n",
       "</table>\n",
       "<p>1549288 rows × 8 columns</p>\n",
       "</div>"
      ],
      "text/plain": [
       "             nconst     primaryName birthYear deathYear  \\\n",
       "4         nm0000005  Ingmar Bergman      1918      2007   \n",
       "4         nm0000005  Ingmar Bergman      1918      2007   \n",
       "4         nm0000005  Ingmar Bergman      1918      2007   \n",
       "4         nm0000005  Ingmar Bergman      1918      2007   \n",
       "7         nm0000008   Marlon Brando      1924      2004   \n",
       "...             ...             ...       ...       ...   \n",
       "10775150  nm9993708      Eli Bevins        \\N        \\N   \n",
       "10775151  nm9993709       Lu Bevins        \\N        \\N   \n",
       "10775151  nm9993709       Lu Bevins        \\N        \\N   \n",
       "10775151  nm9993709       Lu Bevins        \\N        \\N   \n",
       "10775151  nm9993709       Lu Bevins        \\N        \\N   \n",
       "\n",
       "                        primaryProfession  \\\n",
       "4                   writer,director,actor   \n",
       "4                   writer,director,actor   \n",
       "4                   writer,director,actor   \n",
       "4                   writer,director,actor   \n",
       "7               actor,soundtrack,director   \n",
       "...                                   ...   \n",
       "10775150           director,writer,editor   \n",
       "10775151  director,writer,cinematographer   \n",
       "10775151  director,writer,cinematographer   \n",
       "10775151  director,writer,cinematographer   \n",
       "10775151  director,writer,cinematographer   \n",
       "\n",
       "                                       knownForTitles profession     titles_  \n",
       "4             tt0050976,tt0050986,tt0060827,tt0069467   director   tt0050976  \n",
       "4             tt0050976,tt0050986,tt0060827,tt0069467   director   tt0050986  \n",
       "4             tt0050976,tt0050986,tt0060827,tt0069467   director   tt0060827  \n",
       "4             tt0050976,tt0050986,tt0060827,tt0069467   director   tt0069467  \n",
       "7             tt0047296,tt0068646,tt0070849,tt0078788   director   tt0047296  \n",
       "...                                               ...        ...         ...  \n",
       "10775150  tt11753904,tt11772858,tt11702702,tt11772904   director  tt11772904  \n",
       "10775151  tt11702702,tt11772940,tt11772904,tt11772858   director  tt11702702  \n",
       "10775151  tt11702702,tt11772940,tt11772904,tt11772858   director  tt11772940  \n",
       "10775151  tt11702702,tt11772940,tt11772904,tt11772858   director  tt11772904  \n",
       "10775151  tt11702702,tt11772940,tt11772904,tt11772858   director  tt11772858  \n",
       "\n",
       "[1549288 rows x 8 columns]"
      ]
     },
     "execution_count": 62,
     "metadata": {},
     "output_type": "execute_result"
    }
   ],
   "source": [
    "director_df"
   ]
  },
  {
   "cell_type": "code",
   "execution_count": 63,
   "metadata": {},
   "outputs": [],
   "source": [
    "director_df.loc[:,'titles_'] = director_df['knownForTitles'].map(lambda x: x.split(','))\n",
    "director_df = director_df.explode('titles_')"
   ]
  },
  {
   "cell_type": "code",
   "execution_count": 64,
   "metadata": {},
   "outputs": [
    {
     "data": {
      "text/html": [
       "<div>\n",
       "<style scoped>\n",
       "    .dataframe tbody tr th:only-of-type {\n",
       "        vertical-align: middle;\n",
       "    }\n",
       "\n",
       "    .dataframe tbody tr th {\n",
       "        vertical-align: top;\n",
       "    }\n",
       "\n",
       "    .dataframe thead th {\n",
       "        text-align: right;\n",
       "    }\n",
       "</style>\n",
       "<table border=\"1\" class=\"dataframe\">\n",
       "  <thead>\n",
       "    <tr style=\"text-align: right;\">\n",
       "      <th></th>\n",
       "      <th>nconst</th>\n",
       "      <th>primaryName</th>\n",
       "      <th>birthYear</th>\n",
       "      <th>deathYear</th>\n",
       "      <th>primaryProfession</th>\n",
       "      <th>knownForTitles</th>\n",
       "      <th>profession</th>\n",
       "      <th>titles_</th>\n",
       "    </tr>\n",
       "  </thead>\n",
       "  <tbody>\n",
       "    <tr>\n",
       "      <th>4</th>\n",
       "      <td>nm0000005</td>\n",
       "      <td>Ingmar Bergman</td>\n",
       "      <td>1918</td>\n",
       "      <td>2007</td>\n",
       "      <td>writer,director,actor</td>\n",
       "      <td>tt0050976,tt0050986,tt0060827,tt0069467</td>\n",
       "      <td>director</td>\n",
       "      <td>tt0050976</td>\n",
       "    </tr>\n",
       "    <tr>\n",
       "      <th>4</th>\n",
       "      <td>nm0000005</td>\n",
       "      <td>Ingmar Bergman</td>\n",
       "      <td>1918</td>\n",
       "      <td>2007</td>\n",
       "      <td>writer,director,actor</td>\n",
       "      <td>tt0050976,tt0050986,tt0060827,tt0069467</td>\n",
       "      <td>director</td>\n",
       "      <td>tt0050986</td>\n",
       "    </tr>\n",
       "    <tr>\n",
       "      <th>4</th>\n",
       "      <td>nm0000005</td>\n",
       "      <td>Ingmar Bergman</td>\n",
       "      <td>1918</td>\n",
       "      <td>2007</td>\n",
       "      <td>writer,director,actor</td>\n",
       "      <td>tt0050976,tt0050986,tt0060827,tt0069467</td>\n",
       "      <td>director</td>\n",
       "      <td>tt0060827</td>\n",
       "    </tr>\n",
       "    <tr>\n",
       "      <th>4</th>\n",
       "      <td>nm0000005</td>\n",
       "      <td>Ingmar Bergman</td>\n",
       "      <td>1918</td>\n",
       "      <td>2007</td>\n",
       "      <td>writer,director,actor</td>\n",
       "      <td>tt0050976,tt0050986,tt0060827,tt0069467</td>\n",
       "      <td>director</td>\n",
       "      <td>tt0069467</td>\n",
       "    </tr>\n",
       "    <tr>\n",
       "      <th>4</th>\n",
       "      <td>nm0000005</td>\n",
       "      <td>Ingmar Bergman</td>\n",
       "      <td>1918</td>\n",
       "      <td>2007</td>\n",
       "      <td>writer,director,actor</td>\n",
       "      <td>tt0050976,tt0050986,tt0060827,tt0069467</td>\n",
       "      <td>director</td>\n",
       "      <td>tt0050976</td>\n",
       "    </tr>\n",
       "    <tr>\n",
       "      <th>...</th>\n",
       "      <td>...</td>\n",
       "      <td>...</td>\n",
       "      <td>...</td>\n",
       "      <td>...</td>\n",
       "      <td>...</td>\n",
       "      <td>...</td>\n",
       "      <td>...</td>\n",
       "      <td>...</td>\n",
       "    </tr>\n",
       "    <tr>\n",
       "      <th>10775151</th>\n",
       "      <td>nm9993709</td>\n",
       "      <td>Lu Bevins</td>\n",
       "      <td>\\N</td>\n",
       "      <td>\\N</td>\n",
       "      <td>director,writer,cinematographer</td>\n",
       "      <td>tt11702702,tt11772940,tt11772904,tt11772858</td>\n",
       "      <td>director</td>\n",
       "      <td>tt11772858</td>\n",
       "    </tr>\n",
       "    <tr>\n",
       "      <th>10775151</th>\n",
       "      <td>nm9993709</td>\n",
       "      <td>Lu Bevins</td>\n",
       "      <td>\\N</td>\n",
       "      <td>\\N</td>\n",
       "      <td>director,writer,cinematographer</td>\n",
       "      <td>tt11702702,tt11772940,tt11772904,tt11772858</td>\n",
       "      <td>director</td>\n",
       "      <td>tt11702702</td>\n",
       "    </tr>\n",
       "    <tr>\n",
       "      <th>10775151</th>\n",
       "      <td>nm9993709</td>\n",
       "      <td>Lu Bevins</td>\n",
       "      <td>\\N</td>\n",
       "      <td>\\N</td>\n",
       "      <td>director,writer,cinematographer</td>\n",
       "      <td>tt11702702,tt11772940,tt11772904,tt11772858</td>\n",
       "      <td>director</td>\n",
       "      <td>tt11772940</td>\n",
       "    </tr>\n",
       "    <tr>\n",
       "      <th>10775151</th>\n",
       "      <td>nm9993709</td>\n",
       "      <td>Lu Bevins</td>\n",
       "      <td>\\N</td>\n",
       "      <td>\\N</td>\n",
       "      <td>director,writer,cinematographer</td>\n",
       "      <td>tt11702702,tt11772940,tt11772904,tt11772858</td>\n",
       "      <td>director</td>\n",
       "      <td>tt11772904</td>\n",
       "    </tr>\n",
       "    <tr>\n",
       "      <th>10775151</th>\n",
       "      <td>nm9993709</td>\n",
       "      <td>Lu Bevins</td>\n",
       "      <td>\\N</td>\n",
       "      <td>\\N</td>\n",
       "      <td>director,writer,cinematographer</td>\n",
       "      <td>tt11702702,tt11772940,tt11772904,tt11772858</td>\n",
       "      <td>director</td>\n",
       "      <td>tt11772858</td>\n",
       "    </tr>\n",
       "  </tbody>\n",
       "</table>\n",
       "<p>5197974 rows × 8 columns</p>\n",
       "</div>"
      ],
      "text/plain": [
       "             nconst     primaryName birthYear deathYear  \\\n",
       "4         nm0000005  Ingmar Bergman      1918      2007   \n",
       "4         nm0000005  Ingmar Bergman      1918      2007   \n",
       "4         nm0000005  Ingmar Bergman      1918      2007   \n",
       "4         nm0000005  Ingmar Bergman      1918      2007   \n",
       "4         nm0000005  Ingmar Bergman      1918      2007   \n",
       "...             ...             ...       ...       ...   \n",
       "10775151  nm9993709       Lu Bevins        \\N        \\N   \n",
       "10775151  nm9993709       Lu Bevins        \\N        \\N   \n",
       "10775151  nm9993709       Lu Bevins        \\N        \\N   \n",
       "10775151  nm9993709       Lu Bevins        \\N        \\N   \n",
       "10775151  nm9993709       Lu Bevins        \\N        \\N   \n",
       "\n",
       "                        primaryProfession  \\\n",
       "4                   writer,director,actor   \n",
       "4                   writer,director,actor   \n",
       "4                   writer,director,actor   \n",
       "4                   writer,director,actor   \n",
       "4                   writer,director,actor   \n",
       "...                                   ...   \n",
       "10775151  director,writer,cinematographer   \n",
       "10775151  director,writer,cinematographer   \n",
       "10775151  director,writer,cinematographer   \n",
       "10775151  director,writer,cinematographer   \n",
       "10775151  director,writer,cinematographer   \n",
       "\n",
       "                                       knownForTitles profession     titles_  \n",
       "4             tt0050976,tt0050986,tt0060827,tt0069467   director   tt0050976  \n",
       "4             tt0050976,tt0050986,tt0060827,tt0069467   director   tt0050986  \n",
       "4             tt0050976,tt0050986,tt0060827,tt0069467   director   tt0060827  \n",
       "4             tt0050976,tt0050986,tt0060827,tt0069467   director   tt0069467  \n",
       "4             tt0050976,tt0050986,tt0060827,tt0069467   director   tt0050976  \n",
       "...                                               ...        ...         ...  \n",
       "10775151  tt11702702,tt11772940,tt11772904,tt11772858   director  tt11772858  \n",
       "10775151  tt11702702,tt11772940,tt11772904,tt11772858   director  tt11702702  \n",
       "10775151  tt11702702,tt11772940,tt11772904,tt11772858   director  tt11772940  \n",
       "10775151  tt11702702,tt11772940,tt11772904,tt11772858   director  tt11772904  \n",
       "10775151  tt11702702,tt11772940,tt11772904,tt11772858   director  tt11772858  \n",
       "\n",
       "[5197974 rows x 8 columns]"
      ]
     },
     "execution_count": 64,
     "metadata": {},
     "output_type": "execute_result"
    }
   ],
   "source": [
    "director_df"
   ]
  },
  {
   "cell_type": "code",
   "execution_count": null,
   "metadata": {},
   "outputs": [],
   "source": []
  },
  {
   "cell_type": "code",
   "execution_count": 71,
   "metadata": {},
   "outputs": [
    {
     "name": "stdout",
     "output_type": "stream",
     "text": [
      "Wall time: 56.3 s\n"
     ]
    },
    {
     "data": {
      "text/html": [
       "<div>\n",
       "<style scoped>\n",
       "    .dataframe tbody tr th:only-of-type {\n",
       "        vertical-align: middle;\n",
       "    }\n",
       "\n",
       "    .dataframe tbody tr th {\n",
       "        vertical-align: top;\n",
       "    }\n",
       "\n",
       "    .dataframe thead th {\n",
       "        text-align: right;\n",
       "    }\n",
       "</style>\n",
       "<table border=\"1\" class=\"dataframe\">\n",
       "  <thead>\n",
       "    <tr style=\"text-align: right;\">\n",
       "      <th></th>\n",
       "      <th>imdb_id</th>\n",
       "      <th>nconst</th>\n",
       "      <th>primaryName</th>\n",
       "      <th>world_collection</th>\n",
       "    </tr>\n",
       "  </thead>\n",
       "  <tbody>\n",
       "    <tr>\n",
       "      <th>0</th>\n",
       "      <td>tt7294150</td>\n",
       "      <td>nm12083212</td>\n",
       "      <td>Lolly Sawant</td>\n",
       "      <td>461341525</td>\n",
       "    </tr>\n",
       "    <tr>\n",
       "      <th>1</th>\n",
       "      <td>tt7294150</td>\n",
       "      <td>nm1299690</td>\n",
       "      <td>Hu Guan</td>\n",
       "      <td>461341525</td>\n",
       "    </tr>\n",
       "    <tr>\n",
       "      <th>2</th>\n",
       "      <td>tt7294150</td>\n",
       "      <td>nm9156865</td>\n",
       "      <td>Siyang Zhang</td>\n",
       "      <td>461341525</td>\n",
       "    </tr>\n",
       "    <tr>\n",
       "      <th>3</th>\n",
       "      <td>tt1502397</td>\n",
       "      <td>nm0331628</td>\n",
       "      <td>Janine Gosselin</td>\n",
       "      <td>426505244</td>\n",
       "    </tr>\n",
       "    <tr>\n",
       "      <th>4</th>\n",
       "      <td>tt1502397</td>\n",
       "      <td>nm10454383</td>\n",
       "      <td>Alex Bernadotte</td>\n",
       "      <td>426505244</td>\n",
       "    </tr>\n",
       "    <tr>\n",
       "      <th>5</th>\n",
       "      <td>tt1502397</td>\n",
       "      <td>nm1103665</td>\n",
       "      <td>Noah Thomson</td>\n",
       "      <td>426505244</td>\n",
       "    </tr>\n",
       "    <tr>\n",
       "      <th>6</th>\n",
       "      <td>tt1502397</td>\n",
       "      <td>nm3363895</td>\n",
       "      <td>Christopher Rucinski</td>\n",
       "      <td>426505244</td>\n",
       "    </tr>\n",
       "    <tr>\n",
       "      <th>7</th>\n",
       "      <td>tt1502397</td>\n",
       "      <td>nm3648390</td>\n",
       "      <td>Oren Tuvia</td>\n",
       "      <td>426505244</td>\n",
       "    </tr>\n",
       "    <tr>\n",
       "      <th>8</th>\n",
       "      <td>tt1502397</td>\n",
       "      <td>nm4011661</td>\n",
       "      <td>Gissette Valentin</td>\n",
       "      <td>426505244</td>\n",
       "    </tr>\n",
       "    <tr>\n",
       "      <th>9</th>\n",
       "      <td>tt1502397</td>\n",
       "      <td>nm4087973</td>\n",
       "      <td>MmJoe Sanchez</td>\n",
       "      <td>426505244</td>\n",
       "    </tr>\n",
       "    <tr>\n",
       "      <th>10</th>\n",
       "      <td>tt1502397</td>\n",
       "      <td>nm4263190</td>\n",
       "      <td>Bilall Fallah</td>\n",
       "      <td>426505244</td>\n",
       "    </tr>\n",
       "    <tr>\n",
       "      <th>11</th>\n",
       "      <td>tt1502397</td>\n",
       "      <td>nm4458727</td>\n",
       "      <td>Kenji Doughty</td>\n",
       "      <td>426505244</td>\n",
       "    </tr>\n",
       "    <tr>\n",
       "      <th>12</th>\n",
       "      <td>tt1502397</td>\n",
       "      <td>nm4510118</td>\n",
       "      <td>Henrik Hansen</td>\n",
       "      <td>426505244</td>\n",
       "    </tr>\n",
       "    <tr>\n",
       "      <th>13</th>\n",
       "      <td>tt1502397</td>\n",
       "      <td>nm4770661</td>\n",
       "      <td>Richard Woolbert</td>\n",
       "      <td>426505244</td>\n",
       "    </tr>\n",
       "    <tr>\n",
       "      <th>14</th>\n",
       "      <td>tt1502397</td>\n",
       "      <td>nm5165854</td>\n",
       "      <td>Julian Carvalho</td>\n",
       "      <td>426505244</td>\n",
       "    </tr>\n",
       "    <tr>\n",
       "      <th>15</th>\n",
       "      <td>tt1502397</td>\n",
       "      <td>nm5446535</td>\n",
       "      <td>Ton'e Brown</td>\n",
       "      <td>426505244</td>\n",
       "    </tr>\n",
       "    <tr>\n",
       "      <th>16</th>\n",
       "      <td>tt1502397</td>\n",
       "      <td>nm5512627</td>\n",
       "      <td>Ricky Tyree</td>\n",
       "      <td>426505244</td>\n",
       "    </tr>\n",
       "    <tr>\n",
       "      <th>17</th>\n",
       "      <td>tt1502397</td>\n",
       "      <td>nm6028328</td>\n",
       "      <td>Frederick Criswell</td>\n",
       "      <td>426505244</td>\n",
       "    </tr>\n",
       "    <tr>\n",
       "      <th>18</th>\n",
       "      <td>tt1502397</td>\n",
       "      <td>nm7428091</td>\n",
       "      <td>David Oliveros</td>\n",
       "      <td>426505244</td>\n",
       "    </tr>\n",
       "    <tr>\n",
       "      <th>19</th>\n",
       "      <td>tt1502397</td>\n",
       "      <td>nm7435277</td>\n",
       "      <td>Emily Gurley</td>\n",
       "      <td>426505244</td>\n",
       "    </tr>\n",
       "    <tr>\n",
       "      <th>20</th>\n",
       "      <td>tt1502397</td>\n",
       "      <td>nm7530699</td>\n",
       "      <td>Brandon Michael Thomas</td>\n",
       "      <td>426505244</td>\n",
       "    </tr>\n",
       "    <tr>\n",
       "      <th>21</th>\n",
       "      <td>tt1502397</td>\n",
       "      <td>nm7962182</td>\n",
       "      <td>Wil Gonzalez</td>\n",
       "      <td>426505244</td>\n",
       "    </tr>\n",
       "    <tr>\n",
       "      <th>22</th>\n",
       "      <td>tt6723592</td>\n",
       "      <td>nm0233027</td>\n",
       "      <td>Martin Donovan</td>\n",
       "      <td>363129000</td>\n",
       "    </tr>\n",
       "    <tr>\n",
       "      <th>23</th>\n",
       "      <td>tt6723592</td>\n",
       "      <td>nm0267718</td>\n",
       "      <td>Russell Farmarco</td>\n",
       "      <td>363129000</td>\n",
       "    </tr>\n",
       "    <tr>\n",
       "      <th>24</th>\n",
       "      <td>tt6723592</td>\n",
       "      <td>nm0991553</td>\n",
       "      <td>Rich Ceraulo Ko</td>\n",
       "      <td>363129000</td>\n",
       "    </tr>\n",
       "    <tr>\n",
       "      <th>25</th>\n",
       "      <td>tt6723592</td>\n",
       "      <td>nm0993242</td>\n",
       "      <td>Clémence Poésy</td>\n",
       "      <td>363129000</td>\n",
       "    </tr>\n",
       "    <tr>\n",
       "      <th>26</th>\n",
       "      <td>tt6723592</td>\n",
       "      <td>nm1025041</td>\n",
       "      <td>Mark Pinheiro</td>\n",
       "      <td>363129000</td>\n",
       "    </tr>\n",
       "    <tr>\n",
       "      <th>27</th>\n",
       "      <td>tt6723592</td>\n",
       "      <td>nm1881770</td>\n",
       "      <td>James Lu</td>\n",
       "      <td>363129000</td>\n",
       "    </tr>\n",
       "    <tr>\n",
       "      <th>28</th>\n",
       "      <td>tt6723592</td>\n",
       "      <td>nm1937284</td>\n",
       "      <td>Jonathan Clark</td>\n",
       "      <td>363129000</td>\n",
       "    </tr>\n",
       "    <tr>\n",
       "      <th>29</th>\n",
       "      <td>tt6723592</td>\n",
       "      <td>nm2002463</td>\n",
       "      <td>Franco Basaglia</td>\n",
       "      <td>363129000</td>\n",
       "    </tr>\n",
       "    <tr>\n",
       "      <th>30</th>\n",
       "      <td>tt6723592</td>\n",
       "      <td>nm2196693</td>\n",
       "      <td>Rain Tolk</td>\n",
       "      <td>363129000</td>\n",
       "    </tr>\n",
       "    <tr>\n",
       "      <th>31</th>\n",
       "      <td>tt6723592</td>\n",
       "      <td>nm2205681</td>\n",
       "      <td>Rodrigo Dorsch</td>\n",
       "      <td>363129000</td>\n",
       "    </tr>\n",
       "    <tr>\n",
       "      <th>32</th>\n",
       "      <td>tt6723592</td>\n",
       "      <td>nm2325385</td>\n",
       "      <td>Jess Weber</td>\n",
       "      <td>363129000</td>\n",
       "    </tr>\n",
       "    <tr>\n",
       "      <th>33</th>\n",
       "      <td>tt6723592</td>\n",
       "      <td>nm2908428</td>\n",
       "      <td>Bodie Clare</td>\n",
       "      <td>363129000</td>\n",
       "    </tr>\n",
       "    <tr>\n",
       "      <th>34</th>\n",
       "      <td>tt6723592</td>\n",
       "      <td>nm3432111</td>\n",
       "      <td>Sean Wright</td>\n",
       "      <td>363129000</td>\n",
       "    </tr>\n",
       "    <tr>\n",
       "      <th>35</th>\n",
       "      <td>tt6723592</td>\n",
       "      <td>nm3745066</td>\n",
       "      <td>Andrew Catania</td>\n",
       "      <td>363129000</td>\n",
       "    </tr>\n",
       "    <tr>\n",
       "      <th>36</th>\n",
       "      <td>tt6723592</td>\n",
       "      <td>nm3955062</td>\n",
       "      <td>Marianne Haaland</td>\n",
       "      <td>363129000</td>\n",
       "    </tr>\n",
       "    <tr>\n",
       "      <th>37</th>\n",
       "      <td>tt6723592</td>\n",
       "      <td>nm4213135</td>\n",
       "      <td>Kaiulani Bush</td>\n",
       "      <td>363129000</td>\n",
       "    </tr>\n",
       "    <tr>\n",
       "      <th>38</th>\n",
       "      <td>tt6723592</td>\n",
       "      <td>nm5204344</td>\n",
       "      <td>Schezaad Ausman</td>\n",
       "      <td>363129000</td>\n",
       "    </tr>\n",
       "    <tr>\n",
       "      <th>39</th>\n",
       "      <td>tt6723592</td>\n",
       "      <td>nm5518815</td>\n",
       "      <td>Doris Tääker</td>\n",
       "      <td>363129000</td>\n",
       "    </tr>\n",
       "    <tr>\n",
       "      <th>40</th>\n",
       "      <td>tt6723592</td>\n",
       "      <td>nm5609041</td>\n",
       "      <td>Rory Power-Gibb</td>\n",
       "      <td>363129000</td>\n",
       "    </tr>\n",
       "    <tr>\n",
       "      <th>41</th>\n",
       "      <td>tt6723592</td>\n",
       "      <td>nm5967322</td>\n",
       "      <td>Marshall Kistner</td>\n",
       "      <td>363129000</td>\n",
       "    </tr>\n",
       "    <tr>\n",
       "      <th>42</th>\n",
       "      <td>tt6723592</td>\n",
       "      <td>nm7045306</td>\n",
       "      <td>Tõnis Pill</td>\n",
       "      <td>363129000</td>\n",
       "    </tr>\n",
       "    <tr>\n",
       "      <th>43</th>\n",
       "      <td>tt6723592</td>\n",
       "      <td>nm7213092</td>\n",
       "      <td>Chester Milton</td>\n",
       "      <td>363129000</td>\n",
       "    </tr>\n",
       "    <tr>\n",
       "      <th>44</th>\n",
       "      <td>tt6723592</td>\n",
       "      <td>nm8247914</td>\n",
       "      <td>Akane Kashiwazaki</td>\n",
       "      <td>363129000</td>\n",
       "    </tr>\n",
       "    <tr>\n",
       "      <th>45</th>\n",
       "      <td>tt6723592</td>\n",
       "      <td>nm8540736</td>\n",
       "      <td>Martin Kemble</td>\n",
       "      <td>363129000</td>\n",
       "    </tr>\n",
       "    <tr>\n",
       "      <th>46</th>\n",
       "      <td>tt6723592</td>\n",
       "      <td>nm9488193</td>\n",
       "      <td>Serena Saylors</td>\n",
       "      <td>363129000</td>\n",
       "    </tr>\n",
       "    <tr>\n",
       "      <th>47</th>\n",
       "      <td>tt6723592</td>\n",
       "      <td>nm9832660</td>\n",
       "      <td>Anna Reszutarz</td>\n",
       "      <td>363129000</td>\n",
       "    </tr>\n",
       "    <tr>\n",
       "      <th>48</th>\n",
       "      <td>tt3794354</td>\n",
       "      <td>nm0267718</td>\n",
       "      <td>Russell Farmarco</td>\n",
       "      <td>319715683</td>\n",
       "    </tr>\n",
       "    <tr>\n",
       "      <th>49</th>\n",
       "      <td>tt3794354</td>\n",
       "      <td>nm0515485</td>\n",
       "      <td>Takashi Iizuka</td>\n",
       "      <td>319715683</td>\n",
       "    </tr>\n",
       "  </tbody>\n",
       "</table>\n",
       "</div>"
      ],
      "text/plain": [
       "      imdb_id      nconst             primaryName  world_collection\n",
       "0   tt7294150  nm12083212            Lolly Sawant         461341525\n",
       "1   tt7294150   nm1299690                 Hu Guan         461341525\n",
       "2   tt7294150   nm9156865            Siyang Zhang         461341525\n",
       "3   tt1502397   nm0331628         Janine Gosselin         426505244\n",
       "4   tt1502397  nm10454383         Alex Bernadotte         426505244\n",
       "5   tt1502397   nm1103665            Noah Thomson         426505244\n",
       "6   tt1502397   nm3363895    Christopher Rucinski         426505244\n",
       "7   tt1502397   nm3648390              Oren Tuvia         426505244\n",
       "8   tt1502397   nm4011661       Gissette Valentin         426505244\n",
       "9   tt1502397   nm4087973           MmJoe Sanchez         426505244\n",
       "10  tt1502397   nm4263190           Bilall Fallah         426505244\n",
       "11  tt1502397   nm4458727           Kenji Doughty         426505244\n",
       "12  tt1502397   nm4510118           Henrik Hansen         426505244\n",
       "13  tt1502397   nm4770661        Richard Woolbert         426505244\n",
       "14  tt1502397   nm5165854         Julian Carvalho         426505244\n",
       "15  tt1502397   nm5446535             Ton'e Brown         426505244\n",
       "16  tt1502397   nm5512627             Ricky Tyree         426505244\n",
       "17  tt1502397   nm6028328      Frederick Criswell         426505244\n",
       "18  tt1502397   nm7428091          David Oliveros         426505244\n",
       "19  tt1502397   nm7435277            Emily Gurley         426505244\n",
       "20  tt1502397   nm7530699  Brandon Michael Thomas         426505244\n",
       "21  tt1502397   nm7962182            Wil Gonzalez         426505244\n",
       "22  tt6723592   nm0233027          Martin Donovan         363129000\n",
       "23  tt6723592   nm0267718        Russell Farmarco         363129000\n",
       "24  tt6723592   nm0991553         Rich Ceraulo Ko         363129000\n",
       "25  tt6723592   nm0993242          Clémence Poésy         363129000\n",
       "26  tt6723592   nm1025041           Mark Pinheiro         363129000\n",
       "27  tt6723592   nm1881770                James Lu         363129000\n",
       "28  tt6723592   nm1937284          Jonathan Clark         363129000\n",
       "29  tt6723592   nm2002463         Franco Basaglia         363129000\n",
       "30  tt6723592   nm2196693               Rain Tolk         363129000\n",
       "31  tt6723592   nm2205681          Rodrigo Dorsch         363129000\n",
       "32  tt6723592   nm2325385              Jess Weber         363129000\n",
       "33  tt6723592   nm2908428             Bodie Clare         363129000\n",
       "34  tt6723592   nm3432111             Sean Wright         363129000\n",
       "35  tt6723592   nm3745066          Andrew Catania         363129000\n",
       "36  tt6723592   nm3955062        Marianne Haaland         363129000\n",
       "37  tt6723592   nm4213135           Kaiulani Bush         363129000\n",
       "38  tt6723592   nm5204344         Schezaad Ausman         363129000\n",
       "39  tt6723592   nm5518815            Doris Tääker         363129000\n",
       "40  tt6723592   nm5609041         Rory Power-Gibb         363129000\n",
       "41  tt6723592   nm5967322        Marshall Kistner         363129000\n",
       "42  tt6723592   nm7045306              Tõnis Pill         363129000\n",
       "43  tt6723592   nm7213092          Chester Milton         363129000\n",
       "44  tt6723592   nm8247914       Akane Kashiwazaki         363129000\n",
       "45  tt6723592   nm8540736           Martin Kemble         363129000\n",
       "46  tt6723592   nm9488193          Serena Saylors         363129000\n",
       "47  tt6723592   nm9832660          Anna Reszutarz         363129000\n",
       "48  tt3794354   nm0267718        Russell Farmarco         319715683\n",
       "49  tt3794354   nm0515485          Takashi Iizuka         319715683"
      ]
     },
     "execution_count": 71,
     "metadata": {},
     "output_type": "execute_result"
    }
   ],
   "source": [
    "%%time\n",
    "sqldf(\n",
    "    \"\"\"SELECT DISTINCT b.imdb_id, a.nconst,a.primaryName, b.world_collection FROM director_df AS a JOIN main_df AS b ON a.titles_=b.imdb_id ORDER BY b.world_collection DESC LIMIT 50;\"\"\"\n",
    ")"
   ]
  },
  {
   "cell_type": "markdown",
   "metadata": {},
   "source": [
    "## most profitable actors"
   ]
  },
  {
   "cell_type": "code",
   "execution_count": null,
   "metadata": {},
   "outputs": [],
   "source": []
  },
  {
   "cell_type": "markdown",
   "metadata": {},
   "source": [
    "# WIP"
   ]
  },
  {
   "cell_type": "markdown",
   "metadata": {},
   "source": [
    "add name to main df"
   ]
  },
  {
   "cell_type": "code",
   "execution_count": 60,
   "metadata": {},
   "outputs": [],
   "source": [
    "test = director_df.copy()"
   ]
  },
  {
   "cell_type": "code",
   "execution_count": 62,
   "metadata": {},
   "outputs": [],
   "source": [
    "test.loc[:,'titles_'] = test['knownForTitles'].map(lambda x: x.split(','))\n",
    "test = test.explode('titles_')"
   ]
  },
  {
   "cell_type": "code",
   "execution_count": 88,
   "metadata": {},
   "outputs": [
    {
     "data": {
      "text/html": [
       "<div>\n",
       "<style scoped>\n",
       "    .dataframe tbody tr th:only-of-type {\n",
       "        vertical-align: middle;\n",
       "    }\n",
       "\n",
       "    .dataframe tbody tr th {\n",
       "        vertical-align: top;\n",
       "    }\n",
       "\n",
       "    .dataframe thead th {\n",
       "        text-align: right;\n",
       "    }\n",
       "</style>\n",
       "<table border=\"1\" class=\"dataframe\">\n",
       "  <thead>\n",
       "    <tr style=\"text-align: right;\">\n",
       "      <th></th>\n",
       "      <th>nconst</th>\n",
       "      <th>primaryName</th>\n",
       "      <th>birthYear</th>\n",
       "      <th>deathYear</th>\n",
       "      <th>primaryProfession</th>\n",
       "      <th>knownForTitles</th>\n",
       "      <th>profession</th>\n",
       "      <th>titles_</th>\n",
       "    </tr>\n",
       "  </thead>\n",
       "  <tbody>\n",
       "    <tr>\n",
       "      <th>4</th>\n",
       "      <td>nm0000005</td>\n",
       "      <td>Ingmar Bergman</td>\n",
       "      <td>1918</td>\n",
       "      <td>2007</td>\n",
       "      <td>writer,director,actor</td>\n",
       "      <td>tt0050976,tt0050986,tt0060827,tt0069467</td>\n",
       "      <td>director</td>\n",
       "      <td>tt0050976</td>\n",
       "    </tr>\n",
       "    <tr>\n",
       "      <th>4</th>\n",
       "      <td>nm0000005</td>\n",
       "      <td>Ingmar Bergman</td>\n",
       "      <td>1918</td>\n",
       "      <td>2007</td>\n",
       "      <td>writer,director,actor</td>\n",
       "      <td>tt0050976,tt0050986,tt0060827,tt0069467</td>\n",
       "      <td>director</td>\n",
       "      <td>tt0050986</td>\n",
       "    </tr>\n",
       "    <tr>\n",
       "      <th>4</th>\n",
       "      <td>nm0000005</td>\n",
       "      <td>Ingmar Bergman</td>\n",
       "      <td>1918</td>\n",
       "      <td>2007</td>\n",
       "      <td>writer,director,actor</td>\n",
       "      <td>tt0050976,tt0050986,tt0060827,tt0069467</td>\n",
       "      <td>director</td>\n",
       "      <td>tt0060827</td>\n",
       "    </tr>\n",
       "    <tr>\n",
       "      <th>4</th>\n",
       "      <td>nm0000005</td>\n",
       "      <td>Ingmar Bergman</td>\n",
       "      <td>1918</td>\n",
       "      <td>2007</td>\n",
       "      <td>writer,director,actor</td>\n",
       "      <td>tt0050976,tt0050986,tt0060827,tt0069467</td>\n",
       "      <td>director</td>\n",
       "      <td>tt0069467</td>\n",
       "    </tr>\n",
       "    <tr>\n",
       "      <th>7</th>\n",
       "      <td>nm0000008</td>\n",
       "      <td>Marlon Brando</td>\n",
       "      <td>1924</td>\n",
       "      <td>2004</td>\n",
       "      <td>actor,soundtrack,director</td>\n",
       "      <td>tt0047296,tt0068646,tt0070849,tt0078788</td>\n",
       "      <td>director</td>\n",
       "      <td>tt0047296</td>\n",
       "    </tr>\n",
       "    <tr>\n",
       "      <th>...</th>\n",
       "      <td>...</td>\n",
       "      <td>...</td>\n",
       "      <td>...</td>\n",
       "      <td>...</td>\n",
       "      <td>...</td>\n",
       "      <td>...</td>\n",
       "      <td>...</td>\n",
       "      <td>...</td>\n",
       "    </tr>\n",
       "    <tr>\n",
       "      <th>10775150</th>\n",
       "      <td>nm9993708</td>\n",
       "      <td>Eli Bevins</td>\n",
       "      <td>\\N</td>\n",
       "      <td>\\N</td>\n",
       "      <td>director,writer,editor</td>\n",
       "      <td>tt11753904,tt11772858,tt11702702,tt11772904</td>\n",
       "      <td>director</td>\n",
       "      <td>tt11772904</td>\n",
       "    </tr>\n",
       "    <tr>\n",
       "      <th>10775151</th>\n",
       "      <td>nm9993709</td>\n",
       "      <td>Lu Bevins</td>\n",
       "      <td>\\N</td>\n",
       "      <td>\\N</td>\n",
       "      <td>director,writer,cinematographer</td>\n",
       "      <td>tt11702702,tt11772940,tt11772904,tt11772858</td>\n",
       "      <td>director</td>\n",
       "      <td>tt11702702</td>\n",
       "    </tr>\n",
       "    <tr>\n",
       "      <th>10775151</th>\n",
       "      <td>nm9993709</td>\n",
       "      <td>Lu Bevins</td>\n",
       "      <td>\\N</td>\n",
       "      <td>\\N</td>\n",
       "      <td>director,writer,cinematographer</td>\n",
       "      <td>tt11702702,tt11772940,tt11772904,tt11772858</td>\n",
       "      <td>director</td>\n",
       "      <td>tt11772940</td>\n",
       "    </tr>\n",
       "    <tr>\n",
       "      <th>10775151</th>\n",
       "      <td>nm9993709</td>\n",
       "      <td>Lu Bevins</td>\n",
       "      <td>\\N</td>\n",
       "      <td>\\N</td>\n",
       "      <td>director,writer,cinematographer</td>\n",
       "      <td>tt11702702,tt11772940,tt11772904,tt11772858</td>\n",
       "      <td>director</td>\n",
       "      <td>tt11772904</td>\n",
       "    </tr>\n",
       "    <tr>\n",
       "      <th>10775151</th>\n",
       "      <td>nm9993709</td>\n",
       "      <td>Lu Bevins</td>\n",
       "      <td>\\N</td>\n",
       "      <td>\\N</td>\n",
       "      <td>director,writer,cinematographer</td>\n",
       "      <td>tt11702702,tt11772940,tt11772904,tt11772858</td>\n",
       "      <td>director</td>\n",
       "      <td>tt11772858</td>\n",
       "    </tr>\n",
       "  </tbody>\n",
       "</table>\n",
       "<p>1549288 rows × 8 columns</p>\n",
       "</div>"
      ],
      "text/plain": [
       "             nconst     primaryName birthYear deathYear  \\\n",
       "4         nm0000005  Ingmar Bergman      1918      2007   \n",
       "4         nm0000005  Ingmar Bergman      1918      2007   \n",
       "4         nm0000005  Ingmar Bergman      1918      2007   \n",
       "4         nm0000005  Ingmar Bergman      1918      2007   \n",
       "7         nm0000008   Marlon Brando      1924      2004   \n",
       "...             ...             ...       ...       ...   \n",
       "10775150  nm9993708      Eli Bevins        \\N        \\N   \n",
       "10775151  nm9993709       Lu Bevins        \\N        \\N   \n",
       "10775151  nm9993709       Lu Bevins        \\N        \\N   \n",
       "10775151  nm9993709       Lu Bevins        \\N        \\N   \n",
       "10775151  nm9993709       Lu Bevins        \\N        \\N   \n",
       "\n",
       "                        primaryProfession  \\\n",
       "4                   writer,director,actor   \n",
       "4                   writer,director,actor   \n",
       "4                   writer,director,actor   \n",
       "4                   writer,director,actor   \n",
       "7               actor,soundtrack,director   \n",
       "...                                   ...   \n",
       "10775150           director,writer,editor   \n",
       "10775151  director,writer,cinematographer   \n",
       "10775151  director,writer,cinematographer   \n",
       "10775151  director,writer,cinematographer   \n",
       "10775151  director,writer,cinematographer   \n",
       "\n",
       "                                       knownForTitles profession     titles_  \n",
       "4             tt0050976,tt0050986,tt0060827,tt0069467   director   tt0050976  \n",
       "4             tt0050976,tt0050986,tt0060827,tt0069467   director   tt0050986  \n",
       "4             tt0050976,tt0050986,tt0060827,tt0069467   director   tt0060827  \n",
       "4             tt0050976,tt0050986,tt0060827,tt0069467   director   tt0069467  \n",
       "7             tt0047296,tt0068646,tt0070849,tt0078788   director   tt0047296  \n",
       "...                                               ...        ...         ...  \n",
       "10775150  tt11753904,tt11772858,tt11702702,tt11772904   director  tt11772904  \n",
       "10775151  tt11702702,tt11772940,tt11772904,tt11772858   director  tt11702702  \n",
       "10775151  tt11702702,tt11772940,tt11772904,tt11772858   director  tt11772940  \n",
       "10775151  tt11702702,tt11772940,tt11772904,tt11772858   director  tt11772904  \n",
       "10775151  tt11702702,tt11772940,tt11772904,tt11772858   director  tt11772858  \n",
       "\n",
       "[1549288 rows x 8 columns]"
      ]
     },
     "execution_count": 88,
     "metadata": {},
     "output_type": "execute_result"
    }
   ],
   "source": [
    "test"
   ]
  },
  {
   "cell_type": "code",
   "execution_count": 32,
   "metadata": {
    "scrolled": true
   },
   "outputs": [],
   "source": [
    "# test.pivot(index='titles_',columns='nconst')"
   ]
  },
  {
   "cell_type": "code",
   "execution_count": null,
   "metadata": {},
   "outputs": [],
   "source": [
    "test.pivot()"
   ]
  },
  {
   "cell_type": "code",
   "execution_count": null,
   "metadata": {},
   "outputs": [],
   "source": []
  },
  {
   "cell_type": "code",
   "execution_count": null,
   "metadata": {},
   "outputs": [],
   "source": []
  },
  {
   "cell_type": "code",
   "execution_count": 83,
   "metadata": {},
   "outputs": [],
   "source": [
    "tt = test.melt('titles_')"
   ]
  },
  {
   "cell_type": "code",
   "execution_count": 85,
   "metadata": {},
   "outputs": [
    {
     "data": {
      "text/html": [
       "<div>\n",
       "<style scoped>\n",
       "    .dataframe tbody tr th:only-of-type {\n",
       "        vertical-align: middle;\n",
       "    }\n",
       "\n",
       "    .dataframe tbody tr th {\n",
       "        vertical-align: top;\n",
       "    }\n",
       "\n",
       "    .dataframe thead th {\n",
       "        text-align: right;\n",
       "    }\n",
       "</style>\n",
       "<table border=\"1\" class=\"dataframe\">\n",
       "  <thead>\n",
       "    <tr style=\"text-align: right;\">\n",
       "      <th></th>\n",
       "      <th>titles_</th>\n",
       "      <th>variable</th>\n",
       "      <th>value</th>\n",
       "    </tr>\n",
       "  </thead>\n",
       "  <tbody>\n",
       "    <tr>\n",
       "      <th>0</th>\n",
       "      <td>tt0050976</td>\n",
       "      <td>nconst</td>\n",
       "      <td>nm0000005</td>\n",
       "    </tr>\n",
       "    <tr>\n",
       "      <th>1</th>\n",
       "      <td>tt0050986</td>\n",
       "      <td>nconst</td>\n",
       "      <td>nm0000005</td>\n",
       "    </tr>\n",
       "    <tr>\n",
       "      <th>2</th>\n",
       "      <td>tt0060827</td>\n",
       "      <td>nconst</td>\n",
       "      <td>nm0000005</td>\n",
       "    </tr>\n",
       "    <tr>\n",
       "      <th>3</th>\n",
       "      <td>tt0069467</td>\n",
       "      <td>nconst</td>\n",
       "      <td>nm0000005</td>\n",
       "    </tr>\n",
       "    <tr>\n",
       "      <th>4</th>\n",
       "      <td>tt0047296</td>\n",
       "      <td>nconst</td>\n",
       "      <td>nm0000008</td>\n",
       "    </tr>\n",
       "    <tr>\n",
       "      <th>...</th>\n",
       "      <td>...</td>\n",
       "      <td>...</td>\n",
       "      <td>...</td>\n",
       "    </tr>\n",
       "    <tr>\n",
       "      <th>1549283</th>\n",
       "      <td>tt11772904</td>\n",
       "      <td>nconst</td>\n",
       "      <td>nm9993708</td>\n",
       "    </tr>\n",
       "    <tr>\n",
       "      <th>1549284</th>\n",
       "      <td>tt11702702</td>\n",
       "      <td>nconst</td>\n",
       "      <td>nm9993709</td>\n",
       "    </tr>\n",
       "    <tr>\n",
       "      <th>1549285</th>\n",
       "      <td>tt11772940</td>\n",
       "      <td>nconst</td>\n",
       "      <td>nm9993709</td>\n",
       "    </tr>\n",
       "    <tr>\n",
       "      <th>1549286</th>\n",
       "      <td>tt11772904</td>\n",
       "      <td>nconst</td>\n",
       "      <td>nm9993709</td>\n",
       "    </tr>\n",
       "    <tr>\n",
       "      <th>1549287</th>\n",
       "      <td>tt11772858</td>\n",
       "      <td>nconst</td>\n",
       "      <td>nm9993709</td>\n",
       "    </tr>\n",
       "  </tbody>\n",
       "</table>\n",
       "<p>1549288 rows × 3 columns</p>\n",
       "</div>"
      ],
      "text/plain": [
       "            titles_ variable      value\n",
       "0         tt0050976   nconst  nm0000005\n",
       "1         tt0050986   nconst  nm0000005\n",
       "2         tt0060827   nconst  nm0000005\n",
       "3         tt0069467   nconst  nm0000005\n",
       "4         tt0047296   nconst  nm0000008\n",
       "...             ...      ...        ...\n",
       "1549283  tt11772904   nconst  nm9993708\n",
       "1549284  tt11702702   nconst  nm9993709\n",
       "1549285  tt11772940   nconst  nm9993709\n",
       "1549286  tt11772904   nconst  nm9993709\n",
       "1549287  tt11772858   nconst  nm9993709\n",
       "\n",
       "[1549288 rows x 3 columns]"
      ]
     },
     "execution_count": 85,
     "metadata": {},
     "output_type": "execute_result"
    }
   ],
   "source": [
    "tt[tt.variable == 'nconst']"
   ]
  },
  {
   "cell_type": "code",
   "execution_count": 64,
   "metadata": {},
   "outputs": [],
   "source": [
    "ii = test.set_index('titles_').stack().reset_index()"
   ]
  },
  {
   "cell_type": "code",
   "execution_count": 65,
   "metadata": {},
   "outputs": [
    {
     "data": {
      "text/html": [
       "<div>\n",
       "<style scoped>\n",
       "    .dataframe tbody tr th:only-of-type {\n",
       "        vertical-align: middle;\n",
       "    }\n",
       "\n",
       "    .dataframe tbody tr th {\n",
       "        vertical-align: top;\n",
       "    }\n",
       "\n",
       "    .dataframe thead th {\n",
       "        text-align: right;\n",
       "    }\n",
       "</style>\n",
       "<table border=\"1\" class=\"dataframe\">\n",
       "  <thead>\n",
       "    <tr style=\"text-align: right;\">\n",
       "      <th></th>\n",
       "      <th>titles_</th>\n",
       "      <th>level_1</th>\n",
       "      <th>0</th>\n",
       "    </tr>\n",
       "  </thead>\n",
       "  <tbody>\n",
       "    <tr>\n",
       "      <th>0</th>\n",
       "      <td>tt0050976</td>\n",
       "      <td>nconst</td>\n",
       "      <td>nm0000005</td>\n",
       "    </tr>\n",
       "    <tr>\n",
       "      <th>1</th>\n",
       "      <td>tt0050976</td>\n",
       "      <td>primaryName</td>\n",
       "      <td>Ingmar Bergman</td>\n",
       "    </tr>\n",
       "    <tr>\n",
       "      <th>2</th>\n",
       "      <td>tt0050976</td>\n",
       "      <td>birthYear</td>\n",
       "      <td>1918</td>\n",
       "    </tr>\n",
       "    <tr>\n",
       "      <th>3</th>\n",
       "      <td>tt0050976</td>\n",
       "      <td>deathYear</td>\n",
       "      <td>2007</td>\n",
       "    </tr>\n",
       "    <tr>\n",
       "      <th>4</th>\n",
       "      <td>tt0050976</td>\n",
       "      <td>primaryProfession</td>\n",
       "      <td>writer,director,actor</td>\n",
       "    </tr>\n",
       "    <tr>\n",
       "      <th>...</th>\n",
       "      <td>...</td>\n",
       "      <td>...</td>\n",
       "      <td>...</td>\n",
       "    </tr>\n",
       "    <tr>\n",
       "      <th>10845011</th>\n",
       "      <td>tt11772858</td>\n",
       "      <td>birthYear</td>\n",
       "      <td>\\N</td>\n",
       "    </tr>\n",
       "    <tr>\n",
       "      <th>10845012</th>\n",
       "      <td>tt11772858</td>\n",
       "      <td>deathYear</td>\n",
       "      <td>\\N</td>\n",
       "    </tr>\n",
       "    <tr>\n",
       "      <th>10845013</th>\n",
       "      <td>tt11772858</td>\n",
       "      <td>primaryProfession</td>\n",
       "      <td>director,writer,cinematographer</td>\n",
       "    </tr>\n",
       "    <tr>\n",
       "      <th>10845014</th>\n",
       "      <td>tt11772858</td>\n",
       "      <td>knownForTitles</td>\n",
       "      <td>tt11702702,tt11772940,tt11772904,tt11772858</td>\n",
       "    </tr>\n",
       "    <tr>\n",
       "      <th>10845015</th>\n",
       "      <td>tt11772858</td>\n",
       "      <td>profession</td>\n",
       "      <td>director</td>\n",
       "    </tr>\n",
       "  </tbody>\n",
       "</table>\n",
       "<p>10845016 rows × 3 columns</p>\n",
       "</div>"
      ],
      "text/plain": [
       "             titles_            level_1  \\\n",
       "0          tt0050976             nconst   \n",
       "1          tt0050976        primaryName   \n",
       "2          tt0050976          birthYear   \n",
       "3          tt0050976          deathYear   \n",
       "4          tt0050976  primaryProfession   \n",
       "...              ...                ...   \n",
       "10845011  tt11772858          birthYear   \n",
       "10845012  tt11772858          deathYear   \n",
       "10845013  tt11772858  primaryProfession   \n",
       "10845014  tt11772858     knownForTitles   \n",
       "10845015  tt11772858         profession   \n",
       "\n",
       "                                                    0  \n",
       "0                                           nm0000005  \n",
       "1                                      Ingmar Bergman  \n",
       "2                                                1918  \n",
       "3                                                2007  \n",
       "4                               writer,director,actor  \n",
       "...                                               ...  \n",
       "10845011                                           \\N  \n",
       "10845012                                           \\N  \n",
       "10845013              director,writer,cinematographer  \n",
       "10845014  tt11702702,tt11772940,tt11772904,tt11772858  \n",
       "10845015                                     director  \n",
       "\n",
       "[10845016 rows x 3 columns]"
      ]
     },
     "execution_count": 65,
     "metadata": {},
     "output_type": "execute_result"
    }
   ],
   "source": [
    "ii"
   ]
  },
  {
   "cell_type": "code",
   "execution_count": 74,
   "metadata": {},
   "outputs": [
    {
     "data": {
      "text/html": [
       "<div>\n",
       "<style scoped>\n",
       "    .dataframe tbody tr th:only-of-type {\n",
       "        vertical-align: middle;\n",
       "    }\n",
       "\n",
       "    .dataframe tbody tr th {\n",
       "        vertical-align: top;\n",
       "    }\n",
       "\n",
       "    .dataframe thead th {\n",
       "        text-align: right;\n",
       "    }\n",
       "</style>\n",
       "<table border=\"1\" class=\"dataframe\">\n",
       "  <thead>\n",
       "    <tr style=\"text-align: right;\">\n",
       "      <th></th>\n",
       "      <th>titles_</th>\n",
       "      <th>level_1</th>\n",
       "      <th>0</th>\n",
       "    </tr>\n",
       "  </thead>\n",
       "  <tbody>\n",
       "    <tr>\n",
       "      <th>101255</th>\n",
       "      <td>tt0133093</td>\n",
       "      <td>nconst</td>\n",
       "      <td>nm0032810</td>\n",
       "    </tr>\n",
       "    <tr>\n",
       "      <th>101256</th>\n",
       "      <td>tt0133093</td>\n",
       "      <td>primaryName</td>\n",
       "      <td>Julian Arahanga</td>\n",
       "    </tr>\n",
       "    <tr>\n",
       "      <th>101257</th>\n",
       "      <td>tt0133093</td>\n",
       "      <td>birthYear</td>\n",
       "      <td>1972</td>\n",
       "    </tr>\n",
       "    <tr>\n",
       "      <th>101258</th>\n",
       "      <td>tt0133093</td>\n",
       "      <td>deathYear</td>\n",
       "      <td>\\N</td>\n",
       "    </tr>\n",
       "    <tr>\n",
       "      <th>101259</th>\n",
       "      <td>tt0133093</td>\n",
       "      <td>primaryProfession</td>\n",
       "      <td>director,producer,actor</td>\n",
       "    </tr>\n",
       "    <tr>\n",
       "      <th>...</th>\n",
       "      <td>...</td>\n",
       "      <td>...</td>\n",
       "      <td>...</td>\n",
       "    </tr>\n",
       "    <tr>\n",
       "      <th>10240547</th>\n",
       "      <td>tt0133093</td>\n",
       "      <td>birthYear</td>\n",
       "      <td>\\N</td>\n",
       "    </tr>\n",
       "    <tr>\n",
       "      <th>10240548</th>\n",
       "      <td>tt0133093</td>\n",
       "      <td>deathYear</td>\n",
       "      <td>\\N</td>\n",
       "    </tr>\n",
       "    <tr>\n",
       "      <th>10240549</th>\n",
       "      <td>tt0133093</td>\n",
       "      <td>primaryProfession</td>\n",
       "      <td>animation_department,director,producer</td>\n",
       "    </tr>\n",
       "    <tr>\n",
       "      <th>10240550</th>\n",
       "      <td>tt0133093</td>\n",
       "      <td>knownForTitles</td>\n",
       "      <td>tt6803764,tt0242653,tt0234215,tt0133093</td>\n",
       "    </tr>\n",
       "    <tr>\n",
       "      <th>10240551</th>\n",
       "      <td>tt0133093</td>\n",
       "      <td>profession</td>\n",
       "      <td>director</td>\n",
       "    </tr>\n",
       "  </tbody>\n",
       "</table>\n",
       "<p>182 rows × 3 columns</p>\n",
       "</div>"
      ],
      "text/plain": [
       "            titles_            level_1  \\\n",
       "101255    tt0133093             nconst   \n",
       "101256    tt0133093        primaryName   \n",
       "101257    tt0133093          birthYear   \n",
       "101258    tt0133093          deathYear   \n",
       "101259    tt0133093  primaryProfession   \n",
       "...             ...                ...   \n",
       "10240547  tt0133093          birthYear   \n",
       "10240548  tt0133093          deathYear   \n",
       "10240549  tt0133093  primaryProfession   \n",
       "10240550  tt0133093     knownForTitles   \n",
       "10240551  tt0133093         profession   \n",
       "\n",
       "                                                0  \n",
       "101255                                  nm0032810  \n",
       "101256                            Julian Arahanga  \n",
       "101257                                       1972  \n",
       "101258                                         \\N  \n",
       "101259                    director,producer,actor  \n",
       "...                                           ...  \n",
       "10240547                                       \\N  \n",
       "10240548                                       \\N  \n",
       "10240549   animation_department,director,producer  \n",
       "10240550  tt6803764,tt0242653,tt0234215,tt0133093  \n",
       "10240551                                 director  \n",
       "\n",
       "[182 rows x 3 columns]"
      ]
     },
     "execution_count": 74,
     "metadata": {},
     "output_type": "execute_result"
    }
   ],
   "source": [
    "cc = ii[ii['titles_']=='tt0133093']\n",
    "cc.to_clipboard()"
   ]
  },
  {
   "cell_type": "code",
   "execution_count": 80,
   "metadata": {},
   "outputs": [
    {
     "data": {
      "text/html": [
       "<div>\n",
       "<style scoped>\n",
       "    .dataframe tbody tr th:only-of-type {\n",
       "        vertical-align: middle;\n",
       "    }\n",
       "\n",
       "    .dataframe tbody tr th {\n",
       "        vertical-align: top;\n",
       "    }\n",
       "\n",
       "    .dataframe thead th {\n",
       "        text-align: right;\n",
       "    }\n",
       "</style>\n",
       "<table border=\"1\" class=\"dataframe\">\n",
       "  <thead>\n",
       "    <tr style=\"text-align: right;\">\n",
       "      <th></th>\n",
       "      <th>titles_</th>\n",
       "      <th>level_1</th>\n",
       "      <th>0</th>\n",
       "    </tr>\n",
       "  </thead>\n",
       "  <tbody>\n",
       "    <tr>\n",
       "      <th>101261</th>\n",
       "      <td>tt0133093</td>\n",
       "      <td>profession</td>\n",
       "      <td>director</td>\n",
       "    </tr>\n",
       "    <tr>\n",
       "      <th>111362</th>\n",
       "      <td>tt0133093</td>\n",
       "      <td>profession</td>\n",
       "      <td>director</td>\n",
       "    </tr>\n",
       "    <tr>\n",
       "      <th>267014</th>\n",
       "      <td>tt0133093</td>\n",
       "      <td>profession</td>\n",
       "      <td>director</td>\n",
       "    </tr>\n",
       "    <tr>\n",
       "      <th>358840</th>\n",
       "      <td>tt0133093</td>\n",
       "      <td>profession</td>\n",
       "      <td>director</td>\n",
       "    </tr>\n",
       "    <tr>\n",
       "      <th>504979</th>\n",
       "      <td>tt0133093</td>\n",
       "      <td>profession</td>\n",
       "      <td>director</td>\n",
       "    </tr>\n",
       "    <tr>\n",
       "      <th>521366</th>\n",
       "      <td>tt0133093</td>\n",
       "      <td>profession</td>\n",
       "      <td>director</td>\n",
       "    </tr>\n",
       "    <tr>\n",
       "      <th>588370</th>\n",
       "      <td>tt0133093</td>\n",
       "      <td>profession</td>\n",
       "      <td>director</td>\n",
       "    </tr>\n",
       "    <tr>\n",
       "      <th>601152</th>\n",
       "      <td>tt0133093</td>\n",
       "      <td>profession</td>\n",
       "      <td>director</td>\n",
       "    </tr>\n",
       "    <tr>\n",
       "      <th>639911</th>\n",
       "      <td>tt0133093</td>\n",
       "      <td>profession</td>\n",
       "      <td>director</td>\n",
       "    </tr>\n",
       "    <tr>\n",
       "      <th>693398</th>\n",
       "      <td>tt0133093</td>\n",
       "      <td>profession</td>\n",
       "      <td>director</td>\n",
       "    </tr>\n",
       "    <tr>\n",
       "      <th>781829</th>\n",
       "      <td>tt0133093</td>\n",
       "      <td>profession</td>\n",
       "      <td>director</td>\n",
       "    </tr>\n",
       "    <tr>\n",
       "      <th>792238</th>\n",
       "      <td>tt0133093</td>\n",
       "      <td>profession</td>\n",
       "      <td>director</td>\n",
       "    </tr>\n",
       "    <tr>\n",
       "      <th>841854</th>\n",
       "      <td>tt0133093</td>\n",
       "      <td>profession</td>\n",
       "      <td>director</td>\n",
       "    </tr>\n",
       "    <tr>\n",
       "      <th>1192631</th>\n",
       "      <td>tt0133093</td>\n",
       "      <td>profession</td>\n",
       "      <td>director</td>\n",
       "    </tr>\n",
       "    <tr>\n",
       "      <th>1319954</th>\n",
       "      <td>tt0133093</td>\n",
       "      <td>profession</td>\n",
       "      <td>director</td>\n",
       "    </tr>\n",
       "    <tr>\n",
       "      <th>1323818</th>\n",
       "      <td>tt0133093</td>\n",
       "      <td>profession</td>\n",
       "      <td>director</td>\n",
       "    </tr>\n",
       "    <tr>\n",
       "      <th>1395316</th>\n",
       "      <td>tt0133093</td>\n",
       "      <td>profession</td>\n",
       "      <td>director</td>\n",
       "    </tr>\n",
       "    <tr>\n",
       "      <th>1424205</th>\n",
       "      <td>tt0133093</td>\n",
       "      <td>profession</td>\n",
       "      <td>director</td>\n",
       "    </tr>\n",
       "    <tr>\n",
       "      <th>1784418</th>\n",
       "      <td>tt0133093</td>\n",
       "      <td>profession</td>\n",
       "      <td>director</td>\n",
       "    </tr>\n",
       "    <tr>\n",
       "      <th>1859346</th>\n",
       "      <td>tt0133093</td>\n",
       "      <td>profession</td>\n",
       "      <td>director</td>\n",
       "    </tr>\n",
       "    <tr>\n",
       "      <th>1859395</th>\n",
       "      <td>tt0133093</td>\n",
       "      <td>profession</td>\n",
       "      <td>director</td>\n",
       "    </tr>\n",
       "    <tr>\n",
       "      <th>1907597</th>\n",
       "      <td>tt0133093</td>\n",
       "      <td>profession</td>\n",
       "      <td>director</td>\n",
       "    </tr>\n",
       "    <tr>\n",
       "      <th>1941722</th>\n",
       "      <td>tt0133093</td>\n",
       "      <td>profession</td>\n",
       "      <td>director</td>\n",
       "    </tr>\n",
       "    <tr>\n",
       "      <th>2525606</th>\n",
       "      <td>tt0133093</td>\n",
       "      <td>profession</td>\n",
       "      <td>director</td>\n",
       "    </tr>\n",
       "    <tr>\n",
       "      <th>3361588</th>\n",
       "      <td>tt0133093</td>\n",
       "      <td>profession</td>\n",
       "      <td>director</td>\n",
       "    </tr>\n",
       "    <tr>\n",
       "      <th>10240551</th>\n",
       "      <td>tt0133093</td>\n",
       "      <td>profession</td>\n",
       "      <td>director</td>\n",
       "    </tr>\n",
       "  </tbody>\n",
       "</table>\n",
       "</div>"
      ],
      "text/plain": [
       "            titles_     level_1         0\n",
       "101261    tt0133093  profession  director\n",
       "111362    tt0133093  profession  director\n",
       "267014    tt0133093  profession  director\n",
       "358840    tt0133093  profession  director\n",
       "504979    tt0133093  profession  director\n",
       "521366    tt0133093  profession  director\n",
       "588370    tt0133093  profession  director\n",
       "601152    tt0133093  profession  director\n",
       "639911    tt0133093  profession  director\n",
       "693398    tt0133093  profession  director\n",
       "781829    tt0133093  profession  director\n",
       "792238    tt0133093  profession  director\n",
       "841854    tt0133093  profession  director\n",
       "1192631   tt0133093  profession  director\n",
       "1319954   tt0133093  profession  director\n",
       "1323818   tt0133093  profession  director\n",
       "1395316   tt0133093  profession  director\n",
       "1424205   tt0133093  profession  director\n",
       "1784418   tt0133093  profession  director\n",
       "1859346   tt0133093  profession  director\n",
       "1859395   tt0133093  profession  director\n",
       "1907597   tt0133093  profession  director\n",
       "1941722   tt0133093  profession  director\n",
       "2525606   tt0133093  profession  director\n",
       "3361588   tt0133093  profession  director\n",
       "10240551  tt0133093  profession  director"
      ]
     },
     "execution_count": 80,
     "metadata": {},
     "output_type": "execute_result"
    }
   ],
   "source": [
    "cc[cc[0]=='director']"
   ]
  },
  {
   "cell_type": "code",
   "execution_count": null,
   "metadata": {},
   "outputs": [],
   "source": []
  },
  {
   "cell_type": "code",
   "execution_count": 44,
   "metadata": {},
   "outputs": [
    {
     "data": {
      "text/html": [
       "<div>\n",
       "<style scoped>\n",
       "    .dataframe tbody tr th:only-of-type {\n",
       "        vertical-align: middle;\n",
       "    }\n",
       "\n",
       "    .dataframe tbody tr th {\n",
       "        vertical-align: top;\n",
       "    }\n",
       "\n",
       "    .dataframe thead th {\n",
       "        text-align: right;\n",
       "    }\n",
       "</style>\n",
       "<table border=\"1\" class=\"dataframe\">\n",
       "  <thead>\n",
       "    <tr style=\"text-align: right;\">\n",
       "      <th></th>\n",
       "      <th>level_0</th>\n",
       "      <th>level_1</th>\n",
       "      <th>0</th>\n",
       "    </tr>\n",
       "  </thead>\n",
       "  <tbody>\n",
       "    <tr>\n",
       "      <th>0</th>\n",
       "      <td>4</td>\n",
       "      <td>nconst</td>\n",
       "      <td>nm0000005</td>\n",
       "    </tr>\n",
       "    <tr>\n",
       "      <th>1</th>\n",
       "      <td>4</td>\n",
       "      <td>primaryName</td>\n",
       "      <td>Ingmar Bergman</td>\n",
       "    </tr>\n",
       "    <tr>\n",
       "      <th>2</th>\n",
       "      <td>4</td>\n",
       "      <td>birthYear</td>\n",
       "      <td>1918</td>\n",
       "    </tr>\n",
       "    <tr>\n",
       "      <th>3</th>\n",
       "      <td>4</td>\n",
       "      <td>deathYear</td>\n",
       "      <td>2007</td>\n",
       "    </tr>\n",
       "    <tr>\n",
       "      <th>4</th>\n",
       "      <td>4</td>\n",
       "      <td>primaryProfession</td>\n",
       "      <td>writer,director,actor</td>\n",
       "    </tr>\n",
       "    <tr>\n",
       "      <th>...</th>\n",
       "      <td>...</td>\n",
       "      <td>...</td>\n",
       "      <td>...</td>\n",
       "    </tr>\n",
       "    <tr>\n",
       "      <th>31563</th>\n",
       "      <td>3466</td>\n",
       "      <td>deathYear</td>\n",
       "      <td>\\N</td>\n",
       "    </tr>\n",
       "    <tr>\n",
       "      <th>31564</th>\n",
       "      <td>3466</td>\n",
       "      <td>primaryProfession</td>\n",
       "      <td>writer,producer,director</td>\n",
       "    </tr>\n",
       "    <tr>\n",
       "      <th>31565</th>\n",
       "      <td>3466</td>\n",
       "      <td>knownForTitles</td>\n",
       "      <td>tt10549038,tt12205026,tt12273618,tt7752842</td>\n",
       "    </tr>\n",
       "    <tr>\n",
       "      <th>31566</th>\n",
       "      <td>3466</td>\n",
       "      <td>profession</td>\n",
       "      <td>director</td>\n",
       "    </tr>\n",
       "    <tr>\n",
       "      <th>31567</th>\n",
       "      <td>3466</td>\n",
       "      <td>titles_</td>\n",
       "      <td>tt7752842</td>\n",
       "    </tr>\n",
       "  </tbody>\n",
       "</table>\n",
       "<p>31568 rows × 3 columns</p>\n",
       "</div>"
      ],
      "text/plain": [
       "       level_0            level_1                                           0\n",
       "0            4             nconst                                   nm0000005\n",
       "1            4        primaryName                              Ingmar Bergman\n",
       "2            4          birthYear                                        1918\n",
       "3            4          deathYear                                        2007\n",
       "4            4  primaryProfession                       writer,director,actor\n",
       "...        ...                ...                                         ...\n",
       "31563     3466          deathYear                                          \\N\n",
       "31564     3466  primaryProfession                    writer,producer,director\n",
       "31565     3466     knownForTitles  tt10549038,tt12205026,tt12273618,tt7752842\n",
       "31566     3466         profession                                    director\n",
       "31567     3466            titles_                                   tt7752842\n",
       "\n",
       "[31568 rows x 3 columns]"
      ]
     },
     "execution_count": 44,
     "metadata": {},
     "output_type": "execute_result"
    }
   ],
   "source": [
    "test.stack().reset_index()"
   ]
  },
  {
   "cell_type": "code",
   "execution_count": 236,
   "metadata": {},
   "outputs": [],
   "source": [
    "tt = main_df.copy()"
   ]
  },
  {
   "cell_type": "code",
   "execution_count": 244,
   "metadata": {},
   "outputs": [
    {
     "data": {
      "text/html": [
       "<div>\n",
       "<style scoped>\n",
       "    .dataframe tbody tr th:only-of-type {\n",
       "        vertical-align: middle;\n",
       "    }\n",
       "\n",
       "    .dataframe tbody tr th {\n",
       "        vertical-align: top;\n",
       "    }\n",
       "\n",
       "    .dataframe thead th {\n",
       "        text-align: right;\n",
       "    }\n",
       "</style>\n",
       "<table border=\"1\" class=\"dataframe\">\n",
       "  <thead>\n",
       "    <tr style=\"text-align: right;\">\n",
       "      <th></th>\n",
       "      <th>imdb_id</th>\n",
       "      <th>primaryTitle</th>\n",
       "      <th>originalTitle</th>\n",
       "      <th>startYear</th>\n",
       "      <th>release_date</th>\n",
       "      <th>runtimeMinutes</th>\n",
       "      <th>budget</th>\n",
       "      <th>world_collection</th>\n",
       "      <th>int_collection</th>\n",
       "      <th>dom_collection</th>\n",
       "      <th>popularity</th>\n",
       "      <th>vote_average</th>\n",
       "      <th>vote_count</th>\n",
       "      <th>overview</th>\n",
       "      <th>belongs_to_collection.name</th>\n",
       "      <th>genres</th>\n",
       "      <th>production_comp</th>\n",
       "      <th>ROI</th>\n",
       "      <th>ROI_percentage</th>\n",
       "      <th>release_year</th>\n",
       "    </tr>\n",
       "  </thead>\n",
       "  <tbody>\n",
       "    <tr>\n",
       "      <th>825</th>\n",
       "      <td>tt0783640</td>\n",
       "      <td>The Last Full Measure</td>\n",
       "      <td>The Last Full Measure</td>\n",
       "      <td>2019</td>\n",
       "      <td>2020-01-23</td>\n",
       "      <td>116</td>\n",
       "      <td>20000000</td>\n",
       "      <td>3364426</td>\n",
       "      <td>415214.0</td>\n",
       "      <td>2949212.0</td>\n",
       "      <td>19.160</td>\n",
       "      <td>7.7</td>\n",
       "      <td>247</td>\n",
       "      <td>The incredible true story of Vietnam War hero ...</td>\n",
       "      <td>NaN</td>\n",
       "      <td>Drama,War</td>\n",
       "      <td>Foresight Unlimited, Provocator, SSS Entertain...</td>\n",
       "      <td>-16635574</td>\n",
       "      <td>-0.831779</td>\n",
       "      <td>1</td>\n",
       "    </tr>\n",
       "    <tr>\n",
       "      <th>2009</th>\n",
       "      <td>tt0983946</td>\n",
       "      <td>Fantasy Island</td>\n",
       "      <td>Fantasy Island</td>\n",
       "      <td>2020</td>\n",
       "      <td>2020-02-12</td>\n",
       "      <td>109</td>\n",
       "      <td>7000000</td>\n",
       "      <td>48811343</td>\n",
       "      <td>21502054.0</td>\n",
       "      <td>27309289.0</td>\n",
       "      <td>28.579</td>\n",
       "      <td>6.1</td>\n",
       "      <td>1450</td>\n",
       "      <td>A group of contest winners arrive at an island...</td>\n",
       "      <td>NaN</td>\n",
       "      <td>Action,Adventure,Fantasy</td>\n",
       "      <td>Blumhouse Productions, Columbia Pictures</td>\n",
       "      <td>41811343</td>\n",
       "      <td>5.973049</td>\n",
       "      <td>2</td>\n",
       "    </tr>\n",
       "    <tr>\n",
       "      <th>2230</th>\n",
       "      <td>tt10044182</td>\n",
       "      <td>Block Z</td>\n",
       "      <td>Block Z</td>\n",
       "      <td>2020</td>\n",
       "      <td>2020-01-29</td>\n",
       "      <td>101</td>\n",
       "      <td>646955</td>\n",
       "      <td>709452</td>\n",
       "      <td>NaN</td>\n",
       "      <td>NaN</td>\n",
       "      <td>4.605</td>\n",
       "      <td>8.0</td>\n",
       "      <td>6</td>\n",
       "      <td>A pre-med student and her friends encounter th...</td>\n",
       "      <td>NaN</td>\n",
       "      <td>Action,Horror,Thriller</td>\n",
       "      <td>Star Cinema – ABS-CBN Film Productions, Keep F...</td>\n",
       "      <td>62497</td>\n",
       "      <td>0.096602</td>\n",
       "      <td>1</td>\n",
       "    </tr>\n",
       "    <tr>\n",
       "      <th>2237</th>\n",
       "      <td>tt10059518</td>\n",
       "      <td>Unhinged</td>\n",
       "      <td>Unhinged</td>\n",
       "      <td>2020</td>\n",
       "      <td>2020-07-16</td>\n",
       "      <td>90</td>\n",
       "      <td>33000000</td>\n",
       "      <td>43249465</td>\n",
       "      <td>22418000.0</td>\n",
       "      <td>20831465.0</td>\n",
       "      <td>25.447</td>\n",
       "      <td>6.5</td>\n",
       "      <td>666</td>\n",
       "      <td>A divorced mother honks impatiently at a deran...</td>\n",
       "      <td>NaN</td>\n",
       "      <td>Action,Thriller</td>\n",
       "      <td>Solstice Productions, Burek Films, Ingenious M...</td>\n",
       "      <td>10249465</td>\n",
       "      <td>0.310590</td>\n",
       "      <td>7</td>\n",
       "    </tr>\n",
       "    <tr>\n",
       "      <th>2239</th>\n",
       "      <td>tt10065694</td>\n",
       "      <td>Antebellum</td>\n",
       "      <td>Antebellum</td>\n",
       "      <td>2020</td>\n",
       "      <td>2020-09-02</td>\n",
       "      <td>105</td>\n",
       "      <td>15000000</td>\n",
       "      <td>6852361</td>\n",
       "      <td>6852361.0</td>\n",
       "      <td>NaN</td>\n",
       "      <td>108.786</td>\n",
       "      <td>6.3</td>\n",
       "      <td>433</td>\n",
       "      <td>Successful author Veronica finds herself trapp...</td>\n",
       "      <td>NaN</td>\n",
       "      <td>Drama,Horror,Mystery</td>\n",
       "      <td>Lionsgate, QC Entertainment, Metropolitan Film...</td>\n",
       "      <td>-8147639</td>\n",
       "      <td>-0.543176</td>\n",
       "      <td>9</td>\n",
       "    </tr>\n",
       "    <tr>\n",
       "      <th>...</th>\n",
       "      <td>...</td>\n",
       "      <td>...</td>\n",
       "      <td>...</td>\n",
       "      <td>...</td>\n",
       "      <td>...</td>\n",
       "      <td>...</td>\n",
       "      <td>...</td>\n",
       "      <td>...</td>\n",
       "      <td>...</td>\n",
       "      <td>...</td>\n",
       "      <td>...</td>\n",
       "      <td>...</td>\n",
       "      <td>...</td>\n",
       "      <td>...</td>\n",
       "      <td>...</td>\n",
       "      <td>...</td>\n",
       "      <td>...</td>\n",
       "      <td>...</td>\n",
       "      <td>...</td>\n",
       "      <td>...</td>\n",
       "    </tr>\n",
       "    <tr>\n",
       "      <th>25670</th>\n",
       "      <td>tt9624766</td>\n",
       "      <td>Jiu Jitsu</td>\n",
       "      <td>Jiu Jitsu</td>\n",
       "      <td>2020</td>\n",
       "      <td>2020-11-20</td>\n",
       "      <td>102</td>\n",
       "      <td>23000000</td>\n",
       "      <td>74000000</td>\n",
       "      <td>99924.0</td>\n",
       "      <td>NaN</td>\n",
       "      <td>772.958</td>\n",
       "      <td>5.3</td>\n",
       "      <td>313</td>\n",
       "      <td>Every six years, an ancient order of jiu-jitsu...</td>\n",
       "      <td>NaN</td>\n",
       "      <td>Action,Comedy,Fantasy</td>\n",
       "      <td>Acme Rocket Fuel, Green Olive Films, Double Tr...</td>\n",
       "      <td>51000000</td>\n",
       "      <td>2.217391</td>\n",
       "      <td>11</td>\n",
       "    </tr>\n",
       "    <tr>\n",
       "      <th>25697</th>\n",
       "      <td>tt9648672</td>\n",
       "      <td>Street Dancer 3D</td>\n",
       "      <td>Street Dancer 3D</td>\n",
       "      <td>2020</td>\n",
       "      <td>2020-01-24</td>\n",
       "      <td>146</td>\n",
       "      <td>9204790</td>\n",
       "      <td>12589965</td>\n",
       "      <td>10339127.0</td>\n",
       "      <td>NaN</td>\n",
       "      <td>5.118</td>\n",
       "      <td>8.0</td>\n",
       "      <td>15</td>\n",
       "      <td>Two rival dance groups from India and Pakistan...</td>\n",
       "      <td>ABCD Collection</td>\n",
       "      <td>Drama,Music</td>\n",
       "      <td>T-Series, UTV Motion Pictures, Dance Film Comp...</td>\n",
       "      <td>3385175</td>\n",
       "      <td>0.367762</td>\n",
       "      <td>1</td>\n",
       "    </tr>\n",
       "    <tr>\n",
       "      <th>25772</th>\n",
       "      <td>tt9742392</td>\n",
       "      <td>Kindred</td>\n",
       "      <td>Kindred</td>\n",
       "      <td>2020</td>\n",
       "      <td>2020-11-06</td>\n",
       "      <td>101</td>\n",
       "      <td>3000000</td>\n",
       "      <td>8921</td>\n",
       "      <td>NaN</td>\n",
       "      <td>8921.0</td>\n",
       "      <td>10.457</td>\n",
       "      <td>6.3</td>\n",
       "      <td>5</td>\n",
       "      <td>When her boyfriend Ben suddenly dies in an acc...</td>\n",
       "      <td>NaN</td>\n",
       "      <td>Drama,Horror,Mystery</td>\n",
       "      <td>Reiver Pictures, IFC Midnight, Head Gear Films...</td>\n",
       "      <td>-2991079</td>\n",
       "      <td>-0.997026</td>\n",
       "      <td>11</td>\n",
       "    </tr>\n",
       "    <tr>\n",
       "      <th>25792</th>\n",
       "      <td>tt9770150</td>\n",
       "      <td>Nomadland</td>\n",
       "      <td>Nomadland</td>\n",
       "      <td>2020</td>\n",
       "      <td>2020-12-26</td>\n",
       "      <td>107</td>\n",
       "      <td>5000000</td>\n",
       "      <td>1414069</td>\n",
       "      <td>178069.0</td>\n",
       "      <td>1236000.0</td>\n",
       "      <td>51.220</td>\n",
       "      <td>7.6</td>\n",
       "      <td>276</td>\n",
       "      <td>A woman in her sixties embarks on a journey th...</td>\n",
       "      <td>NaN</td>\n",
       "      <td>Drama</td>\n",
       "      <td>Cor Cordium Productions, Hear/Say Productions,...</td>\n",
       "      <td>-3585931</td>\n",
       "      <td>-0.717186</td>\n",
       "      <td>12</td>\n",
       "    </tr>\n",
       "    <tr>\n",
       "      <th>25878</th>\n",
       "      <td>tt9877170</td>\n",
       "      <td>Malang</td>\n",
       "      <td>Malang - Unleash the Madness</td>\n",
       "      <td>2020</td>\n",
       "      <td>2020-02-06</td>\n",
       "      <td>135</td>\n",
       "      <td>7907534</td>\n",
       "      <td>11136444</td>\n",
       "      <td>8399765.0</td>\n",
       "      <td>NaN</td>\n",
       "      <td>5.698</td>\n",
       "      <td>7.3</td>\n",
       "      <td>24</td>\n",
       "      <td>Advait visits Goa where he meets Sara, a free-...</td>\n",
       "      <td>NaN</td>\n",
       "      <td>Action,Crime,Drama</td>\n",
       "      <td>LUV Films, T-Series, TOABH Talent Management</td>\n",
       "      <td>3228910</td>\n",
       "      <td>0.408333</td>\n",
       "      <td>2</td>\n",
       "    </tr>\n",
       "  </tbody>\n",
       "</table>\n",
       "<p>118 rows × 20 columns</p>\n",
       "</div>"
      ],
      "text/plain": [
       "          imdb_id           primaryTitle                 originalTitle  \\\n",
       "825     tt0783640  The Last Full Measure         The Last Full Measure   \n",
       "2009    tt0983946         Fantasy Island                Fantasy Island   \n",
       "2230   tt10044182                Block Z                       Block Z   \n",
       "2237   tt10059518               Unhinged                      Unhinged   \n",
       "2239   tt10065694             Antebellum                    Antebellum   \n",
       "...           ...                    ...                           ...   \n",
       "25670   tt9624766              Jiu Jitsu                     Jiu Jitsu   \n",
       "25697   tt9648672       Street Dancer 3D              Street Dancer 3D   \n",
       "25772   tt9742392                Kindred                       Kindred   \n",
       "25792   tt9770150              Nomadland                     Nomadland   \n",
       "25878   tt9877170                 Malang  Malang - Unleash the Madness   \n",
       "\n",
       "       startYear release_date  runtimeMinutes    budget  world_collection  \\\n",
       "825         2019   2020-01-23             116  20000000           3364426   \n",
       "2009        2020   2020-02-12             109   7000000          48811343   \n",
       "2230        2020   2020-01-29             101    646955            709452   \n",
       "2237        2020   2020-07-16              90  33000000          43249465   \n",
       "2239        2020   2020-09-02             105  15000000           6852361   \n",
       "...          ...          ...             ...       ...               ...   \n",
       "25670       2020   2020-11-20             102  23000000          74000000   \n",
       "25697       2020   2020-01-24             146   9204790          12589965   \n",
       "25772       2020   2020-11-06             101   3000000              8921   \n",
       "25792       2020   2020-12-26             107   5000000           1414069   \n",
       "25878       2020   2020-02-06             135   7907534          11136444   \n",
       "\n",
       "       int_collection  dom_collection  popularity  vote_average  vote_count  \\\n",
       "825          415214.0       2949212.0      19.160           7.7         247   \n",
       "2009       21502054.0      27309289.0      28.579           6.1        1450   \n",
       "2230              NaN             NaN       4.605           8.0           6   \n",
       "2237       22418000.0      20831465.0      25.447           6.5         666   \n",
       "2239        6852361.0             NaN     108.786           6.3         433   \n",
       "...               ...             ...         ...           ...         ...   \n",
       "25670         99924.0             NaN     772.958           5.3         313   \n",
       "25697      10339127.0             NaN       5.118           8.0          15   \n",
       "25772             NaN          8921.0      10.457           6.3           5   \n",
       "25792        178069.0       1236000.0      51.220           7.6         276   \n",
       "25878       8399765.0             NaN       5.698           7.3          24   \n",
       "\n",
       "                                                overview  \\\n",
       "825    The incredible true story of Vietnam War hero ...   \n",
       "2009   A group of contest winners arrive at an island...   \n",
       "2230   A pre-med student and her friends encounter th...   \n",
       "2237   A divorced mother honks impatiently at a deran...   \n",
       "2239   Successful author Veronica finds herself trapp...   \n",
       "...                                                  ...   \n",
       "25670  Every six years, an ancient order of jiu-jitsu...   \n",
       "25697  Two rival dance groups from India and Pakistan...   \n",
       "25772  When her boyfriend Ben suddenly dies in an acc...   \n",
       "25792  A woman in her sixties embarks on a journey th...   \n",
       "25878  Advait visits Goa where he meets Sara, a free-...   \n",
       "\n",
       "      belongs_to_collection.name                    genres  \\\n",
       "825                          NaN                 Drama,War   \n",
       "2009                         NaN  Action,Adventure,Fantasy   \n",
       "2230                         NaN    Action,Horror,Thriller   \n",
       "2237                         NaN           Action,Thriller   \n",
       "2239                         NaN      Drama,Horror,Mystery   \n",
       "...                          ...                       ...   \n",
       "25670                        NaN     Action,Comedy,Fantasy   \n",
       "25697            ABCD Collection               Drama,Music   \n",
       "25772                        NaN      Drama,Horror,Mystery   \n",
       "25792                        NaN                     Drama   \n",
       "25878                        NaN        Action,Crime,Drama   \n",
       "\n",
       "                                         production_comp       ROI  \\\n",
       "825    Foresight Unlimited, Provocator, SSS Entertain... -16635574   \n",
       "2009            Blumhouse Productions, Columbia Pictures  41811343   \n",
       "2230   Star Cinema – ABS-CBN Film Productions, Keep F...     62497   \n",
       "2237   Solstice Productions, Burek Films, Ingenious M...  10249465   \n",
       "2239   Lionsgate, QC Entertainment, Metropolitan Film...  -8147639   \n",
       "...                                                  ...       ...   \n",
       "25670  Acme Rocket Fuel, Green Olive Films, Double Tr...  51000000   \n",
       "25697  T-Series, UTV Motion Pictures, Dance Film Comp...   3385175   \n",
       "25772  Reiver Pictures, IFC Midnight, Head Gear Films...  -2991079   \n",
       "25792  Cor Cordium Productions, Hear/Say Productions,...  -3585931   \n",
       "25878       LUV Films, T-Series, TOABH Talent Management   3228910   \n",
       "\n",
       "       ROI_percentage  release_year  \n",
       "825         -0.831779             1  \n",
       "2009         5.973049             2  \n",
       "2230         0.096602             1  \n",
       "2237         0.310590             7  \n",
       "2239        -0.543176             9  \n",
       "...               ...           ...  \n",
       "25670        2.217391            11  \n",
       "25697        0.367762             1  \n",
       "25772       -0.997026            11  \n",
       "25792       -0.717186            12  \n",
       "25878        0.408333             2  \n",
       "\n",
       "[118 rows x 20 columns]"
      ]
     },
     "execution_count": 244,
     "metadata": {},
     "output_type": "execute_result"
    }
   ],
   "source": [
    "tt"
   ]
  },
  {
   "cell_type": "code",
   "execution_count": 238,
   "metadata": {},
   "outputs": [],
   "source": [
    "tt['release_year'] = tt['release_date'].dt.month"
   ]
  },
  {
   "cell_type": "code",
   "execution_count": 252,
   "metadata": {},
   "outputs": [],
   "source": [
    "tt['release_timing'] = pd.cut(tt['release_year'],bins=[0,6,8,10,12],labels=['dump months', 'summer','dump months','holidays'],ordered=False)"
   ]
  },
  {
   "cell_type": "code",
   "execution_count": 253,
   "metadata": {},
   "outputs": [
    {
     "data": {
      "text/html": [
       "<div>\n",
       "<style scoped>\n",
       "    .dataframe tbody tr th:only-of-type {\n",
       "        vertical-align: middle;\n",
       "    }\n",
       "\n",
       "    .dataframe tbody tr th {\n",
       "        vertical-align: top;\n",
       "    }\n",
       "\n",
       "    .dataframe thead th {\n",
       "        text-align: right;\n",
       "    }\n",
       "</style>\n",
       "<table border=\"1\" class=\"dataframe\">\n",
       "  <thead>\n",
       "    <tr style=\"text-align: right;\">\n",
       "      <th></th>\n",
       "      <th>imdb_id</th>\n",
       "      <th>primaryTitle</th>\n",
       "      <th>originalTitle</th>\n",
       "      <th>startYear</th>\n",
       "      <th>release_date</th>\n",
       "      <th>runtimeMinutes</th>\n",
       "      <th>budget</th>\n",
       "      <th>world_collection</th>\n",
       "      <th>int_collection</th>\n",
       "      <th>dom_collection</th>\n",
       "      <th>...</th>\n",
       "      <th>vote_average</th>\n",
       "      <th>vote_count</th>\n",
       "      <th>overview</th>\n",
       "      <th>belongs_to_collection.name</th>\n",
       "      <th>genres</th>\n",
       "      <th>production_comp</th>\n",
       "      <th>ROI</th>\n",
       "      <th>ROI_percentage</th>\n",
       "      <th>release_year</th>\n",
       "      <th>release_timing</th>\n",
       "    </tr>\n",
       "  </thead>\n",
       "  <tbody>\n",
       "    <tr>\n",
       "      <th>825</th>\n",
       "      <td>tt0783640</td>\n",
       "      <td>The Last Full Measure</td>\n",
       "      <td>The Last Full Measure</td>\n",
       "      <td>2019</td>\n",
       "      <td>2020-01-23</td>\n",
       "      <td>116</td>\n",
       "      <td>20000000</td>\n",
       "      <td>3364426</td>\n",
       "      <td>415214.0</td>\n",
       "      <td>2949212.0</td>\n",
       "      <td>...</td>\n",
       "      <td>7.7</td>\n",
       "      <td>247</td>\n",
       "      <td>The incredible true story of Vietnam War hero ...</td>\n",
       "      <td>NaN</td>\n",
       "      <td>Drama,War</td>\n",
       "      <td>Foresight Unlimited, Provocator, SSS Entertain...</td>\n",
       "      <td>-16635574</td>\n",
       "      <td>-0.831779</td>\n",
       "      <td>1</td>\n",
       "      <td>dump months</td>\n",
       "    </tr>\n",
       "    <tr>\n",
       "      <th>2009</th>\n",
       "      <td>tt0983946</td>\n",
       "      <td>Fantasy Island</td>\n",
       "      <td>Fantasy Island</td>\n",
       "      <td>2020</td>\n",
       "      <td>2020-02-12</td>\n",
       "      <td>109</td>\n",
       "      <td>7000000</td>\n",
       "      <td>48811343</td>\n",
       "      <td>21502054.0</td>\n",
       "      <td>27309289.0</td>\n",
       "      <td>...</td>\n",
       "      <td>6.1</td>\n",
       "      <td>1450</td>\n",
       "      <td>A group of contest winners arrive at an island...</td>\n",
       "      <td>NaN</td>\n",
       "      <td>Action,Adventure,Fantasy</td>\n",
       "      <td>Blumhouse Productions, Columbia Pictures</td>\n",
       "      <td>41811343</td>\n",
       "      <td>5.973049</td>\n",
       "      <td>2</td>\n",
       "      <td>dump months</td>\n",
       "    </tr>\n",
       "    <tr>\n",
       "      <th>2230</th>\n",
       "      <td>tt10044182</td>\n",
       "      <td>Block Z</td>\n",
       "      <td>Block Z</td>\n",
       "      <td>2020</td>\n",
       "      <td>2020-01-29</td>\n",
       "      <td>101</td>\n",
       "      <td>646955</td>\n",
       "      <td>709452</td>\n",
       "      <td>NaN</td>\n",
       "      <td>NaN</td>\n",
       "      <td>...</td>\n",
       "      <td>8.0</td>\n",
       "      <td>6</td>\n",
       "      <td>A pre-med student and her friends encounter th...</td>\n",
       "      <td>NaN</td>\n",
       "      <td>Action,Horror,Thriller</td>\n",
       "      <td>Star Cinema – ABS-CBN Film Productions, Keep F...</td>\n",
       "      <td>62497</td>\n",
       "      <td>0.096602</td>\n",
       "      <td>1</td>\n",
       "      <td>dump months</td>\n",
       "    </tr>\n",
       "    <tr>\n",
       "      <th>2237</th>\n",
       "      <td>tt10059518</td>\n",
       "      <td>Unhinged</td>\n",
       "      <td>Unhinged</td>\n",
       "      <td>2020</td>\n",
       "      <td>2020-07-16</td>\n",
       "      <td>90</td>\n",
       "      <td>33000000</td>\n",
       "      <td>43249465</td>\n",
       "      <td>22418000.0</td>\n",
       "      <td>20831465.0</td>\n",
       "      <td>...</td>\n",
       "      <td>6.5</td>\n",
       "      <td>666</td>\n",
       "      <td>A divorced mother honks impatiently at a deran...</td>\n",
       "      <td>NaN</td>\n",
       "      <td>Action,Thriller</td>\n",
       "      <td>Solstice Productions, Burek Films, Ingenious M...</td>\n",
       "      <td>10249465</td>\n",
       "      <td>0.310590</td>\n",
       "      <td>7</td>\n",
       "      <td>summer</td>\n",
       "    </tr>\n",
       "    <tr>\n",
       "      <th>2239</th>\n",
       "      <td>tt10065694</td>\n",
       "      <td>Antebellum</td>\n",
       "      <td>Antebellum</td>\n",
       "      <td>2020</td>\n",
       "      <td>2020-09-02</td>\n",
       "      <td>105</td>\n",
       "      <td>15000000</td>\n",
       "      <td>6852361</td>\n",
       "      <td>6852361.0</td>\n",
       "      <td>NaN</td>\n",
       "      <td>...</td>\n",
       "      <td>6.3</td>\n",
       "      <td>433</td>\n",
       "      <td>Successful author Veronica finds herself trapp...</td>\n",
       "      <td>NaN</td>\n",
       "      <td>Drama,Horror,Mystery</td>\n",
       "      <td>Lionsgate, QC Entertainment, Metropolitan Film...</td>\n",
       "      <td>-8147639</td>\n",
       "      <td>-0.543176</td>\n",
       "      <td>9</td>\n",
       "      <td>dump months</td>\n",
       "    </tr>\n",
       "    <tr>\n",
       "      <th>...</th>\n",
       "      <td>...</td>\n",
       "      <td>...</td>\n",
       "      <td>...</td>\n",
       "      <td>...</td>\n",
       "      <td>...</td>\n",
       "      <td>...</td>\n",
       "      <td>...</td>\n",
       "      <td>...</td>\n",
       "      <td>...</td>\n",
       "      <td>...</td>\n",
       "      <td>...</td>\n",
       "      <td>...</td>\n",
       "      <td>...</td>\n",
       "      <td>...</td>\n",
       "      <td>...</td>\n",
       "      <td>...</td>\n",
       "      <td>...</td>\n",
       "      <td>...</td>\n",
       "      <td>...</td>\n",
       "      <td>...</td>\n",
       "      <td>...</td>\n",
       "    </tr>\n",
       "    <tr>\n",
       "      <th>25670</th>\n",
       "      <td>tt9624766</td>\n",
       "      <td>Jiu Jitsu</td>\n",
       "      <td>Jiu Jitsu</td>\n",
       "      <td>2020</td>\n",
       "      <td>2020-11-20</td>\n",
       "      <td>102</td>\n",
       "      <td>23000000</td>\n",
       "      <td>74000000</td>\n",
       "      <td>99924.0</td>\n",
       "      <td>NaN</td>\n",
       "      <td>...</td>\n",
       "      <td>5.3</td>\n",
       "      <td>313</td>\n",
       "      <td>Every six years, an ancient order of jiu-jitsu...</td>\n",
       "      <td>NaN</td>\n",
       "      <td>Action,Comedy,Fantasy</td>\n",
       "      <td>Acme Rocket Fuel, Green Olive Films, Double Tr...</td>\n",
       "      <td>51000000</td>\n",
       "      <td>2.217391</td>\n",
       "      <td>11</td>\n",
       "      <td>holidays</td>\n",
       "    </tr>\n",
       "    <tr>\n",
       "      <th>25697</th>\n",
       "      <td>tt9648672</td>\n",
       "      <td>Street Dancer 3D</td>\n",
       "      <td>Street Dancer 3D</td>\n",
       "      <td>2020</td>\n",
       "      <td>2020-01-24</td>\n",
       "      <td>146</td>\n",
       "      <td>9204790</td>\n",
       "      <td>12589965</td>\n",
       "      <td>10339127.0</td>\n",
       "      <td>NaN</td>\n",
       "      <td>...</td>\n",
       "      <td>8.0</td>\n",
       "      <td>15</td>\n",
       "      <td>Two rival dance groups from India and Pakistan...</td>\n",
       "      <td>ABCD Collection</td>\n",
       "      <td>Drama,Music</td>\n",
       "      <td>T-Series, UTV Motion Pictures, Dance Film Comp...</td>\n",
       "      <td>3385175</td>\n",
       "      <td>0.367762</td>\n",
       "      <td>1</td>\n",
       "      <td>dump months</td>\n",
       "    </tr>\n",
       "    <tr>\n",
       "      <th>25772</th>\n",
       "      <td>tt9742392</td>\n",
       "      <td>Kindred</td>\n",
       "      <td>Kindred</td>\n",
       "      <td>2020</td>\n",
       "      <td>2020-11-06</td>\n",
       "      <td>101</td>\n",
       "      <td>3000000</td>\n",
       "      <td>8921</td>\n",
       "      <td>NaN</td>\n",
       "      <td>8921.0</td>\n",
       "      <td>...</td>\n",
       "      <td>6.3</td>\n",
       "      <td>5</td>\n",
       "      <td>When her boyfriend Ben suddenly dies in an acc...</td>\n",
       "      <td>NaN</td>\n",
       "      <td>Drama,Horror,Mystery</td>\n",
       "      <td>Reiver Pictures, IFC Midnight, Head Gear Films...</td>\n",
       "      <td>-2991079</td>\n",
       "      <td>-0.997026</td>\n",
       "      <td>11</td>\n",
       "      <td>holidays</td>\n",
       "    </tr>\n",
       "    <tr>\n",
       "      <th>25792</th>\n",
       "      <td>tt9770150</td>\n",
       "      <td>Nomadland</td>\n",
       "      <td>Nomadland</td>\n",
       "      <td>2020</td>\n",
       "      <td>2020-12-26</td>\n",
       "      <td>107</td>\n",
       "      <td>5000000</td>\n",
       "      <td>1414069</td>\n",
       "      <td>178069.0</td>\n",
       "      <td>1236000.0</td>\n",
       "      <td>...</td>\n",
       "      <td>7.6</td>\n",
       "      <td>276</td>\n",
       "      <td>A woman in her sixties embarks on a journey th...</td>\n",
       "      <td>NaN</td>\n",
       "      <td>Drama</td>\n",
       "      <td>Cor Cordium Productions, Hear/Say Productions,...</td>\n",
       "      <td>-3585931</td>\n",
       "      <td>-0.717186</td>\n",
       "      <td>12</td>\n",
       "      <td>holidays</td>\n",
       "    </tr>\n",
       "    <tr>\n",
       "      <th>25878</th>\n",
       "      <td>tt9877170</td>\n",
       "      <td>Malang</td>\n",
       "      <td>Malang - Unleash the Madness</td>\n",
       "      <td>2020</td>\n",
       "      <td>2020-02-06</td>\n",
       "      <td>135</td>\n",
       "      <td>7907534</td>\n",
       "      <td>11136444</td>\n",
       "      <td>8399765.0</td>\n",
       "      <td>NaN</td>\n",
       "      <td>...</td>\n",
       "      <td>7.3</td>\n",
       "      <td>24</td>\n",
       "      <td>Advait visits Goa where he meets Sara, a free-...</td>\n",
       "      <td>NaN</td>\n",
       "      <td>Action,Crime,Drama</td>\n",
       "      <td>LUV Films, T-Series, TOABH Talent Management</td>\n",
       "      <td>3228910</td>\n",
       "      <td>0.408333</td>\n",
       "      <td>2</td>\n",
       "      <td>dump months</td>\n",
       "    </tr>\n",
       "  </tbody>\n",
       "</table>\n",
       "<p>118 rows × 21 columns</p>\n",
       "</div>"
      ],
      "text/plain": [
       "          imdb_id           primaryTitle                 originalTitle  \\\n",
       "825     tt0783640  The Last Full Measure         The Last Full Measure   \n",
       "2009    tt0983946         Fantasy Island                Fantasy Island   \n",
       "2230   tt10044182                Block Z                       Block Z   \n",
       "2237   tt10059518               Unhinged                      Unhinged   \n",
       "2239   tt10065694             Antebellum                    Antebellum   \n",
       "...           ...                    ...                           ...   \n",
       "25670   tt9624766              Jiu Jitsu                     Jiu Jitsu   \n",
       "25697   tt9648672       Street Dancer 3D              Street Dancer 3D   \n",
       "25772   tt9742392                Kindred                       Kindred   \n",
       "25792   tt9770150              Nomadland                     Nomadland   \n",
       "25878   tt9877170                 Malang  Malang - Unleash the Madness   \n",
       "\n",
       "       startYear release_date  runtimeMinutes    budget  world_collection  \\\n",
       "825         2019   2020-01-23             116  20000000           3364426   \n",
       "2009        2020   2020-02-12             109   7000000          48811343   \n",
       "2230        2020   2020-01-29             101    646955            709452   \n",
       "2237        2020   2020-07-16              90  33000000          43249465   \n",
       "2239        2020   2020-09-02             105  15000000           6852361   \n",
       "...          ...          ...             ...       ...               ...   \n",
       "25670       2020   2020-11-20             102  23000000          74000000   \n",
       "25697       2020   2020-01-24             146   9204790          12589965   \n",
       "25772       2020   2020-11-06             101   3000000              8921   \n",
       "25792       2020   2020-12-26             107   5000000           1414069   \n",
       "25878       2020   2020-02-06             135   7907534          11136444   \n",
       "\n",
       "       int_collection  dom_collection  ...  vote_average  vote_count  \\\n",
       "825          415214.0       2949212.0  ...           7.7         247   \n",
       "2009       21502054.0      27309289.0  ...           6.1        1450   \n",
       "2230              NaN             NaN  ...           8.0           6   \n",
       "2237       22418000.0      20831465.0  ...           6.5         666   \n",
       "2239        6852361.0             NaN  ...           6.3         433   \n",
       "...               ...             ...  ...           ...         ...   \n",
       "25670         99924.0             NaN  ...           5.3         313   \n",
       "25697      10339127.0             NaN  ...           8.0          15   \n",
       "25772             NaN          8921.0  ...           6.3           5   \n",
       "25792        178069.0       1236000.0  ...           7.6         276   \n",
       "25878       8399765.0             NaN  ...           7.3          24   \n",
       "\n",
       "                                                overview  \\\n",
       "825    The incredible true story of Vietnam War hero ...   \n",
       "2009   A group of contest winners arrive at an island...   \n",
       "2230   A pre-med student and her friends encounter th...   \n",
       "2237   A divorced mother honks impatiently at a deran...   \n",
       "2239   Successful author Veronica finds herself trapp...   \n",
       "...                                                  ...   \n",
       "25670  Every six years, an ancient order of jiu-jitsu...   \n",
       "25697  Two rival dance groups from India and Pakistan...   \n",
       "25772  When her boyfriend Ben suddenly dies in an acc...   \n",
       "25792  A woman in her sixties embarks on a journey th...   \n",
       "25878  Advait visits Goa where he meets Sara, a free-...   \n",
       "\n",
       "      belongs_to_collection.name                    genres  \\\n",
       "825                          NaN                 Drama,War   \n",
       "2009                         NaN  Action,Adventure,Fantasy   \n",
       "2230                         NaN    Action,Horror,Thriller   \n",
       "2237                         NaN           Action,Thriller   \n",
       "2239                         NaN      Drama,Horror,Mystery   \n",
       "...                          ...                       ...   \n",
       "25670                        NaN     Action,Comedy,Fantasy   \n",
       "25697            ABCD Collection               Drama,Music   \n",
       "25772                        NaN      Drama,Horror,Mystery   \n",
       "25792                        NaN                     Drama   \n",
       "25878                        NaN        Action,Crime,Drama   \n",
       "\n",
       "                                         production_comp       ROI  \\\n",
       "825    Foresight Unlimited, Provocator, SSS Entertain... -16635574   \n",
       "2009            Blumhouse Productions, Columbia Pictures  41811343   \n",
       "2230   Star Cinema – ABS-CBN Film Productions, Keep F...     62497   \n",
       "2237   Solstice Productions, Burek Films, Ingenious M...  10249465   \n",
       "2239   Lionsgate, QC Entertainment, Metropolitan Film...  -8147639   \n",
       "...                                                  ...       ...   \n",
       "25670  Acme Rocket Fuel, Green Olive Films, Double Tr...  51000000   \n",
       "25697  T-Series, UTV Motion Pictures, Dance Film Comp...   3385175   \n",
       "25772  Reiver Pictures, IFC Midnight, Head Gear Films...  -2991079   \n",
       "25792  Cor Cordium Productions, Hear/Say Productions,...  -3585931   \n",
       "25878       LUV Films, T-Series, TOABH Talent Management   3228910   \n",
       "\n",
       "       ROI_percentage  release_year  release_timing  \n",
       "825         -0.831779             1     dump months  \n",
       "2009         5.973049             2     dump months  \n",
       "2230         0.096602             1     dump months  \n",
       "2237         0.310590             7          summer  \n",
       "2239        -0.543176             9     dump months  \n",
       "...               ...           ...             ...  \n",
       "25670        2.217391            11        holidays  \n",
       "25697        0.367762             1     dump months  \n",
       "25772       -0.997026            11        holidays  \n",
       "25792       -0.717186            12        holidays  \n",
       "25878        0.408333             2     dump months  \n",
       "\n",
       "[118 rows x 21 columns]"
      ]
     },
     "execution_count": 253,
     "metadata": {},
     "output_type": "execute_result"
    }
   ],
   "source": [
    "tt"
   ]
  },
  {
   "cell_type": "code",
   "execution_count": null,
   "metadata": {},
   "outputs": [],
   "source": []
  }
 ],
 "metadata": {
  "kernelspec": {
   "display_name": "Python 3",
   "language": "python",
   "name": "python3"
  },
  "language_info": {
   "codemirror_mode": {
    "name": "ipython",
    "version": 3
   },
   "file_extension": ".py",
   "mimetype": "text/x-python",
   "name": "python",
   "nbconvert_exporter": "python",
   "pygments_lexer": "ipython3",
   "version": "3.8.5"
  },
  "toc": {
   "base_numbering": 1,
   "nav_menu": {},
   "number_sections": true,
   "sideBar": true,
   "skip_h1_title": false,
   "title_cell": "Table of Contents",
   "title_sidebar": "Contents",
   "toc_cell": false,
   "toc_position": {},
   "toc_section_display": true,
   "toc_window_display": false
  },
  "varInspector": {
   "cols": {
    "lenName": 16,
    "lenType": 16,
    "lenVar": 40
   },
   "kernels_config": {
    "python": {
     "delete_cmd_postfix": "",
     "delete_cmd_prefix": "del ",
     "library": "var_list.py",
     "varRefreshCmd": "print(var_dic_list())"
    },
    "r": {
     "delete_cmd_postfix": ") ",
     "delete_cmd_prefix": "rm(",
     "library": "var_list.r",
     "varRefreshCmd": "cat(var_dic_list()) "
    }
   },
   "types_to_exclude": [
    "module",
    "function",
    "builtin_function_or_method",
    "instance",
    "_Feature"
   ],
   "window_display": false
  }
 },
 "nbformat": 4,
 "nbformat_minor": 4
}
